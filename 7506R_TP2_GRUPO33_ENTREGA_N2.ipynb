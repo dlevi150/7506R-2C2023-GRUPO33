{
  "nbformat": 4,
  "nbformat_minor": 0,
  "metadata": {
    "colab": {
      "provenance": [],
      "collapsed_sections": [
        "MKYQs2e8bLRJ"
      ]
    },
    "kernelspec": {
      "name": "python3",
      "display_name": "Python 3"
    },
    "language_info": {
      "name": "python"
    }
  },
  "cells": [
    {
      "cell_type": "markdown",
      "source": [
        "# TP2: Random Forest\n",
        "___\n",
        "Lucas Nahuel Raimondi\n",
        "\n",
        "Manuel Davila\n",
        "\n",
        "Dolores Levi"
      ],
      "metadata": {
        "id": "jjVncyhebBV_"
      }
    },
    {
      "cell_type": "markdown",
      "source": [
        "# Imports"
      ],
      "metadata": {
        "id": "MKYQs2e8bLRJ"
      }
    },
    {
      "cell_type": "code",
      "execution_count": 75,
      "metadata": {
        "id": "tY03QtamZAhE"
      },
      "outputs": [],
      "source": [
        "import pandas as pd\n",
        "import numpy as np\n",
        "from sklearn.model_selection import train_test_split\n",
        "from sklearn.feature_extraction.text import CountVectorizer, TfidfTransformer, TfidfVectorizer\n",
        "\n",
        "\n",
        "from sklearn.ensemble import RandomForestClassifier\n",
        "\n",
        "from sklearn.metrics import precision_score, recall_score, accuracy_score,f1_score#, precision_recall_curve, roc_curve,\n",
        "from sklearn.metrics import confusion_matrix, classification_report\n",
        "\n",
        "from sklearn.pipeline import make_pipeline\n",
        "\n",
        "import matplotlib.pyplot as plt\n",
        "import seaborn as sns"
      ]
    },
    {
      "cell_type": "code",
      "source": [
        "!wget https://raw.githubusercontent.com/dlevi150/7506R-2C2023-GRUPO33/main/TP2/datasets/train.csv"
      ],
      "metadata": {
        "id": "AkcKikB5W71l",
        "colab": {
          "base_uri": "https://localhost:8080/"
        },
        "outputId": "867f601c-c3b0-4719-efb6-8ecd0c70f868"
      },
      "execution_count": 76,
      "outputs": [
        {
          "output_type": "stream",
          "name": "stdout",
          "text": [
            "--2023-12-07 22:47:18--  https://raw.githubusercontent.com/dlevi150/7506R-2C2023-GRUPO33/main/TP2/datasets/train.csv\n",
            "Resolving raw.githubusercontent.com (raw.githubusercontent.com)... 185.199.108.133, 185.199.109.133, 185.199.111.133, ...\n",
            "Connecting to raw.githubusercontent.com (raw.githubusercontent.com)|185.199.108.133|:443... connected.\n",
            "HTTP request sent, awaiting response... 200 OK\n",
            "Length: 72229641 (69M) [text/plain]\n",
            "Saving to: ‘train.csv.4’\n",
            "\n",
            "train.csv.4         100%[===================>]  68.88M  86.3MB/s    in 0.8s    \n",
            "\n",
            "2023-12-07 22:47:19 (86.3 MB/s) - ‘train.csv.4’ saved [72229641/72229641]\n",
            "\n"
          ]
        }
      ]
    },
    {
      "cell_type": "code",
      "source": [
        "!wget https://raw.githubusercontent.com/dlevi150/7506R-2C2023-GRUPO33/main/TP2/datasets/test.csv"
      ],
      "metadata": {
        "id": "2WpqJI7PXLhP",
        "colab": {
          "base_uri": "https://localhost:8080/"
        },
        "outputId": "f3e5518d-9573-4ee3-eac7-5e0ead8f707e"
      },
      "execution_count": 77,
      "outputs": [
        {
          "output_type": "stream",
          "name": "stdout",
          "text": [
            "--2023-12-07 22:47:19--  https://raw.githubusercontent.com/dlevi150/7506R-2C2023-GRUPO33/main/TP2/datasets/test.csv\n",
            "Resolving raw.githubusercontent.com (raw.githubusercontent.com)... 185.199.110.133, 185.199.111.133, 185.199.108.133, ...\n",
            "Connecting to raw.githubusercontent.com (raw.githubusercontent.com)|185.199.110.133|:443... connected.\n",
            "HTTP request sent, awaiting response... 200 OK\n",
            "Length: 11054515 (11M) [text/plain]\n",
            "Saving to: ‘test.csv.4’\n",
            "\n",
            "test.csv.4          100%[===================>]  10.54M  31.6MB/s    in 0.3s    \n",
            "\n",
            "2023-12-07 22:47:20 (31.6 MB/s) - ‘test.csv.4’ saved [11054515/11054515]\n",
            "\n"
          ]
        }
      ]
    },
    {
      "cell_type": "markdown",
      "source": [
        "# Preprocesamiento"
      ],
      "metadata": {
        "id": "58cwAkqcbNLj"
      }
    },
    {
      "cell_type": "code",
      "source": [
        "df = pd.read_csv('train.csv')\n",
        "df_filtrado = df.copy()"
      ],
      "metadata": {
        "id": "zGnYIf9PZfEL"
      },
      "execution_count": 78,
      "outputs": []
    },
    {
      "cell_type": "code",
      "source": [
        "df_filtrado['sentimiento_encodeado'] = df_filtrado['sentimiento'].map({'positivo': 1, 'negativo': 0})\n",
        "df_filtrado"
      ],
      "metadata": {
        "colab": {
          "base_uri": "https://localhost:8080/",
          "height": 423
        },
        "id": "E6S7NEmVRl6p",
        "outputId": "0e5b0b41-abdf-478a-e70c-c1e551105078"
      },
      "execution_count": 79,
      "outputs": [
        {
          "output_type": "execute_result",
          "data": {
            "text/plain": [
              "          ID                                          review_es sentimiento  \\\n",
              "0          0  Uno de los otros críticos ha mencionado que de...    positivo   \n",
              "1          1  Una pequeña pequeña producción.La técnica de f...    positivo   \n",
              "2          2  Pensé que esta era una manera maravillosa de p...    positivo   \n",
              "3          3  Básicamente, hay una familia donde un niño peq...    negativo   \n",
              "4          4  El \"amor en el tiempo\" de Petter Mattei es una...    positivo   \n",
              "...      ...                                                ...         ...   \n",
              "49995  49995  Pensé que esta película hizo un buen trabajo a...    positivo   \n",
              "49996  49996  Mala parcela, mal diálogo, mala actuación, dir...    negativo   \n",
              "49997  49997  Soy católica enseñada en escuelas primarias pa...    negativo   \n",
              "49998  49998  Voy a tener que estar en desacuerdo con el com...    negativo   \n",
              "49999  49999  Nadie espera que las películas de Star Trek se...    negativo   \n",
              "\n",
              "       sentimiento_encodeado  \n",
              "0                          1  \n",
              "1                          1  \n",
              "2                          1  \n",
              "3                          0  \n",
              "4                          1  \n",
              "...                      ...  \n",
              "49995                      1  \n",
              "49996                      0  \n",
              "49997                      0  \n",
              "49998                      0  \n",
              "49999                      0  \n",
              "\n",
              "[50000 rows x 4 columns]"
            ],
            "text/html": [
              "\n",
              "  <div id=\"df-bc62bb74-a111-401a-a44d-66d4e7f39142\" class=\"colab-df-container\">\n",
              "    <div>\n",
              "<style scoped>\n",
              "    .dataframe tbody tr th:only-of-type {\n",
              "        vertical-align: middle;\n",
              "    }\n",
              "\n",
              "    .dataframe tbody tr th {\n",
              "        vertical-align: top;\n",
              "    }\n",
              "\n",
              "    .dataframe thead th {\n",
              "        text-align: right;\n",
              "    }\n",
              "</style>\n",
              "<table border=\"1\" class=\"dataframe\">\n",
              "  <thead>\n",
              "    <tr style=\"text-align: right;\">\n",
              "      <th></th>\n",
              "      <th>ID</th>\n",
              "      <th>review_es</th>\n",
              "      <th>sentimiento</th>\n",
              "      <th>sentimiento_encodeado</th>\n",
              "    </tr>\n",
              "  </thead>\n",
              "  <tbody>\n",
              "    <tr>\n",
              "      <th>0</th>\n",
              "      <td>0</td>\n",
              "      <td>Uno de los otros críticos ha mencionado que de...</td>\n",
              "      <td>positivo</td>\n",
              "      <td>1</td>\n",
              "    </tr>\n",
              "    <tr>\n",
              "      <th>1</th>\n",
              "      <td>1</td>\n",
              "      <td>Una pequeña pequeña producción.La técnica de f...</td>\n",
              "      <td>positivo</td>\n",
              "      <td>1</td>\n",
              "    </tr>\n",
              "    <tr>\n",
              "      <th>2</th>\n",
              "      <td>2</td>\n",
              "      <td>Pensé que esta era una manera maravillosa de p...</td>\n",
              "      <td>positivo</td>\n",
              "      <td>1</td>\n",
              "    </tr>\n",
              "    <tr>\n",
              "      <th>3</th>\n",
              "      <td>3</td>\n",
              "      <td>Básicamente, hay una familia donde un niño peq...</td>\n",
              "      <td>negativo</td>\n",
              "      <td>0</td>\n",
              "    </tr>\n",
              "    <tr>\n",
              "      <th>4</th>\n",
              "      <td>4</td>\n",
              "      <td>El \"amor en el tiempo\" de Petter Mattei es una...</td>\n",
              "      <td>positivo</td>\n",
              "      <td>1</td>\n",
              "    </tr>\n",
              "    <tr>\n",
              "      <th>...</th>\n",
              "      <td>...</td>\n",
              "      <td>...</td>\n",
              "      <td>...</td>\n",
              "      <td>...</td>\n",
              "    </tr>\n",
              "    <tr>\n",
              "      <th>49995</th>\n",
              "      <td>49995</td>\n",
              "      <td>Pensé que esta película hizo un buen trabajo a...</td>\n",
              "      <td>positivo</td>\n",
              "      <td>1</td>\n",
              "    </tr>\n",
              "    <tr>\n",
              "      <th>49996</th>\n",
              "      <td>49996</td>\n",
              "      <td>Mala parcela, mal diálogo, mala actuación, dir...</td>\n",
              "      <td>negativo</td>\n",
              "      <td>0</td>\n",
              "    </tr>\n",
              "    <tr>\n",
              "      <th>49997</th>\n",
              "      <td>49997</td>\n",
              "      <td>Soy católica enseñada en escuelas primarias pa...</td>\n",
              "      <td>negativo</td>\n",
              "      <td>0</td>\n",
              "    </tr>\n",
              "    <tr>\n",
              "      <th>49998</th>\n",
              "      <td>49998</td>\n",
              "      <td>Voy a tener que estar en desacuerdo con el com...</td>\n",
              "      <td>negativo</td>\n",
              "      <td>0</td>\n",
              "    </tr>\n",
              "    <tr>\n",
              "      <th>49999</th>\n",
              "      <td>49999</td>\n",
              "      <td>Nadie espera que las películas de Star Trek se...</td>\n",
              "      <td>negativo</td>\n",
              "      <td>0</td>\n",
              "    </tr>\n",
              "  </tbody>\n",
              "</table>\n",
              "<p>50000 rows × 4 columns</p>\n",
              "</div>\n",
              "    <div class=\"colab-df-buttons\">\n",
              "\n",
              "  <div class=\"colab-df-container\">\n",
              "    <button class=\"colab-df-convert\" onclick=\"convertToInteractive('df-bc62bb74-a111-401a-a44d-66d4e7f39142')\"\n",
              "            title=\"Convert this dataframe to an interactive table.\"\n",
              "            style=\"display:none;\">\n",
              "\n",
              "  <svg xmlns=\"http://www.w3.org/2000/svg\" height=\"24px\" viewBox=\"0 -960 960 960\">\n",
              "    <path d=\"M120-120v-720h720v720H120Zm60-500h600v-160H180v160Zm220 220h160v-160H400v160Zm0 220h160v-160H400v160ZM180-400h160v-160H180v160Zm440 0h160v-160H620v160ZM180-180h160v-160H180v160Zm440 0h160v-160H620v160Z\"/>\n",
              "  </svg>\n",
              "    </button>\n",
              "\n",
              "  <style>\n",
              "    .colab-df-container {\n",
              "      display:flex;\n",
              "      gap: 12px;\n",
              "    }\n",
              "\n",
              "    .colab-df-convert {\n",
              "      background-color: #E8F0FE;\n",
              "      border: none;\n",
              "      border-radius: 50%;\n",
              "      cursor: pointer;\n",
              "      display: none;\n",
              "      fill: #1967D2;\n",
              "      height: 32px;\n",
              "      padding: 0 0 0 0;\n",
              "      width: 32px;\n",
              "    }\n",
              "\n",
              "    .colab-df-convert:hover {\n",
              "      background-color: #E2EBFA;\n",
              "      box-shadow: 0px 1px 2px rgba(60, 64, 67, 0.3), 0px 1px 3px 1px rgba(60, 64, 67, 0.15);\n",
              "      fill: #174EA6;\n",
              "    }\n",
              "\n",
              "    .colab-df-buttons div {\n",
              "      margin-bottom: 4px;\n",
              "    }\n",
              "\n",
              "    [theme=dark] .colab-df-convert {\n",
              "      background-color: #3B4455;\n",
              "      fill: #D2E3FC;\n",
              "    }\n",
              "\n",
              "    [theme=dark] .colab-df-convert:hover {\n",
              "      background-color: #434B5C;\n",
              "      box-shadow: 0px 1px 3px 1px rgba(0, 0, 0, 0.15);\n",
              "      filter: drop-shadow(0px 1px 2px rgba(0, 0, 0, 0.3));\n",
              "      fill: #FFFFFF;\n",
              "    }\n",
              "  </style>\n",
              "\n",
              "    <script>\n",
              "      const buttonEl =\n",
              "        document.querySelector('#df-bc62bb74-a111-401a-a44d-66d4e7f39142 button.colab-df-convert');\n",
              "      buttonEl.style.display =\n",
              "        google.colab.kernel.accessAllowed ? 'block' : 'none';\n",
              "\n",
              "      async function convertToInteractive(key) {\n",
              "        const element = document.querySelector('#df-bc62bb74-a111-401a-a44d-66d4e7f39142');\n",
              "        const dataTable =\n",
              "          await google.colab.kernel.invokeFunction('convertToInteractive',\n",
              "                                                    [key], {});\n",
              "        if (!dataTable) return;\n",
              "\n",
              "        const docLinkHtml = 'Like what you see? Visit the ' +\n",
              "          '<a target=\"_blank\" href=https://colab.research.google.com/notebooks/data_table.ipynb>data table notebook</a>'\n",
              "          + ' to learn more about interactive tables.';\n",
              "        element.innerHTML = '';\n",
              "        dataTable['output_type'] = 'display_data';\n",
              "        await google.colab.output.renderOutput(dataTable, element);\n",
              "        const docLink = document.createElement('div');\n",
              "        docLink.innerHTML = docLinkHtml;\n",
              "        element.appendChild(docLink);\n",
              "      }\n",
              "    </script>\n",
              "  </div>\n",
              "\n",
              "\n",
              "<div id=\"df-e4996138-e64c-4b6c-920d-c29e35573a72\">\n",
              "  <button class=\"colab-df-quickchart\" onclick=\"quickchart('df-e4996138-e64c-4b6c-920d-c29e35573a72')\"\n",
              "            title=\"Suggest charts\"\n",
              "            style=\"display:none;\">\n",
              "\n",
              "<svg xmlns=\"http://www.w3.org/2000/svg\" height=\"24px\"viewBox=\"0 0 24 24\"\n",
              "     width=\"24px\">\n",
              "    <g>\n",
              "        <path d=\"M19 3H5c-1.1 0-2 .9-2 2v14c0 1.1.9 2 2 2h14c1.1 0 2-.9 2-2V5c0-1.1-.9-2-2-2zM9 17H7v-7h2v7zm4 0h-2V7h2v10zm4 0h-2v-4h2v4z\"/>\n",
              "    </g>\n",
              "</svg>\n",
              "  </button>\n",
              "\n",
              "<style>\n",
              "  .colab-df-quickchart {\n",
              "      --bg-color: #E8F0FE;\n",
              "      --fill-color: #1967D2;\n",
              "      --hover-bg-color: #E2EBFA;\n",
              "      --hover-fill-color: #174EA6;\n",
              "      --disabled-fill-color: #AAA;\n",
              "      --disabled-bg-color: #DDD;\n",
              "  }\n",
              "\n",
              "  [theme=dark] .colab-df-quickchart {\n",
              "      --bg-color: #3B4455;\n",
              "      --fill-color: #D2E3FC;\n",
              "      --hover-bg-color: #434B5C;\n",
              "      --hover-fill-color: #FFFFFF;\n",
              "      --disabled-bg-color: #3B4455;\n",
              "      --disabled-fill-color: #666;\n",
              "  }\n",
              "\n",
              "  .colab-df-quickchart {\n",
              "    background-color: var(--bg-color);\n",
              "    border: none;\n",
              "    border-radius: 50%;\n",
              "    cursor: pointer;\n",
              "    display: none;\n",
              "    fill: var(--fill-color);\n",
              "    height: 32px;\n",
              "    padding: 0;\n",
              "    width: 32px;\n",
              "  }\n",
              "\n",
              "  .colab-df-quickchart:hover {\n",
              "    background-color: var(--hover-bg-color);\n",
              "    box-shadow: 0 1px 2px rgba(60, 64, 67, 0.3), 0 1px 3px 1px rgba(60, 64, 67, 0.15);\n",
              "    fill: var(--button-hover-fill-color);\n",
              "  }\n",
              "\n",
              "  .colab-df-quickchart-complete:disabled,\n",
              "  .colab-df-quickchart-complete:disabled:hover {\n",
              "    background-color: var(--disabled-bg-color);\n",
              "    fill: var(--disabled-fill-color);\n",
              "    box-shadow: none;\n",
              "  }\n",
              "\n",
              "  .colab-df-spinner {\n",
              "    border: 2px solid var(--fill-color);\n",
              "    border-color: transparent;\n",
              "    border-bottom-color: var(--fill-color);\n",
              "    animation:\n",
              "      spin 1s steps(1) infinite;\n",
              "  }\n",
              "\n",
              "  @keyframes spin {\n",
              "    0% {\n",
              "      border-color: transparent;\n",
              "      border-bottom-color: var(--fill-color);\n",
              "      border-left-color: var(--fill-color);\n",
              "    }\n",
              "    20% {\n",
              "      border-color: transparent;\n",
              "      border-left-color: var(--fill-color);\n",
              "      border-top-color: var(--fill-color);\n",
              "    }\n",
              "    30% {\n",
              "      border-color: transparent;\n",
              "      border-left-color: var(--fill-color);\n",
              "      border-top-color: var(--fill-color);\n",
              "      border-right-color: var(--fill-color);\n",
              "    }\n",
              "    40% {\n",
              "      border-color: transparent;\n",
              "      border-right-color: var(--fill-color);\n",
              "      border-top-color: var(--fill-color);\n",
              "    }\n",
              "    60% {\n",
              "      border-color: transparent;\n",
              "      border-right-color: var(--fill-color);\n",
              "    }\n",
              "    80% {\n",
              "      border-color: transparent;\n",
              "      border-right-color: var(--fill-color);\n",
              "      border-bottom-color: var(--fill-color);\n",
              "    }\n",
              "    90% {\n",
              "      border-color: transparent;\n",
              "      border-bottom-color: var(--fill-color);\n",
              "    }\n",
              "  }\n",
              "</style>\n",
              "\n",
              "  <script>\n",
              "    async function quickchart(key) {\n",
              "      const quickchartButtonEl =\n",
              "        document.querySelector('#' + key + ' button');\n",
              "      quickchartButtonEl.disabled = true;  // To prevent multiple clicks.\n",
              "      quickchartButtonEl.classList.add('colab-df-spinner');\n",
              "      try {\n",
              "        const charts = await google.colab.kernel.invokeFunction(\n",
              "            'suggestCharts', [key], {});\n",
              "      } catch (error) {\n",
              "        console.error('Error during call to suggestCharts:', error);\n",
              "      }\n",
              "      quickchartButtonEl.classList.remove('colab-df-spinner');\n",
              "      quickchartButtonEl.classList.add('colab-df-quickchart-complete');\n",
              "    }\n",
              "    (() => {\n",
              "      let quickchartButtonEl =\n",
              "        document.querySelector('#df-e4996138-e64c-4b6c-920d-c29e35573a72 button');\n",
              "      quickchartButtonEl.style.display =\n",
              "        google.colab.kernel.accessAllowed ? 'block' : 'none';\n",
              "    })();\n",
              "  </script>\n",
              "</div>\n",
              "    </div>\n",
              "  </div>\n"
            ]
          },
          "metadata": {},
          "execution_count": 79
        }
      ]
    },
    {
      "cell_type": "code",
      "source": [
        "df_filtrado['sentimiento_encodeado'].value_counts()"
      ],
      "metadata": {
        "colab": {
          "base_uri": "https://localhost:8080/"
        },
        "id": "8PuDqtwUrT3e",
        "outputId": "9c248e8e-aa14-4cb4-d64a-efa1d742ca95"
      },
      "execution_count": 80,
      "outputs": [
        {
          "output_type": "execute_result",
          "data": {
            "text/plain": [
              "1    25000\n",
              "0    25000\n",
              "Name: sentimiento_encodeado, dtype: int64"
            ]
          },
          "metadata": {},
          "execution_count": 80
        }
      ]
    },
    {
      "cell_type": "markdown",
      "source": [
        "## Deteccion de Lenguajes"
      ],
      "metadata": {
        "id": "j_ZYJm0wbQ5I"
      }
    },
    {
      "cell_type": "code",
      "source": [
        "!pip install langdetect"
      ],
      "metadata": {
        "colab": {
          "base_uri": "https://localhost:8080/"
        },
        "id": "Ij8ZPlVmlqtP",
        "outputId": "959afadd-469d-40a3-8281-82ed9db02763"
      },
      "execution_count": 81,
      "outputs": [
        {
          "output_type": "stream",
          "name": "stdout",
          "text": [
            "Requirement already satisfied: langdetect in /usr/local/lib/python3.10/dist-packages (1.0.9)\n",
            "Requirement already satisfied: six in /usr/local/lib/python3.10/dist-packages (from langdetect) (1.16.0)\n"
          ]
        }
      ]
    },
    {
      "cell_type": "code",
      "source": [
        "from langdetect import detect\n",
        "\n",
        "for i, row in df_filtrado.iterrows():\n",
        "  df_filtrado.loc[i,'lang'] = detect(row.review_es)"
      ],
      "metadata": {
        "id": "4axRsohUlrYR"
      },
      "execution_count": 82,
      "outputs": []
    },
    {
      "cell_type": "code",
      "source": [
        "df_filtrado.query('lang != \"es\"')\n",
        "df_filtrado = df_filtrado.loc[df_filtrado.lang == 'es']"
      ],
      "metadata": {
        "id": "NMzqHFyclvCR"
      },
      "execution_count": 83,
      "outputs": []
    },
    {
      "cell_type": "markdown",
      "source": [
        "# Entrenamiento"
      ],
      "metadata": {
        "id": "zXTTx_-7bT7F"
      }
    },
    {
      "cell_type": "code",
      "source": [
        "x_train, x_test, y_train, y_test = train_test_split(df_filtrado.review_es,\n",
        "                                                    df_filtrado.sentimiento_encodeado,\n",
        "                                                    test_size = 0.3,\n",
        "                                                    random_state = 0,\n",
        "                                                    shuffle=True)"
      ],
      "metadata": {
        "id": "4v7g-UrxqXda"
      },
      "execution_count": 84,
      "outputs": []
    },
    {
      "cell_type": "code",
      "source": [
        "tf_idf = TfidfVectorizer(ngram_range = (1,2),\n",
        "                         min_df = 0.01,\n",
        "                         max_df = 0.5,\n",
        "                         lowercase = True)\n",
        "\n",
        "x_train_vectorizado = tf_idf.fit_transform(x_train)\n",
        "x_test_vectorizado = tf_idf.transform(x_test)"
      ],
      "metadata": {
        "id": "-biYFOGPR8cw"
      },
      "execution_count": 101,
      "outputs": []
    },
    {
      "cell_type": "code",
      "source": [
        "random_forest_model = RandomForestClassifier()\n",
        "#Entrenamos el modelo\n",
        "model = random_forest_model.fit(X = x_train_vectorizado, y = y_train)"
      ],
      "metadata": {
        "id": "l7hEWnhlsqZ2"
      },
      "execution_count": 102,
      "outputs": []
    },
    {
      "cell_type": "code",
      "source": [
        "y_pred = model.predict(x_test_vectorizado)\n",
        "#Valores Predichos\n",
        "y_pred"
      ],
      "metadata": {
        "colab": {
          "base_uri": "https://localhost:8080/"
        },
        "id": "pKVVif1Ds6mE",
        "outputId": "02cfd2de-c2a6-4007-b789-1d8cfb0b2c0b"
      },
      "execution_count": 103,
      "outputs": [
        {
          "output_type": "execute_result",
          "data": {
            "text/plain": [
              "array([1, 1, 0, ..., 1, 1, 0])"
            ]
          },
          "metadata": {},
          "execution_count": 103
        }
      ]
    },
    {
      "cell_type": "code",
      "source": [
        "tabla=confusion_matrix(y_test, y_pred)\n",
        "\n",
        "#Grafico la matriz de confusión\n",
        "sns.heatmap(tabla,cmap='GnBu',annot=True,fmt='g')\n",
        "plt.xlabel('Predicted')\n",
        "plt.ylabel('True')"
      ],
      "metadata": {
        "colab": {
          "base_uri": "https://localhost:8080/",
          "height": 472
        },
        "id": "Vt1PIu6GuZcu",
        "outputId": "4d517d95-015c-4ebd-b340-08d3dc52189d"
      },
      "execution_count": 104,
      "outputs": [
        {
          "output_type": "execute_result",
          "data": {
            "text/plain": [
              "Text(50.722222222222214, 0.5, 'True')"
            ]
          },
          "metadata": {},
          "execution_count": 104
        },
        {
          "output_type": "display_data",
          "data": {
            "text/plain": [
              "<Figure size 640x480 with 2 Axes>"
            ],
            "image/png": "[encoded data removed]"
          },
          "metadata": {}
        }
      ]
    },
    {
      "cell_type": "code",
      "source": [
        "accuracy=accuracy_score(y_test,y_pred)\n",
        "recall=recall_score(y_test,y_pred)\n",
        "f1=f1_score(y_test,y_pred)\n",
        "precision=precision_score(y_test,y_pred)\n",
        "\n",
        "print(\"Accuracy: \"+str(accuracy))\n",
        "print(\"Recall: \"+str(recall))\n",
        "print(\"Precision: \"+str(precision))\n",
        "print(\"f1 score: \"+str(f1))"
      ],
      "metadata": {
        "colab": {
          "base_uri": "https://localhost:8080/"
        },
        "id": "sADpsJNcuc_N",
        "outputId": "e7c2a5de-3af5-4334-995f-a7595b74d28e"
      },
      "execution_count": 105,
      "outputs": [
        {
          "output_type": "stream",
          "name": "stdout",
          "text": [
            "Accuracy: 0.8274645451400899\n",
            "Recall: 0.8147388569866011\n",
            "Precision: 0.8395322626091857\n",
            "f1 score: 0.8269497640854844\n"
          ]
        }
      ]
    },
    {
      "cell_type": "code",
      "source": [
        "print(classification_report(y_test,y_pred))"
      ],
      "metadata": {
        "colab": {
          "base_uri": "https://localhost:8080/"
        },
        "id": "yyzcIoJCue2V",
        "outputId": "9332bce1-9537-499e-d9b6-56829a14c036"
      },
      "execution_count": 106,
      "outputs": [
        {
          "output_type": "stream",
          "name": "stdout",
          "text": [
            "              precision    recall  f1-score   support\n",
            "\n",
            "           0       0.82      0.84      0.83      7141\n",
            "           1       0.84      0.81      0.83      7314\n",
            "\n",
            "    accuracy                           0.83     14455\n",
            "   macro avg       0.83      0.83      0.83     14455\n",
            "weighted avg       0.83      0.83      0.83     14455\n",
            "\n"
          ]
        }
      ]
    },
    {
      "cell_type": "markdown",
      "source": [
        "# Prediccion"
      ],
      "metadata": {
        "id": "liC29IO9uigy"
      }
    },
    {
      "cell_type": "code",
      "source": [
        "df_test = pd.read_csv(\"test.csv\")"
      ],
      "metadata": {
        "id": "GCMK-UL1axsQ"
      },
      "execution_count": 107,
      "outputs": []
    },
    {
      "cell_type": "code",
      "source": [
        "df_test_filtrado = df_test.copy()"
      ],
      "metadata": {
        "id": "WHWo_pTDa0mB"
      },
      "execution_count": 108,
      "outputs": []
    },
    {
      "cell_type": "code",
      "source": [
        "test_vectorizado = tf_idf.transform(df_test_filtrado.review_es)\n",
        "test_pred = model.predict(test_vectorizado)"
      ],
      "metadata": {
        "id": "Owx2PHD3a2ES"
      },
      "execution_count": 109,
      "outputs": []
    },
    {
      "cell_type": "code",
      "source": [
        "test_pred"
      ],
      "metadata": {
        "colab": {
          "base_uri": "https://localhost:8080/"
        },
        "id": "V3-iNfsqa4-z",
        "outputId": "beffa085-2d1b-4e4d-9552-dded8885bc30"
      },
      "execution_count": 110,
      "outputs": [
        {
          "output_type": "execute_result",
          "data": {
            "text/plain": [
              "array([0, 1, 0, ..., 0, 0, 0])"
            ]
          },
          "metadata": {},
          "execution_count": 110
        }
      ]
    },
    {
      "cell_type": "code",
      "source": [
        "df_test_ids = df_test['ID']"
      ],
      "metadata": {
        "id": "oolL06USa9uZ"
      },
      "execution_count": 111,
      "outputs": []
    },
    {
      "cell_type": "code",
      "source": [
        "data = {'ID': df_test_ids, 'sentimiento': test_pred}\n",
        "df_final = pd.DataFrame(data)"
      ],
      "metadata": {
        "id": "BsRs6ASYbBfy"
      },
      "execution_count": 112,
      "outputs": []
    },
    {
      "cell_type": "code",
      "source": [
        "df_final['sentimiento'] = df_final['sentimiento'].map({1: 'positivo', 0: 'negativo'})"
      ],
      "metadata": {
        "id": "R5Wy65PsS956"
      },
      "execution_count": 113,
      "outputs": []
    },
    {
      "cell_type": "code",
      "source": [
        "df_final.to_csv('submission.csv', index=False)"
      ],
      "metadata": {
        "id": "dlRXHe4vbGcl"
      },
      "execution_count": 114,
      "outputs": []
    }
  ]
}