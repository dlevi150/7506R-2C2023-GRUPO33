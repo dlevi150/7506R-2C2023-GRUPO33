{
  "nbformat": 4,
  "nbformat_minor": 0,
  "metadata": {
    "colab": {
      "provenance": [],
      "collapsed_sections": [
        "aoVps4frze7d",
        "9X6gucH6z0MO",
        "x-Tu4b7509aV",
        "9hnVYSKy2OML",
        "Sp6yuOJCfQAV",
        "K-PAFdyMgc_C",
        "-AW-sUpjho59",
        "N3qS2t7Bn00V",
        "zb2OoAqdpf-9",
        "GWtrnxwxrX5X",
        "BWoYDro-uIZG"
      ]
    },
    "kernelspec": {
      "name": "python3",
      "display_name": "Python 3"
    },
    "language_info": {
      "name": "python"
    }
  },
  "cells": [
    {
      "cell_type": "markdown",
      "source": [
        "# Trabajo Practico 1: Reservas de Hotel\n",
        "## Checkpoint 1\n",
        "### Estudiantes\n",
        "- Dolores Levi 105993\n",
        "- Lucas Nahuel Raimondi 106007\n",
        "- Manuel Davila 106175\n",
        "___"
      ],
      "metadata": {
        "id": "DwCKJgYdyB49"
      }
    },
    {
      "cell_type": "code",
      "source": [
        "import pandas as pd\n",
        "from IPython.display import display\n",
        "from datetime import datetime\n",
        "import warnings\n",
        "warnings.simplefilter(action='ignore', category=FutureWarning)\n",
        "import matplotlib.pyplot as plt\n",
        "import seaborn as sns\n",
        "import numpy as np\n",
        "\n",
        "#sklearn\n",
        "from sklearn.experimental import enable_iterative_imputer\n",
        "from sklearn.impute import IterativeImputer\n",
        "from sklearn.linear_model import LinearRegression"
      ],
      "metadata": {
        "id": "2H9K6W9Wx9W8"
      },
      "execution_count": 523,
      "outputs": []
    },
    {
      "cell_type": "code",
      "source": [
        "!wget https://raw.githubusercontent.com/dlevi150/7506R-2C2023-GRUPO33/main/CHP1/datasets/hotels_train.csv\n",
        "\n",
        "df = pd.read_csv('hotels_train.csv')\n",
        "df_filtrado = df.copy()"
      ],
      "metadata": {
        "id": "kzTNtByYy1W_",
        "colab": {
          "base_uri": "https://localhost:8080/"
        },
        "outputId": "7374301e-9472-4c51-bdc7-4dad17ac49e9"
      },
      "execution_count": 524,
      "outputs": [
        {
          "output_type": "stream",
          "name": "stdout",
          "text": [
            "--2023-09-22 02:39:09--  https://raw.githubusercontent.com/dlevi150/7506R-2C2023-GRUPO33/main/CHP1/datasets/hotels_train.csv\n",
            "Resolving raw.githubusercontent.com (raw.githubusercontent.com)... 185.199.108.133, 185.199.109.133, 185.199.110.133, ...\n",
            "Connecting to raw.githubusercontent.com (raw.githubusercontent.com)|185.199.108.133|:443... connected.\n",
            "HTTP request sent, awaiting response... 200 OK\n",
            "Length: 9788953 (9.3M) [text/plain]\n",
            "Saving to: ‘hotels_train.csv.2’\n",
            "\n",
            "\rhotels_train.csv.2    0%[                    ]       0  --.-KB/s               \rhotels_train.csv.2  100%[===================>]   9.33M  61.8MB/s    in 0.2s    \n",
            "\n",
            "2023-09-22 02:39:09 (61.8 MB/s) - ‘hotels_train.csv.2’ saved [9788953/9788953]\n",
            "\n"
          ]
        }
      ]
    },
    {
      "cell_type": "markdown",
      "source": [
        "# Exploracion Inicial de Datos\n",
        "___"
      ],
      "metadata": {
        "id": "KPYkEr6xyMkf"
      }
    },
    {
      "cell_type": "markdown",
      "source": [
        "Vamos a analizar los tipos de variables que se encuentran en nuestro dataset."
      ],
      "metadata": {
        "id": "DOHCUXNuykrc"
      }
    },
    {
      "cell_type": "code",
      "source": [
        "df.head(3)"
      ],
      "metadata": {
        "colab": {
          "base_uri": "https://localhost:8080/",
          "height": 349
        },
        "id": "MzGbeAwUzGRW",
        "outputId": "a6b75f66-7988-4d9f-a023-ea68b23b54ba"
      },
      "execution_count": 525,
      "outputs": [
        {
          "output_type": "execute_result",
          "data": {
            "text/plain": [
              "          hotel  lead_time  arrival_date_year arrival_date_month  \\\n",
              "0    City Hotel         49               2016          September   \n",
              "1  Resort Hotel          4               2015            October   \n",
              "2    City Hotel         25               2016            October   \n",
              "\n",
              "   arrival_date_week_number  arrival_date_day_of_month  \\\n",
              "0                        37                          5   \n",
              "1                        44                         31   \n",
              "2                        42                         13   \n",
              "\n",
              "   stays_in_weekend_nights  stays_in_week_nights  adults  children  ...  \\\n",
              "0                        1                     2       1       0.0  ...   \n",
              "1                        0                     1       2       0.0  ...   \n",
              "2                        0                     1       2       2.0  ...   \n",
              "\n",
              "   deposit_type agent company days_in_waiting_list customer_type    adr  \\\n",
              "0    No Deposit   9.0     NaN                    0     Transient  115.5   \n",
              "1    No Deposit   NaN     NaN                    0     Transient   42.0   \n",
              "2    No Deposit   9.0     NaN                    0     Transient  229.0   \n",
              "\n",
              "   required_car_parking_spaces  total_of_special_requests  \\\n",
              "0                            0                          1   \n",
              "1                            1                          0   \n",
              "2                            0                          2   \n",
              "\n",
              "                                     id is_canceled  \n",
              "0  7aa4cc6b-b92c-4061-b21d-4f9e0cac4689           1  \n",
              "1  b1428f80-c56c-4ae4-91a9-6962edae08b1           0  \n",
              "2  2226c018-ea20-4c4e-8f71-ea66aee70d7c           0  \n",
              "\n",
              "[3 rows x 31 columns]"
            ],
            "text/html": [
              "\n",
              "  <div id=\"df-3f476eb0-42e9-4d31-b4e9-ec0e0fa067bd\" class=\"colab-df-container\">\n",
              "    <div>\n",
              "<style scoped>\n",
              "    .dataframe tbody tr th:only-of-type {\n",
              "        vertical-align: middle;\n",
              "    }\n",
              "\n",
              "    .dataframe tbody tr th {\n",
              "        vertical-align: top;\n",
              "    }\n",
              "\n",
              "    .dataframe thead th {\n",
              "        text-align: right;\n",
              "    }\n",
              "</style>\n",
              "<table border=\"1\" class=\"dataframe\">\n",
              "  <thead>\n",
              "    <tr style=\"text-align: right;\">\n",
              "      <th></th>\n",
              "      <th>hotel</th>\n",
              "      <th>lead_time</th>\n",
              "      <th>arrival_date_year</th>\n",
              "      <th>arrival_date_month</th>\n",
              "      <th>arrival_date_week_number</th>\n",
              "      <th>arrival_date_day_of_month</th>\n",
              "      <th>stays_in_weekend_nights</th>\n",
              "      <th>stays_in_week_nights</th>\n",
              "      <th>adults</th>\n",
              "      <th>children</th>\n",
              "      <th>...</th>\n",
              "      <th>deposit_type</th>\n",
              "      <th>agent</th>\n",
              "      <th>company</th>\n",
              "      <th>days_in_waiting_list</th>\n",
              "      <th>customer_type</th>\n",
              "      <th>adr</th>\n",
              "      <th>required_car_parking_spaces</th>\n",
              "      <th>total_of_special_requests</th>\n",
              "      <th>id</th>\n",
              "      <th>is_canceled</th>\n",
              "    </tr>\n",
              "  </thead>\n",
              "  <tbody>\n",
              "    <tr>\n",
              "      <th>0</th>\n",
              "      <td>City Hotel</td>\n",
              "      <td>49</td>\n",
              "      <td>2016</td>\n",
              "      <td>September</td>\n",
              "      <td>37</td>\n",
              "      <td>5</td>\n",
              "      <td>1</td>\n",
              "      <td>2</td>\n",
              "      <td>1</td>\n",
              "      <td>0.0</td>\n",
              "      <td>...</td>\n",
              "      <td>No Deposit</td>\n",
              "      <td>9.0</td>\n",
              "      <td>NaN</td>\n",
              "      <td>0</td>\n",
              "      <td>Transient</td>\n",
              "      <td>115.5</td>\n",
              "      <td>0</td>\n",
              "      <td>1</td>\n",
              "      <td>7aa4cc6b-b92c-4061-b21d-4f9e0cac4689</td>\n",
              "      <td>1</td>\n",
              "    </tr>\n",
              "    <tr>\n",
              "      <th>1</th>\n",
              "      <td>Resort Hotel</td>\n",
              "      <td>4</td>\n",
              "      <td>2015</td>\n",
              "      <td>October</td>\n",
              "      <td>44</td>\n",
              "      <td>31</td>\n",
              "      <td>0</td>\n",
              "      <td>1</td>\n",
              "      <td>2</td>\n",
              "      <td>0.0</td>\n",
              "      <td>...</td>\n",
              "      <td>No Deposit</td>\n",
              "      <td>NaN</td>\n",
              "      <td>NaN</td>\n",
              "      <td>0</td>\n",
              "      <td>Transient</td>\n",
              "      <td>42.0</td>\n",
              "      <td>1</td>\n",
              "      <td>0</td>\n",
              "      <td>b1428f80-c56c-4ae4-91a9-6962edae08b1</td>\n",
              "      <td>0</td>\n",
              "    </tr>\n",
              "    <tr>\n",
              "      <th>2</th>\n",
              "      <td>City Hotel</td>\n",
              "      <td>25</td>\n",
              "      <td>2016</td>\n",
              "      <td>October</td>\n",
              "      <td>42</td>\n",
              "      <td>13</td>\n",
              "      <td>0</td>\n",
              "      <td>1</td>\n",
              "      <td>2</td>\n",
              "      <td>2.0</td>\n",
              "      <td>...</td>\n",
              "      <td>No Deposit</td>\n",
              "      <td>9.0</td>\n",
              "      <td>NaN</td>\n",
              "      <td>0</td>\n",
              "      <td>Transient</td>\n",
              "      <td>229.0</td>\n",
              "      <td>0</td>\n",
              "      <td>2</td>\n",
              "      <td>2226c018-ea20-4c4e-8f71-ea66aee70d7c</td>\n",
              "      <td>0</td>\n",
              "    </tr>\n",
              "  </tbody>\n",
              "</table>\n",
              "<p>3 rows × 31 columns</p>\n",
              "</div>\n",
              "    <div class=\"colab-df-buttons\">\n",
              "\n",
              "  <div class=\"colab-df-container\">\n",
              "    <button class=\"colab-df-convert\" onclick=\"convertToInteractive('df-3f476eb0-42e9-4d31-b4e9-ec0e0fa067bd')\"\n",
              "            title=\"Convert this dataframe to an interactive table.\"\n",
              "            style=\"display:none;\">\n",
              "\n",
              "  <svg xmlns=\"http://www.w3.org/2000/svg\" height=\"24px\" viewBox=\"0 -960 960 960\">\n",
              "    <path d=\"M120-120v-720h720v720H120Zm60-500h600v-160H180v160Zm220 220h160v-160H400v160Zm0 220h160v-160H400v160ZM180-400h160v-160H180v160Zm440 0h160v-160H620v160ZM180-180h160v-160H180v160Zm440 0h160v-160H620v160Z\"/>\n",
              "  </svg>\n",
              "    </button>\n",
              "\n",
              "  <style>\n",
              "    .colab-df-container {\n",
              "      display:flex;\n",
              "      gap: 12px;\n",
              "    }\n",
              "\n",
              "    .colab-df-convert {\n",
              "      background-color: #E8F0FE;\n",
              "      border: none;\n",
              "      border-radius: 50%;\n",
              "      cursor: pointer;\n",
              "      display: none;\n",
              "      fill: #1967D2;\n",
              "      height: 32px;\n",
              "      padding: 0 0 0 0;\n",
              "      width: 32px;\n",
              "    }\n",
              "\n",
              "    .colab-df-convert:hover {\n",
              "      background-color: #E2EBFA;\n",
              "      box-shadow: 0px 1px 2px rgba(60, 64, 67, 0.3), 0px 1px 3px 1px rgba(60, 64, 67, 0.15);\n",
              "      fill: #174EA6;\n",
              "    }\n",
              "\n",
              "    .colab-df-buttons div {\n",
              "      margin-bottom: 4px;\n",
              "    }\n",
              "\n",
              "    [theme=dark] .colab-df-convert {\n",
              "      background-color: #3B4455;\n",
              "      fill: #D2E3FC;\n",
              "    }\n",
              "\n",
              "    [theme=dark] .colab-df-convert:hover {\n",
              "      background-color: #434B5C;\n",
              "      box-shadow: 0px 1px 3px 1px rgba(0, 0, 0, 0.15);\n",
              "      filter: drop-shadow(0px 1px 2px rgba(0, 0, 0, 0.3));\n",
              "      fill: #FFFFFF;\n",
              "    }\n",
              "  </style>\n",
              "\n",
              "    <script>\n",
              "      const buttonEl =\n",
              "        document.querySelector('#df-3f476eb0-42e9-4d31-b4e9-ec0e0fa067bd button.colab-df-convert');\n",
              "      buttonEl.style.display =\n",
              "        google.colab.kernel.accessAllowed ? 'block' : 'none';\n",
              "\n",
              "      async function convertToInteractive(key) {\n",
              "        const element = document.querySelector('#df-3f476eb0-42e9-4d31-b4e9-ec0e0fa067bd');\n",
              "        const dataTable =\n",
              "          await google.colab.kernel.invokeFunction('convertToInteractive',\n",
              "                                                    [key], {});\n",
              "        if (!dataTable) return;\n",
              "\n",
              "        const docLinkHtml = 'Like what you see? Visit the ' +\n",
              "          '<a target=\"_blank\" href=https://colab.research.google.com/notebooks/data_table.ipynb>data table notebook</a>'\n",
              "          + ' to learn more about interactive tables.';\n",
              "        element.innerHTML = '';\n",
              "        dataTable['output_type'] = 'display_data';\n",
              "        await google.colab.output.renderOutput(dataTable, element);\n",
              "        const docLink = document.createElement('div');\n",
              "        docLink.innerHTML = docLinkHtml;\n",
              "        element.appendChild(docLink);\n",
              "      }\n",
              "    </script>\n",
              "  </div>\n",
              "\n",
              "\n",
              "<div id=\"df-f5c40321-567b-4bdb-ac6a-3b1131834166\">\n",
              "  <button class=\"colab-df-quickchart\" onclick=\"quickchart('df-f5c40321-567b-4bdb-ac6a-3b1131834166')\"\n",
              "            title=\"Suggest charts.\"\n",
              "            style=\"display:none;\">\n",
              "\n",
              "<svg xmlns=\"http://www.w3.org/2000/svg\" height=\"24px\"viewBox=\"0 0 24 24\"\n",
              "     width=\"24px\">\n",
              "    <g>\n",
              "        <path d=\"M19 3H5c-1.1 0-2 .9-2 2v14c0 1.1.9 2 2 2h14c1.1 0 2-.9 2-2V5c0-1.1-.9-2-2-2zM9 17H7v-7h2v7zm4 0h-2V7h2v10zm4 0h-2v-4h2v4z\"/>\n",
              "    </g>\n",
              "</svg>\n",
              "  </button>\n",
              "\n",
              "<style>\n",
              "  .colab-df-quickchart {\n",
              "      --bg-color: #E8F0FE;\n",
              "      --fill-color: #1967D2;\n",
              "      --hover-bg-color: #E2EBFA;\n",
              "      --hover-fill-color: #174EA6;\n",
              "      --disabled-fill-color: #AAA;\n",
              "      --disabled-bg-color: #DDD;\n",
              "  }\n",
              "\n",
              "  [theme=dark] .colab-df-quickchart {\n",
              "      --bg-color: #3B4455;\n",
              "      --fill-color: #D2E3FC;\n",
              "      --hover-bg-color: #434B5C;\n",
              "      --hover-fill-color: #FFFFFF;\n",
              "      --disabled-bg-color: #3B4455;\n",
              "      --disabled-fill-color: #666;\n",
              "  }\n",
              "\n",
              "  .colab-df-quickchart {\n",
              "    background-color: var(--bg-color);\n",
              "    border: none;\n",
              "    border-radius: 50%;\n",
              "    cursor: pointer;\n",
              "    display: none;\n",
              "    fill: var(--fill-color);\n",
              "    height: 32px;\n",
              "    padding: 0;\n",
              "    width: 32px;\n",
              "  }\n",
              "\n",
              "  .colab-df-quickchart:hover {\n",
              "    background-color: var(--hover-bg-color);\n",
              "    box-shadow: 0 1px 2px rgba(60, 64, 67, 0.3), 0 1px 3px 1px rgba(60, 64, 67, 0.15);\n",
              "    fill: var(--button-hover-fill-color);\n",
              "  }\n",
              "\n",
              "  .colab-df-quickchart-complete:disabled,\n",
              "  .colab-df-quickchart-complete:disabled:hover {\n",
              "    background-color: var(--disabled-bg-color);\n",
              "    fill: var(--disabled-fill-color);\n",
              "    box-shadow: none;\n",
              "  }\n",
              "\n",
              "  .colab-df-spinner {\n",
              "    border: 2px solid var(--fill-color);\n",
              "    border-color: transparent;\n",
              "    border-bottom-color: var(--fill-color);\n",
              "    animation:\n",
              "      spin 1s steps(1) infinite;\n",
              "  }\n",
              "\n",
              "  @keyframes spin {\n",
              "    0% {\n",
              "      border-color: transparent;\n",
              "      border-bottom-color: var(--fill-color);\n",
              "      border-left-color: var(--fill-color);\n",
              "    }\n",
              "    20% {\n",
              "      border-color: transparent;\n",
              "      border-left-color: var(--fill-color);\n",
              "      border-top-color: var(--fill-color);\n",
              "    }\n",
              "    30% {\n",
              "      border-color: transparent;\n",
              "      border-left-color: var(--fill-color);\n",
              "      border-top-color: var(--fill-color);\n",
              "      border-right-color: var(--fill-color);\n",
              "    }\n",
              "    40% {\n",
              "      border-color: transparent;\n",
              "      border-right-color: var(--fill-color);\n",
              "      border-top-color: var(--fill-color);\n",
              "    }\n",
              "    60% {\n",
              "      border-color: transparent;\n",
              "      border-right-color: var(--fill-color);\n",
              "    }\n",
              "    80% {\n",
              "      border-color: transparent;\n",
              "      border-right-color: var(--fill-color);\n",
              "      border-bottom-color: var(--fill-color);\n",
              "    }\n",
              "    90% {\n",
              "      border-color: transparent;\n",
              "      border-bottom-color: var(--fill-color);\n",
              "    }\n",
              "  }\n",
              "</style>\n",
              "\n",
              "  <script>\n",
              "    async function quickchart(key) {\n",
              "      const quickchartButtonEl =\n",
              "        document.querySelector('#' + key + ' button');\n",
              "      quickchartButtonEl.disabled = true;  // To prevent multiple clicks.\n",
              "      quickchartButtonEl.classList.add('colab-df-spinner');\n",
              "      try {\n",
              "        const charts = await google.colab.kernel.invokeFunction(\n",
              "            'suggestCharts', [key], {});\n",
              "      } catch (error) {\n",
              "        console.error('Error during call to suggestCharts:', error);\n",
              "      }\n",
              "      quickchartButtonEl.classList.remove('colab-df-spinner');\n",
              "      quickchartButtonEl.classList.add('colab-df-quickchart-complete');\n",
              "    }\n",
              "    (() => {\n",
              "      let quickchartButtonEl =\n",
              "        document.querySelector('#df-f5c40321-567b-4bdb-ac6a-3b1131834166 button');\n",
              "      quickchartButtonEl.style.display =\n",
              "        google.colab.kernel.accessAllowed ? 'block' : 'none';\n",
              "    })();\n",
              "  </script>\n",
              "</div>\n",
              "    </div>\n",
              "  </div>\n"
            ]
          },
          "metadata": {},
          "execution_count": 525
        }
      ]
    },
    {
      "cell_type": "code",
      "source": [
        "df.columns"
      ],
      "metadata": {
        "colab": {
          "base_uri": "https://localhost:8080/"
        },
        "id": "uiSTk-zNzIVw",
        "outputId": "af858b54-9317-431a-8fd5-ebadb760cea8"
      },
      "execution_count": 526,
      "outputs": [
        {
          "output_type": "execute_result",
          "data": {
            "text/plain": [
              "Index(['hotel', 'lead_time', 'arrival_date_year', 'arrival_date_month',\n",
              "       'arrival_date_week_number', 'arrival_date_day_of_month',\n",
              "       'stays_in_weekend_nights', 'stays_in_week_nights', 'adults', 'children',\n",
              "       'babies', 'meal', 'country', 'market_segment', 'distribution_channel',\n",
              "       'is_repeated_guest', 'previous_cancellations',\n",
              "       'previous_bookings_not_canceled', 'reserved_room_type',\n",
              "       'assigned_room_type', 'booking_changes', 'deposit_type', 'agent',\n",
              "       'company', 'days_in_waiting_list', 'customer_type', 'adr',\n",
              "       'required_car_parking_spaces', 'total_of_special_requests', 'id',\n",
              "       'is_canceled'],\n",
              "      dtype='object')"
            ]
          },
          "metadata": {},
          "execution_count": 526
        }
      ]
    },
    {
      "cell_type": "code",
      "source": [
        "df.shape"
      ],
      "metadata": {
        "colab": {
          "base_uri": "https://localhost:8080/"
        },
        "id": "sWF8F7lezPdz",
        "outputId": "715bfda9-fde9-4a67-d76f-a493db24698a"
      },
      "execution_count": 527,
      "outputs": [
        {
          "output_type": "execute_result",
          "data": {
            "text/plain": [
              "(61913, 31)"
            ]
          },
          "metadata": {},
          "execution_count": 527
        }
      ]
    },
    {
      "cell_type": "markdown",
      "source": [
        "##Tipos de Variables\n",
        "Los tipos de cada variable se pueden apreciar en la columna Dtype"
      ],
      "metadata": {
        "id": "aoVps4frze7d"
      }
    },
    {
      "cell_type": "code",
      "source": [
        "df.info()"
      ],
      "metadata": {
        "colab": {
          "base_uri": "https://localhost:8080/"
        },
        "id": "KhZxh9TazjkT",
        "outputId": "4bc4cdaa-3e42-48ca-9b14-2ac5a5bd308f"
      },
      "execution_count": 528,
      "outputs": [
        {
          "output_type": "stream",
          "name": "stdout",
          "text": [
            "<class 'pandas.core.frame.DataFrame'>\n",
            "RangeIndex: 61913 entries, 0 to 61912\n",
            "Data columns (total 31 columns):\n",
            " #   Column                          Non-Null Count  Dtype  \n",
            "---  ------                          --------------  -----  \n",
            " 0   hotel                           61913 non-null  object \n",
            " 1   lead_time                       61913 non-null  int64  \n",
            " 2   arrival_date_year               61913 non-null  int64  \n",
            " 3   arrival_date_month              61913 non-null  object \n",
            " 4   arrival_date_week_number        61913 non-null  int64  \n",
            " 5   arrival_date_day_of_month       61913 non-null  int64  \n",
            " 6   stays_in_weekend_nights         61913 non-null  int64  \n",
            " 7   stays_in_week_nights            61913 non-null  int64  \n",
            " 8   adults                          61913 non-null  int64  \n",
            " 9   children                        61909 non-null  float64\n",
            " 10  babies                          61913 non-null  int64  \n",
            " 11  meal                            61913 non-null  object \n",
            " 12  country                         61692 non-null  object \n",
            " 13  market_segment                  61913 non-null  object \n",
            " 14  distribution_channel            61913 non-null  object \n",
            " 15  is_repeated_guest               61913 non-null  int64  \n",
            " 16  previous_cancellations          61913 non-null  int64  \n",
            " 17  previous_bookings_not_canceled  61913 non-null  int64  \n",
            " 18  reserved_room_type              61913 non-null  object \n",
            " 19  assigned_room_type              61913 non-null  object \n",
            " 20  booking_changes                 61913 non-null  int64  \n",
            " 21  deposit_type                    61913 non-null  object \n",
            " 22  agent                           54023 non-null  float64\n",
            " 23  company                         3152 non-null   float64\n",
            " 24  days_in_waiting_list            61913 non-null  int64  \n",
            " 25  customer_type                   61913 non-null  object \n",
            " 26  adr                             61913 non-null  float64\n",
            " 27  required_car_parking_spaces     61913 non-null  int64  \n",
            " 28  total_of_special_requests       61913 non-null  int64  \n",
            " 29  id                              61913 non-null  object \n",
            " 30  is_canceled                     61913 non-null  int64  \n",
            "dtypes: float64(4), int64(16), object(11)\n",
            "memory usage: 14.6+ MB\n"
          ]
        }
      ]
    },
    {
      "cell_type": "markdown",
      "source": [
        "### Por qué *children* es del tipo float?\n",
        "Verificamos que todos los valores sean enteros."
      ],
      "metadata": {
        "id": "vaWsgxtEz9Qo"
      }
    },
    {
      "cell_type": "code",
      "source": [
        "import numpy as np\n",
        "\n",
        "for n in df.children:\n",
        "  if np.isnan(n): continue\n",
        "  elif int(n) != n:\n",
        "    print(\"Hay un error\")"
      ],
      "metadata": {
        "id": "eGlnJtZs0FfR"
      },
      "execution_count": 529,
      "outputs": []
    },
    {
      "cell_type": "markdown",
      "source": [
        "##Variables Cuantitativas\n",
        "Podemos observar que las variables cuantitativas son las que pertenecen a la siguiente tabla.\n",
        "\n",
        "Tambien se puede ver que todas las variables son del tipo **discreto** excepto por la variable *adr* (que resulta de una calculo de precios). Esto incluye a la variable *children* que aunque sea del tipo float, no se puede tener una cantidad no entera de hijos. Esto lo verificamos mas abajo."
      ],
      "metadata": {
        "id": "9X6gucH6z0MO"
      }
    },
    {
      "cell_type": "code",
      "source": [
        "df_cuantitativas = df[['lead_time', 'arrival_date_year',\n",
        "       'arrival_date_week_number', 'arrival_date_day_of_month',\n",
        "       'stays_in_weekend_nights', 'stays_in_week_nights', 'adults', 'children',\n",
        "       'babies','previous_cancellations', 'previous_bookings_not_canceled',\n",
        "       'booking_changes', 'days_in_waiting_list', 'adr',\n",
        "       'required_car_parking_spaces', 'total_of_special_requests']]\n",
        "df_cuantitativas.head(3)"
      ],
      "metadata": {
        "colab": {
          "base_uri": "https://localhost:8080/",
          "height": 0
        },
        "id": "GeHDGg5uz1qt",
        "outputId": "120c2d11-788d-425c-d035-a1007a305e31"
      },
      "execution_count": 530,
      "outputs": [
        {
          "output_type": "execute_result",
          "data": {
            "text/plain": [
              "   lead_time  arrival_date_year  arrival_date_week_number  \\\n",
              "0         49               2016                        37   \n",
              "1          4               2015                        44   \n",
              "2         25               2016                        42   \n",
              "\n",
              "   arrival_date_day_of_month  stays_in_weekend_nights  stays_in_week_nights  \\\n",
              "0                          5                        1                     2   \n",
              "1                         31                        0                     1   \n",
              "2                         13                        0                     1   \n",
              "\n",
              "   adults  children  babies  previous_cancellations  \\\n",
              "0       1       0.0       0                       0   \n",
              "1       2       0.0       0                       0   \n",
              "2       2       2.0       0                       0   \n",
              "\n",
              "   previous_bookings_not_canceled  booking_changes  days_in_waiting_list  \\\n",
              "0                               0                0                     0   \n",
              "1                               0                0                     0   \n",
              "2                               0                0                     0   \n",
              "\n",
              "     adr  required_car_parking_spaces  total_of_special_requests  \n",
              "0  115.5                            0                          1  \n",
              "1   42.0                            1                          0  \n",
              "2  229.0                            0                          2  "
            ],
            "text/html": [
              "\n",
              "  <div id=\"df-bf3bd11d-4f8d-43d4-8cae-f54e08aa7e0f\" class=\"colab-df-container\">\n",
              "    <div>\n",
              "<style scoped>\n",
              "    .dataframe tbody tr th:only-of-type {\n",
              "        vertical-align: middle;\n",
              "    }\n",
              "\n",
              "    .dataframe tbody tr th {\n",
              "        vertical-align: top;\n",
              "    }\n",
              "\n",
              "    .dataframe thead th {\n",
              "        text-align: right;\n",
              "    }\n",
              "</style>\n",
              "<table border=\"1\" class=\"dataframe\">\n",
              "  <thead>\n",
              "    <tr style=\"text-align: right;\">\n",
              "      <th></th>\n",
              "      <th>lead_time</th>\n",
              "      <th>arrival_date_year</th>\n",
              "      <th>arrival_date_week_number</th>\n",
              "      <th>arrival_date_day_of_month</th>\n",
              "      <th>stays_in_weekend_nights</th>\n",
              "      <th>stays_in_week_nights</th>\n",
              "      <th>adults</th>\n",
              "      <th>children</th>\n",
              "      <th>babies</th>\n",
              "      <th>previous_cancellations</th>\n",
              "      <th>previous_bookings_not_canceled</th>\n",
              "      <th>booking_changes</th>\n",
              "      <th>days_in_waiting_list</th>\n",
              "      <th>adr</th>\n",
              "      <th>required_car_parking_spaces</th>\n",
              "      <th>total_of_special_requests</th>\n",
              "    </tr>\n",
              "  </thead>\n",
              "  <tbody>\n",
              "    <tr>\n",
              "      <th>0</th>\n",
              "      <td>49</td>\n",
              "      <td>2016</td>\n",
              "      <td>37</td>\n",
              "      <td>5</td>\n",
              "      <td>1</td>\n",
              "      <td>2</td>\n",
              "      <td>1</td>\n",
              "      <td>0.0</td>\n",
              "      <td>0</td>\n",
              "      <td>0</td>\n",
              "      <td>0</td>\n",
              "      <td>0</td>\n",
              "      <td>0</td>\n",
              "      <td>115.5</td>\n",
              "      <td>0</td>\n",
              "      <td>1</td>\n",
              "    </tr>\n",
              "    <tr>\n",
              "      <th>1</th>\n",
              "      <td>4</td>\n",
              "      <td>2015</td>\n",
              "      <td>44</td>\n",
              "      <td>31</td>\n",
              "      <td>0</td>\n",
              "      <td>1</td>\n",
              "      <td>2</td>\n",
              "      <td>0.0</td>\n",
              "      <td>0</td>\n",
              "      <td>0</td>\n",
              "      <td>0</td>\n",
              "      <td>0</td>\n",
              "      <td>0</td>\n",
              "      <td>42.0</td>\n",
              "      <td>1</td>\n",
              "      <td>0</td>\n",
              "    </tr>\n",
              "    <tr>\n",
              "      <th>2</th>\n",
              "      <td>25</td>\n",
              "      <td>2016</td>\n",
              "      <td>42</td>\n",
              "      <td>13</td>\n",
              "      <td>0</td>\n",
              "      <td>1</td>\n",
              "      <td>2</td>\n",
              "      <td>2.0</td>\n",
              "      <td>0</td>\n",
              "      <td>0</td>\n",
              "      <td>0</td>\n",
              "      <td>0</td>\n",
              "      <td>0</td>\n",
              "      <td>229.0</td>\n",
              "      <td>0</td>\n",
              "      <td>2</td>\n",
              "    </tr>\n",
              "  </tbody>\n",
              "</table>\n",
              "</div>\n",
              "    <div class=\"colab-df-buttons\">\n",
              "\n",
              "  <div class=\"colab-df-container\">\n",
              "    <button class=\"colab-df-convert\" onclick=\"convertToInteractive('df-bf3bd11d-4f8d-43d4-8cae-f54e08aa7e0f')\"\n",
              "            title=\"Convert this dataframe to an interactive table.\"\n",
              "            style=\"display:none;\">\n",
              "\n",
              "  <svg xmlns=\"http://www.w3.org/2000/svg\" height=\"24px\" viewBox=\"0 -960 960 960\">\n",
              "    <path d=\"M120-120v-720h720v720H120Zm60-500h600v-160H180v160Zm220 220h160v-160H400v160Zm0 220h160v-160H400v160ZM180-400h160v-160H180v160Zm440 0h160v-160H620v160ZM180-180h160v-160H180v160Zm440 0h160v-160H620v160Z\"/>\n",
              "  </svg>\n",
              "    </button>\n",
              "\n",
              "  <style>\n",
              "    .colab-df-container {\n",
              "      display:flex;\n",
              "      gap: 12px;\n",
              "    }\n",
              "\n",
              "    .colab-df-convert {\n",
              "      background-color: #E8F0FE;\n",
              "      border: none;\n",
              "      border-radius: 50%;\n",
              "      cursor: pointer;\n",
              "      display: none;\n",
              "      fill: #1967D2;\n",
              "      height: 32px;\n",
              "      padding: 0 0 0 0;\n",
              "      width: 32px;\n",
              "    }\n",
              "\n",
              "    .colab-df-convert:hover {\n",
              "      background-color: #E2EBFA;\n",
              "      box-shadow: 0px 1px 2px rgba(60, 64, 67, 0.3), 0px 1px 3px 1px rgba(60, 64, 67, 0.15);\n",
              "      fill: #174EA6;\n",
              "    }\n",
              "\n",
              "    .colab-df-buttons div {\n",
              "      margin-bottom: 4px;\n",
              "    }\n",
              "\n",
              "    [theme=dark] .colab-df-convert {\n",
              "      background-color: #3B4455;\n",
              "      fill: #D2E3FC;\n",
              "    }\n",
              "\n",
              "    [theme=dark] .colab-df-convert:hover {\n",
              "      background-color: #434B5C;\n",
              "      box-shadow: 0px 1px 3px 1px rgba(0, 0, 0, 0.15);\n",
              "      filter: drop-shadow(0px 1px 2px rgba(0, 0, 0, 0.3));\n",
              "      fill: #FFFFFF;\n",
              "    }\n",
              "  </style>\n",
              "\n",
              "    <script>\n",
              "      const buttonEl =\n",
              "        document.querySelector('#df-bf3bd11d-4f8d-43d4-8cae-f54e08aa7e0f button.colab-df-convert');\n",
              "      buttonEl.style.display =\n",
              "        google.colab.kernel.accessAllowed ? 'block' : 'none';\n",
              "\n",
              "      async function convertToInteractive(key) {\n",
              "        const element = document.querySelector('#df-bf3bd11d-4f8d-43d4-8cae-f54e08aa7e0f');\n",
              "        const dataTable =\n",
              "          await google.colab.kernel.invokeFunction('convertToInteractive',\n",
              "                                                    [key], {});\n",
              "        if (!dataTable) return;\n",
              "\n",
              "        const docLinkHtml = 'Like what you see? Visit the ' +\n",
              "          '<a target=\"_blank\" href=https://colab.research.google.com/notebooks/data_table.ipynb>data table notebook</a>'\n",
              "          + ' to learn more about interactive tables.';\n",
              "        element.innerHTML = '';\n",
              "        dataTable['output_type'] = 'display_data';\n",
              "        await google.colab.output.renderOutput(dataTable, element);\n",
              "        const docLink = document.createElement('div');\n",
              "        docLink.innerHTML = docLinkHtml;\n",
              "        element.appendChild(docLink);\n",
              "      }\n",
              "    </script>\n",
              "  </div>\n",
              "\n",
              "\n",
              "<div id=\"df-67f33c7c-2a14-4ae4-a282-a96866698616\">\n",
              "  <button class=\"colab-df-quickchart\" onclick=\"quickchart('df-67f33c7c-2a14-4ae4-a282-a96866698616')\"\n",
              "            title=\"Suggest charts.\"\n",
              "            style=\"display:none;\">\n",
              "\n",
              "<svg xmlns=\"http://www.w3.org/2000/svg\" height=\"24px\"viewBox=\"0 0 24 24\"\n",
              "     width=\"24px\">\n",
              "    <g>\n",
              "        <path d=\"M19 3H5c-1.1 0-2 .9-2 2v14c0 1.1.9 2 2 2h14c1.1 0 2-.9 2-2V5c0-1.1-.9-2-2-2zM9 17H7v-7h2v7zm4 0h-2V7h2v10zm4 0h-2v-4h2v4z\"/>\n",
              "    </g>\n",
              "</svg>\n",
              "  </button>\n",
              "\n",
              "<style>\n",
              "  .colab-df-quickchart {\n",
              "      --bg-color: #E8F0FE;\n",
              "      --fill-color: #1967D2;\n",
              "      --hover-bg-color: #E2EBFA;\n",
              "      --hover-fill-color: #174EA6;\n",
              "      --disabled-fill-color: #AAA;\n",
              "      --disabled-bg-color: #DDD;\n",
              "  }\n",
              "\n",
              "  [theme=dark] .colab-df-quickchart {\n",
              "      --bg-color: #3B4455;\n",
              "      --fill-color: #D2E3FC;\n",
              "      --hover-bg-color: #434B5C;\n",
              "      --hover-fill-color: #FFFFFF;\n",
              "      --disabled-bg-color: #3B4455;\n",
              "      --disabled-fill-color: #666;\n",
              "  }\n",
              "\n",
              "  .colab-df-quickchart {\n",
              "    background-color: var(--bg-color);\n",
              "    border: none;\n",
              "    border-radius: 50%;\n",
              "    cursor: pointer;\n",
              "    display: none;\n",
              "    fill: var(--fill-color);\n",
              "    height: 32px;\n",
              "    padding: 0;\n",
              "    width: 32px;\n",
              "  }\n",
              "\n",
              "  .colab-df-quickchart:hover {\n",
              "    background-color: var(--hover-bg-color);\n",
              "    box-shadow: 0 1px 2px rgba(60, 64, 67, 0.3), 0 1px 3px 1px rgba(60, 64, 67, 0.15);\n",
              "    fill: var(--button-hover-fill-color);\n",
              "  }\n",
              "\n",
              "  .colab-df-quickchart-complete:disabled,\n",
              "  .colab-df-quickchart-complete:disabled:hover {\n",
              "    background-color: var(--disabled-bg-color);\n",
              "    fill: var(--disabled-fill-color);\n",
              "    box-shadow: none;\n",
              "  }\n",
              "\n",
              "  .colab-df-spinner {\n",
              "    border: 2px solid var(--fill-color);\n",
              "    border-color: transparent;\n",
              "    border-bottom-color: var(--fill-color);\n",
              "    animation:\n",
              "      spin 1s steps(1) infinite;\n",
              "  }\n",
              "\n",
              "  @keyframes spin {\n",
              "    0% {\n",
              "      border-color: transparent;\n",
              "      border-bottom-color: var(--fill-color);\n",
              "      border-left-color: var(--fill-color);\n",
              "    }\n",
              "    20% {\n",
              "      border-color: transparent;\n",
              "      border-left-color: var(--fill-color);\n",
              "      border-top-color: var(--fill-color);\n",
              "    }\n",
              "    30% {\n",
              "      border-color: transparent;\n",
              "      border-left-color: var(--fill-color);\n",
              "      border-top-color: var(--fill-color);\n",
              "      border-right-color: var(--fill-color);\n",
              "    }\n",
              "    40% {\n",
              "      border-color: transparent;\n",
              "      border-right-color: var(--fill-color);\n",
              "      border-top-color: var(--fill-color);\n",
              "    }\n",
              "    60% {\n",
              "      border-color: transparent;\n",
              "      border-right-color: var(--fill-color);\n",
              "    }\n",
              "    80% {\n",
              "      border-color: transparent;\n",
              "      border-right-color: var(--fill-color);\n",
              "      border-bottom-color: var(--fill-color);\n",
              "    }\n",
              "    90% {\n",
              "      border-color: transparent;\n",
              "      border-bottom-color: var(--fill-color);\n",
              "    }\n",
              "  }\n",
              "</style>\n",
              "\n",
              "  <script>\n",
              "    async function quickchart(key) {\n",
              "      const quickchartButtonEl =\n",
              "        document.querySelector('#' + key + ' button');\n",
              "      quickchartButtonEl.disabled = true;  // To prevent multiple clicks.\n",
              "      quickchartButtonEl.classList.add('colab-df-spinner');\n",
              "      try {\n",
              "        const charts = await google.colab.kernel.invokeFunction(\n",
              "            'suggestCharts', [key], {});\n",
              "      } catch (error) {\n",
              "        console.error('Error during call to suggestCharts:', error);\n",
              "      }\n",
              "      quickchartButtonEl.classList.remove('colab-df-spinner');\n",
              "      quickchartButtonEl.classList.add('colab-df-quickchart-complete');\n",
              "    }\n",
              "    (() => {\n",
              "      let quickchartButtonEl =\n",
              "        document.querySelector('#df-67f33c7c-2a14-4ae4-a282-a96866698616 button');\n",
              "      quickchartButtonEl.style.display =\n",
              "        google.colab.kernel.accessAllowed ? 'block' : 'none';\n",
              "    })();\n",
              "  </script>\n",
              "</div>\n",
              "    </div>\n",
              "  </div>\n"
            ]
          },
          "metadata": {},
          "execution_count": 530
        }
      ]
    },
    {
      "cell_type": "code",
      "source": [
        "df_cuantitativas.describe()"
      ],
      "metadata": {
        "colab": {
          "base_uri": "https://localhost:8080/",
          "height": 0
        },
        "id": "RHv-B5J50y_x",
        "outputId": "561d8f28-efc9-403d-fec1-6fb171b495ff"
      },
      "execution_count": 531,
      "outputs": [
        {
          "output_type": "execute_result",
          "data": {
            "text/plain": [
              "          lead_time  arrival_date_year  arrival_date_week_number  \\\n",
              "count  61913.000000       61913.000000               61913.00000   \n",
              "mean     112.248187        2016.154749                  27.21808   \n",
              "std      110.717953           0.708389                  13.52601   \n",
              "min        0.000000        2015.000000                   1.00000   \n",
              "25%       23.000000        2016.000000                  16.00000   \n",
              "50%       78.000000        2016.000000                  28.00000   \n",
              "75%      172.000000        2017.000000                  38.00000   \n",
              "max      629.000000        2017.000000                  53.00000   \n",
              "\n",
              "       arrival_date_day_of_month  stays_in_weekend_nights  \\\n",
              "count               61913.000000             61913.000000   \n",
              "mean                   15.785812                 0.924135   \n",
              "std                     8.795489                 0.993101   \n",
              "min                     1.000000                 0.000000   \n",
              "25%                     8.000000                 0.000000   \n",
              "50%                    16.000000                 1.000000   \n",
              "75%                    23.000000                 2.000000   \n",
              "max                    31.000000                16.000000   \n",
              "\n",
              "       stays_in_week_nights        adults      children        babies  \\\n",
              "count          61913.000000  61913.000000  61909.000000  61913.000000   \n",
              "mean               2.510054      1.862791      0.104896      0.007155   \n",
              "std                1.884926      0.589066      0.402847      0.092158   \n",
              "min                0.000000      0.000000      0.000000      0.000000   \n",
              "25%                1.000000      2.000000      0.000000      0.000000   \n",
              "50%                2.000000      2.000000      0.000000      0.000000   \n",
              "75%                3.000000      2.000000      0.000000      0.000000   \n",
              "max               40.000000     55.000000     10.000000      9.000000   \n",
              "\n",
              "       previous_cancellations  previous_bookings_not_canceled  \\\n",
              "count            61913.000000                    61913.000000   \n",
              "mean                 0.114790                        0.115420   \n",
              "std                  0.993723                        1.396359   \n",
              "min                  0.000000                        0.000000   \n",
              "25%                  0.000000                        0.000000   \n",
              "50%                  0.000000                        0.000000   \n",
              "75%                  0.000000                        0.000000   \n",
              "max                 26.000000                       70.000000   \n",
              "\n",
              "       booking_changes  days_in_waiting_list           adr  \\\n",
              "count     61913.000000          61913.000000  61913.000000   \n",
              "mean          0.195952              2.638977    102.383773   \n",
              "std           0.610519             18.619092     47.757640   \n",
              "min           0.000000              0.000000     -6.380000   \n",
              "25%           0.000000              0.000000     70.000000   \n",
              "50%           0.000000              0.000000     95.000000   \n",
              "75%           0.000000              0.000000    126.000000   \n",
              "max          17.000000            391.000000    510.000000   \n",
              "\n",
              "       required_car_parking_spaces  total_of_special_requests  \n",
              "count                 61913.000000               61913.000000  \n",
              "mean                      0.049957                   0.523703  \n",
              "std                       0.221023                   0.775412  \n",
              "min                       0.000000                   0.000000  \n",
              "25%                       0.000000                   0.000000  \n",
              "50%                       0.000000                   0.000000  \n",
              "75%                       0.000000                   1.000000  \n",
              "max                       8.000000                   5.000000  "
            ],
            "text/html": [
              "\n",
              "  <div id=\"df-b4a69854-3ee1-4489-9998-f03ea6565cdc\" class=\"colab-df-container\">\n",
              "    <div>\n",
              "<style scoped>\n",
              "    .dataframe tbody tr th:only-of-type {\n",
              "        vertical-align: middle;\n",
              "    }\n",
              "\n",
              "    .dataframe tbody tr th {\n",
              "        vertical-align: top;\n",
              "    }\n",
              "\n",
              "    .dataframe thead th {\n",
              "        text-align: right;\n",
              "    }\n",
              "</style>\n",
              "<table border=\"1\" class=\"dataframe\">\n",
              "  <thead>\n",
              "    <tr style=\"text-align: right;\">\n",
              "      <th></th>\n",
              "      <th>lead_time</th>\n",
              "      <th>arrival_date_year</th>\n",
              "      <th>arrival_date_week_number</th>\n",
              "      <th>arrival_date_day_of_month</th>\n",
              "      <th>stays_in_weekend_nights</th>\n",
              "      <th>stays_in_week_nights</th>\n",
              "      <th>adults</th>\n",
              "      <th>children</th>\n",
              "      <th>babies</th>\n",
              "      <th>previous_cancellations</th>\n",
              "      <th>previous_bookings_not_canceled</th>\n",
              "      <th>booking_changes</th>\n",
              "      <th>days_in_waiting_list</th>\n",
              "      <th>adr</th>\n",
              "      <th>required_car_parking_spaces</th>\n",
              "      <th>total_of_special_requests</th>\n",
              "    </tr>\n",
              "  </thead>\n",
              "  <tbody>\n",
              "    <tr>\n",
              "      <th>count</th>\n",
              "      <td>61913.000000</td>\n",
              "      <td>61913.000000</td>\n",
              "      <td>61913.00000</td>\n",
              "      <td>61913.000000</td>\n",
              "      <td>61913.000000</td>\n",
              "      <td>61913.000000</td>\n",
              "      <td>61913.000000</td>\n",
              "      <td>61909.000000</td>\n",
              "      <td>61913.000000</td>\n",
              "      <td>61913.000000</td>\n",
              "      <td>61913.000000</td>\n",
              "      <td>61913.000000</td>\n",
              "      <td>61913.000000</td>\n",
              "      <td>61913.000000</td>\n",
              "      <td>61913.000000</td>\n",
              "      <td>61913.000000</td>\n",
              "    </tr>\n",
              "    <tr>\n",
              "      <th>mean</th>\n",
              "      <td>112.248187</td>\n",
              "      <td>2016.154749</td>\n",
              "      <td>27.21808</td>\n",
              "      <td>15.785812</td>\n",
              "      <td>0.924135</td>\n",
              "      <td>2.510054</td>\n",
              "      <td>1.862791</td>\n",
              "      <td>0.104896</td>\n",
              "      <td>0.007155</td>\n",
              "      <td>0.114790</td>\n",
              "      <td>0.115420</td>\n",
              "      <td>0.195952</td>\n",
              "      <td>2.638977</td>\n",
              "      <td>102.383773</td>\n",
              "      <td>0.049957</td>\n",
              "      <td>0.523703</td>\n",
              "    </tr>\n",
              "    <tr>\n",
              "      <th>std</th>\n",
              "      <td>110.717953</td>\n",
              "      <td>0.708389</td>\n",
              "      <td>13.52601</td>\n",
              "      <td>8.795489</td>\n",
              "      <td>0.993101</td>\n",
              "      <td>1.884926</td>\n",
              "      <td>0.589066</td>\n",
              "      <td>0.402847</td>\n",
              "      <td>0.092158</td>\n",
              "      <td>0.993723</td>\n",
              "      <td>1.396359</td>\n",
              "      <td>0.610519</td>\n",
              "      <td>18.619092</td>\n",
              "      <td>47.757640</td>\n",
              "      <td>0.221023</td>\n",
              "      <td>0.775412</td>\n",
              "    </tr>\n",
              "    <tr>\n",
              "      <th>min</th>\n",
              "      <td>0.000000</td>\n",
              "      <td>2015.000000</td>\n",
              "      <td>1.00000</td>\n",
              "      <td>1.000000</td>\n",
              "      <td>0.000000</td>\n",
              "      <td>0.000000</td>\n",
              "      <td>0.000000</td>\n",
              "      <td>0.000000</td>\n",
              "      <td>0.000000</td>\n",
              "      <td>0.000000</td>\n",
              "      <td>0.000000</td>\n",
              "      <td>0.000000</td>\n",
              "      <td>0.000000</td>\n",
              "      <td>-6.380000</td>\n",
              "      <td>0.000000</td>\n",
              "      <td>0.000000</td>\n",
              "    </tr>\n",
              "    <tr>\n",
              "      <th>25%</th>\n",
              "      <td>23.000000</td>\n",
              "      <td>2016.000000</td>\n",
              "      <td>16.00000</td>\n",
              "      <td>8.000000</td>\n",
              "      <td>0.000000</td>\n",
              "      <td>1.000000</td>\n",
              "      <td>2.000000</td>\n",
              "      <td>0.000000</td>\n",
              "      <td>0.000000</td>\n",
              "      <td>0.000000</td>\n",
              "      <td>0.000000</td>\n",
              "      <td>0.000000</td>\n",
              "      <td>0.000000</td>\n",
              "      <td>70.000000</td>\n",
              "      <td>0.000000</td>\n",
              "      <td>0.000000</td>\n",
              "    </tr>\n",
              "    <tr>\n",
              "      <th>50%</th>\n",
              "      <td>78.000000</td>\n",
              "      <td>2016.000000</td>\n",
              "      <td>28.00000</td>\n",
              "      <td>16.000000</td>\n",
              "      <td>1.000000</td>\n",
              "      <td>2.000000</td>\n",
              "      <td>2.000000</td>\n",
              "      <td>0.000000</td>\n",
              "      <td>0.000000</td>\n",
              "      <td>0.000000</td>\n",
              "      <td>0.000000</td>\n",
              "      <td>0.000000</td>\n",
              "      <td>0.000000</td>\n",
              "      <td>95.000000</td>\n",
              "      <td>0.000000</td>\n",
              "      <td>0.000000</td>\n",
              "    </tr>\n",
              "    <tr>\n",
              "      <th>75%</th>\n",
              "      <td>172.000000</td>\n",
              "      <td>2017.000000</td>\n",
              "      <td>38.00000</td>\n",
              "      <td>23.000000</td>\n",
              "      <td>2.000000</td>\n",
              "      <td>3.000000</td>\n",
              "      <td>2.000000</td>\n",
              "      <td>0.000000</td>\n",
              "      <td>0.000000</td>\n",
              "      <td>0.000000</td>\n",
              "      <td>0.000000</td>\n",
              "      <td>0.000000</td>\n",
              "      <td>0.000000</td>\n",
              "      <td>126.000000</td>\n",
              "      <td>0.000000</td>\n",
              "      <td>1.000000</td>\n",
              "    </tr>\n",
              "    <tr>\n",
              "      <th>max</th>\n",
              "      <td>629.000000</td>\n",
              "      <td>2017.000000</td>\n",
              "      <td>53.00000</td>\n",
              "      <td>31.000000</td>\n",
              "      <td>16.000000</td>\n",
              "      <td>40.000000</td>\n",
              "      <td>55.000000</td>\n",
              "      <td>10.000000</td>\n",
              "      <td>9.000000</td>\n",
              "      <td>26.000000</td>\n",
              "      <td>70.000000</td>\n",
              "      <td>17.000000</td>\n",
              "      <td>391.000000</td>\n",
              "      <td>510.000000</td>\n",
              "      <td>8.000000</td>\n",
              "      <td>5.000000</td>\n",
              "    </tr>\n",
              "  </tbody>\n",
              "</table>\n",
              "</div>\n",
              "    <div class=\"colab-df-buttons\">\n",
              "\n",
              "  <div class=\"colab-df-container\">\n",
              "    <button class=\"colab-df-convert\" onclick=\"convertToInteractive('df-b4a69854-3ee1-4489-9998-f03ea6565cdc')\"\n",
              "            title=\"Convert this dataframe to an interactive table.\"\n",
              "            style=\"display:none;\">\n",
              "\n",
              "  <svg xmlns=\"http://www.w3.org/2000/svg\" height=\"24px\" viewBox=\"0 -960 960 960\">\n",
              "    <path d=\"M120-120v-720h720v720H120Zm60-500h600v-160H180v160Zm220 220h160v-160H400v160Zm0 220h160v-160H400v160ZM180-400h160v-160H180v160Zm440 0h160v-160H620v160ZM180-180h160v-160H180v160Zm440 0h160v-160H620v160Z\"/>\n",
              "  </svg>\n",
              "    </button>\n",
              "\n",
              "  <style>\n",
              "    .colab-df-container {\n",
              "      display:flex;\n",
              "      gap: 12px;\n",
              "    }\n",
              "\n",
              "    .colab-df-convert {\n",
              "      background-color: #E8F0FE;\n",
              "      border: none;\n",
              "      border-radius: 50%;\n",
              "      cursor: pointer;\n",
              "      display: none;\n",
              "      fill: #1967D2;\n",
              "      height: 32px;\n",
              "      padding: 0 0 0 0;\n",
              "      width: 32px;\n",
              "    }\n",
              "\n",
              "    .colab-df-convert:hover {\n",
              "      background-color: #E2EBFA;\n",
              "      box-shadow: 0px 1px 2px rgba(60, 64, 67, 0.3), 0px 1px 3px 1px rgba(60, 64, 67, 0.15);\n",
              "      fill: #174EA6;\n",
              "    }\n",
              "\n",
              "    .colab-df-buttons div {\n",
              "      margin-bottom: 4px;\n",
              "    }\n",
              "\n",
              "    [theme=dark] .colab-df-convert {\n",
              "      background-color: #3B4455;\n",
              "      fill: #D2E3FC;\n",
              "    }\n",
              "\n",
              "    [theme=dark] .colab-df-convert:hover {\n",
              "      background-color: #434B5C;\n",
              "      box-shadow: 0px 1px 3px 1px rgba(0, 0, 0, 0.15);\n",
              "      filter: drop-shadow(0px 1px 2px rgba(0, 0, 0, 0.3));\n",
              "      fill: #FFFFFF;\n",
              "    }\n",
              "  </style>\n",
              "\n",
              "    <script>\n",
              "      const buttonEl =\n",
              "        document.querySelector('#df-b4a69854-3ee1-4489-9998-f03ea6565cdc button.colab-df-convert');\n",
              "      buttonEl.style.display =\n",
              "        google.colab.kernel.accessAllowed ? 'block' : 'none';\n",
              "\n",
              "      async function convertToInteractive(key) {\n",
              "        const element = document.querySelector('#df-b4a69854-3ee1-4489-9998-f03ea6565cdc');\n",
              "        const dataTable =\n",
              "          await google.colab.kernel.invokeFunction('convertToInteractive',\n",
              "                                                    [key], {});\n",
              "        if (!dataTable) return;\n",
              "\n",
              "        const docLinkHtml = 'Like what you see? Visit the ' +\n",
              "          '<a target=\"_blank\" href=https://colab.research.google.com/notebooks/data_table.ipynb>data table notebook</a>'\n",
              "          + ' to learn more about interactive tables.';\n",
              "        element.innerHTML = '';\n",
              "        dataTable['output_type'] = 'display_data';\n",
              "        await google.colab.output.renderOutput(dataTable, element);\n",
              "        const docLink = document.createElement('div');\n",
              "        docLink.innerHTML = docLinkHtml;\n",
              "        element.appendChild(docLink);\n",
              "      }\n",
              "    </script>\n",
              "  </div>\n",
              "\n",
              "\n",
              "<div id=\"df-f9b09302-6887-4b09-92e6-1c189bbe5702\">\n",
              "  <button class=\"colab-df-quickchart\" onclick=\"quickchart('df-f9b09302-6887-4b09-92e6-1c189bbe5702')\"\n",
              "            title=\"Suggest charts.\"\n",
              "            style=\"display:none;\">\n",
              "\n",
              "<svg xmlns=\"http://www.w3.org/2000/svg\" height=\"24px\"viewBox=\"0 0 24 24\"\n",
              "     width=\"24px\">\n",
              "    <g>\n",
              "        <path d=\"M19 3H5c-1.1 0-2 .9-2 2v14c0 1.1.9 2 2 2h14c1.1 0 2-.9 2-2V5c0-1.1-.9-2-2-2zM9 17H7v-7h2v7zm4 0h-2V7h2v10zm4 0h-2v-4h2v4z\"/>\n",
              "    </g>\n",
              "</svg>\n",
              "  </button>\n",
              "\n",
              "<style>\n",
              "  .colab-df-quickchart {\n",
              "      --bg-color: #E8F0FE;\n",
              "      --fill-color: #1967D2;\n",
              "      --hover-bg-color: #E2EBFA;\n",
              "      --hover-fill-color: #174EA6;\n",
              "      --disabled-fill-color: #AAA;\n",
              "      --disabled-bg-color: #DDD;\n",
              "  }\n",
              "\n",
              "  [theme=dark] .colab-df-quickchart {\n",
              "      --bg-color: #3B4455;\n",
              "      --fill-color: #D2E3FC;\n",
              "      --hover-bg-color: #434B5C;\n",
              "      --hover-fill-color: #FFFFFF;\n",
              "      --disabled-bg-color: #3B4455;\n",
              "      --disabled-fill-color: #666;\n",
              "  }\n",
              "\n",
              "  .colab-df-quickchart {\n",
              "    background-color: var(--bg-color);\n",
              "    border: none;\n",
              "    border-radius: 50%;\n",
              "    cursor: pointer;\n",
              "    display: none;\n",
              "    fill: var(--fill-color);\n",
              "    height: 32px;\n",
              "    padding: 0;\n",
              "    width: 32px;\n",
              "  }\n",
              "\n",
              "  .colab-df-quickchart:hover {\n",
              "    background-color: var(--hover-bg-color);\n",
              "    box-shadow: 0 1px 2px rgba(60, 64, 67, 0.3), 0 1px 3px 1px rgba(60, 64, 67, 0.15);\n",
              "    fill: var(--button-hover-fill-color);\n",
              "  }\n",
              "\n",
              "  .colab-df-quickchart-complete:disabled,\n",
              "  .colab-df-quickchart-complete:disabled:hover {\n",
              "    background-color: var(--disabled-bg-color);\n",
              "    fill: var(--disabled-fill-color);\n",
              "    box-shadow: none;\n",
              "  }\n",
              "\n",
              "  .colab-df-spinner {\n",
              "    border: 2px solid var(--fill-color);\n",
              "    border-color: transparent;\n",
              "    border-bottom-color: var(--fill-color);\n",
              "    animation:\n",
              "      spin 1s steps(1) infinite;\n",
              "  }\n",
              "\n",
              "  @keyframes spin {\n",
              "    0% {\n",
              "      border-color: transparent;\n",
              "      border-bottom-color: var(--fill-color);\n",
              "      border-left-color: var(--fill-color);\n",
              "    }\n",
              "    20% {\n",
              "      border-color: transparent;\n",
              "      border-left-color: var(--fill-color);\n",
              "      border-top-color: var(--fill-color);\n",
              "    }\n",
              "    30% {\n",
              "      border-color: transparent;\n",
              "      border-left-color: var(--fill-color);\n",
              "      border-top-color: var(--fill-color);\n",
              "      border-right-color: var(--fill-color);\n",
              "    }\n",
              "    40% {\n",
              "      border-color: transparent;\n",
              "      border-right-color: var(--fill-color);\n",
              "      border-top-color: var(--fill-color);\n",
              "    }\n",
              "    60% {\n",
              "      border-color: transparent;\n",
              "      border-right-color: var(--fill-color);\n",
              "    }\n",
              "    80% {\n",
              "      border-color: transparent;\n",
              "      border-right-color: var(--fill-color);\n",
              "      border-bottom-color: var(--fill-color);\n",
              "    }\n",
              "    90% {\n",
              "      border-color: transparent;\n",
              "      border-bottom-color: var(--fill-color);\n",
              "    }\n",
              "  }\n",
              "</style>\n",
              "\n",
              "  <script>\n",
              "    async function quickchart(key) {\n",
              "      const quickchartButtonEl =\n",
              "        document.querySelector('#' + key + ' button');\n",
              "      quickchartButtonEl.disabled = true;  // To prevent multiple clicks.\n",
              "      quickchartButtonEl.classList.add('colab-df-spinner');\n",
              "      try {\n",
              "        const charts = await google.colab.kernel.invokeFunction(\n",
              "            'suggestCharts', [key], {});\n",
              "      } catch (error) {\n",
              "        console.error('Error during call to suggestCharts:', error);\n",
              "      }\n",
              "      quickchartButtonEl.classList.remove('colab-df-spinner');\n",
              "      quickchartButtonEl.classList.add('colab-df-quickchart-complete');\n",
              "    }\n",
              "    (() => {\n",
              "      let quickchartButtonEl =\n",
              "        document.querySelector('#df-f9b09302-6887-4b09-92e6-1c189bbe5702 button');\n",
              "      quickchartButtonEl.style.display =\n",
              "        google.colab.kernel.accessAllowed ? 'block' : 'none';\n",
              "    })();\n",
              "  </script>\n",
              "</div>\n",
              "    </div>\n",
              "  </div>\n"
            ]
          },
          "metadata": {},
          "execution_count": 531
        }
      ]
    },
    {
      "cell_type": "code",
      "source": [
        "df_cuantitativas.mode()"
      ],
      "metadata": {
        "colab": {
          "base_uri": "https://localhost:8080/",
          "height": 0
        },
        "id": "bgh2NxIz02fp",
        "outputId": "1c5c2da9-78fd-4c48-940f-59a4b8643f0f"
      },
      "execution_count": 532,
      "outputs": [
        {
          "output_type": "execute_result",
          "data": {
            "text/plain": [
              "   lead_time  arrival_date_year  arrival_date_week_number  \\\n",
              "0          0               2016                        33   \n",
              "\n",
              "   arrival_date_day_of_month  stays_in_weekend_nights  stays_in_week_nights  \\\n",
              "0                         17                        0                     2   \n",
              "\n",
              "   adults  children  babies  previous_cancellations  \\\n",
              "0       2       0.0       0                       0   \n",
              "\n",
              "   previous_bookings_not_canceled  booking_changes  days_in_waiting_list  \\\n",
              "0                               0                0                     0   \n",
              "\n",
              "    adr  required_car_parking_spaces  total_of_special_requests  \n",
              "0  62.0                            0                          0  "
            ],
            "text/html": [
              "\n",
              "  <div id=\"df-f0158dc1-5f1a-42fc-9626-ae674a508641\" class=\"colab-df-container\">\n",
              "    <div>\n",
              "<style scoped>\n",
              "    .dataframe tbody tr th:only-of-type {\n",
              "        vertical-align: middle;\n",
              "    }\n",
              "\n",
              "    .dataframe tbody tr th {\n",
              "        vertical-align: top;\n",
              "    }\n",
              "\n",
              "    .dataframe thead th {\n",
              "        text-align: right;\n",
              "    }\n",
              "</style>\n",
              "<table border=\"1\" class=\"dataframe\">\n",
              "  <thead>\n",
              "    <tr style=\"text-align: right;\">\n",
              "      <th></th>\n",
              "      <th>lead_time</th>\n",
              "      <th>arrival_date_year</th>\n",
              "      <th>arrival_date_week_number</th>\n",
              "      <th>arrival_date_day_of_month</th>\n",
              "      <th>stays_in_weekend_nights</th>\n",
              "      <th>stays_in_week_nights</th>\n",
              "      <th>adults</th>\n",
              "      <th>children</th>\n",
              "      <th>babies</th>\n",
              "      <th>previous_cancellations</th>\n",
              "      <th>previous_bookings_not_canceled</th>\n",
              "      <th>booking_changes</th>\n",
              "      <th>days_in_waiting_list</th>\n",
              "      <th>adr</th>\n",
              "      <th>required_car_parking_spaces</th>\n",
              "      <th>total_of_special_requests</th>\n",
              "    </tr>\n",
              "  </thead>\n",
              "  <tbody>\n",
              "    <tr>\n",
              "      <th>0</th>\n",
              "      <td>0</td>\n",
              "      <td>2016</td>\n",
              "      <td>33</td>\n",
              "      <td>17</td>\n",
              "      <td>0</td>\n",
              "      <td>2</td>\n",
              "      <td>2</td>\n",
              "      <td>0.0</td>\n",
              "      <td>0</td>\n",
              "      <td>0</td>\n",
              "      <td>0</td>\n",
              "      <td>0</td>\n",
              "      <td>0</td>\n",
              "      <td>62.0</td>\n",
              "      <td>0</td>\n",
              "      <td>0</td>\n",
              "    </tr>\n",
              "  </tbody>\n",
              "</table>\n",
              "</div>\n",
              "    <div class=\"colab-df-buttons\">\n",
              "\n",
              "  <div class=\"colab-df-container\">\n",
              "    <button class=\"colab-df-convert\" onclick=\"convertToInteractive('df-f0158dc1-5f1a-42fc-9626-ae674a508641')\"\n",
              "            title=\"Convert this dataframe to an interactive table.\"\n",
              "            style=\"display:none;\">\n",
              "\n",
              "  <svg xmlns=\"http://www.w3.org/2000/svg\" height=\"24px\" viewBox=\"0 -960 960 960\">\n",
              "    <path d=\"M120-120v-720h720v720H120Zm60-500h600v-160H180v160Zm220 220h160v-160H400v160Zm0 220h160v-160H400v160ZM180-400h160v-160H180v160Zm440 0h160v-160H620v160ZM180-180h160v-160H180v160Zm440 0h160v-160H620v160Z\"/>\n",
              "  </svg>\n",
              "    </button>\n",
              "\n",
              "  <style>\n",
              "    .colab-df-container {\n",
              "      display:flex;\n",
              "      gap: 12px;\n",
              "    }\n",
              "\n",
              "    .colab-df-convert {\n",
              "      background-color: #E8F0FE;\n",
              "      border: none;\n",
              "      border-radius: 50%;\n",
              "      cursor: pointer;\n",
              "      display: none;\n",
              "      fill: #1967D2;\n",
              "      height: 32px;\n",
              "      padding: 0 0 0 0;\n",
              "      width: 32px;\n",
              "    }\n",
              "\n",
              "    .colab-df-convert:hover {\n",
              "      background-color: #E2EBFA;\n",
              "      box-shadow: 0px 1px 2px rgba(60, 64, 67, 0.3), 0px 1px 3px 1px rgba(60, 64, 67, 0.15);\n",
              "      fill: #174EA6;\n",
              "    }\n",
              "\n",
              "    .colab-df-buttons div {\n",
              "      margin-bottom: 4px;\n",
              "    }\n",
              "\n",
              "    [theme=dark] .colab-df-convert {\n",
              "      background-color: #3B4455;\n",
              "      fill: #D2E3FC;\n",
              "    }\n",
              "\n",
              "    [theme=dark] .colab-df-convert:hover {\n",
              "      background-color: #434B5C;\n",
              "      box-shadow: 0px 1px 3px 1px rgba(0, 0, 0, 0.15);\n",
              "      filter: drop-shadow(0px 1px 2px rgba(0, 0, 0, 0.3));\n",
              "      fill: #FFFFFF;\n",
              "    }\n",
              "  </style>\n",
              "\n",
              "    <script>\n",
              "      const buttonEl =\n",
              "        document.querySelector('#df-f0158dc1-5f1a-42fc-9626-ae674a508641 button.colab-df-convert');\n",
              "      buttonEl.style.display =\n",
              "        google.colab.kernel.accessAllowed ? 'block' : 'none';\n",
              "\n",
              "      async function convertToInteractive(key) {\n",
              "        const element = document.querySelector('#df-f0158dc1-5f1a-42fc-9626-ae674a508641');\n",
              "        const dataTable =\n",
              "          await google.colab.kernel.invokeFunction('convertToInteractive',\n",
              "                                                    [key], {});\n",
              "        if (!dataTable) return;\n",
              "\n",
              "        const docLinkHtml = 'Like what you see? Visit the ' +\n",
              "          '<a target=\"_blank\" href=https://colab.research.google.com/notebooks/data_table.ipynb>data table notebook</a>'\n",
              "          + ' to learn more about interactive tables.';\n",
              "        element.innerHTML = '';\n",
              "        dataTable['output_type'] = 'display_data';\n",
              "        await google.colab.output.renderOutput(dataTable, element);\n",
              "        const docLink = document.createElement('div');\n",
              "        docLink.innerHTML = docLinkHtml;\n",
              "        element.appendChild(docLink);\n",
              "      }\n",
              "    </script>\n",
              "  </div>\n",
              "\n",
              "    </div>\n",
              "  </div>\n"
            ]
          },
          "metadata": {},
          "execution_count": 532
        }
      ]
    },
    {
      "cell_type": "markdown",
      "source": [
        "## Variables Cualitativas\n",
        "\n",
        "Podemos ver las variables cualitativas en la siguiente tabla.\n",
        "Por fines practicos, vamos a omitir *id* ya que cada valor es unico.\n",
        "\n",
        "La variable *is_repeated_guest* lo tomamos como Cualitativa ya que en realidad sus valores representan booleanos."
      ],
      "metadata": {
        "id": "x-Tu4b7509aV"
      }
    },
    {
      "cell_type": "code",
      "source": [
        "df_cualitativas = df[['hotel','arrival_date_month',\n",
        "       'meal', 'country', 'market_segment', 'distribution_channel',\n",
        "       'is_repeated_guest', 'reserved_room_type',\n",
        "       'assigned_room_type', 'deposit_type', 'agent',\n",
        "       'company', 'customer_type',\n",
        "       'is_canceled']]\n",
        "df_cualitativas.head(3)"
      ],
      "metadata": {
        "colab": {
          "base_uri": "https://localhost:8080/",
          "height": 0
        },
        "id": "vsYPsgaT0_01",
        "outputId": "4a9c6b32-277f-4a47-ba98-5654e141204f"
      },
      "execution_count": 533,
      "outputs": [
        {
          "output_type": "execute_result",
          "data": {
            "text/plain": [
              "          hotel arrival_date_month meal country market_segment  \\\n",
              "0    City Hotel          September   BB     USA      Online TA   \n",
              "1  Resort Hotel            October   BB     PRT         Groups   \n",
              "2    City Hotel            October   BB     CHE      Online TA   \n",
              "\n",
              "  distribution_channel  is_repeated_guest reserved_room_type  \\\n",
              "0                TA/TO                  0                  D   \n",
              "1               Direct                  0                  A   \n",
              "2                TA/TO                  0                  F   \n",
              "\n",
              "  assigned_room_type deposit_type  agent  company customer_type  is_canceled  \n",
              "0                  D   No Deposit    9.0      NaN     Transient            1  \n",
              "1                  A   No Deposit    NaN      NaN     Transient            0  \n",
              "2                  F   No Deposit    9.0      NaN     Transient            0  "
            ],
            "text/html": [
              "\n",
              "  <div id=\"df-ac2248cb-ec80-4b64-ac18-2ccab8fbe777\" class=\"colab-df-container\">\n",
              "    <div>\n",
              "<style scoped>\n",
              "    .dataframe tbody tr th:only-of-type {\n",
              "        vertical-align: middle;\n",
              "    }\n",
              "\n",
              "    .dataframe tbody tr th {\n",
              "        vertical-align: top;\n",
              "    }\n",
              "\n",
              "    .dataframe thead th {\n",
              "        text-align: right;\n",
              "    }\n",
              "</style>\n",
              "<table border=\"1\" class=\"dataframe\">\n",
              "  <thead>\n",
              "    <tr style=\"text-align: right;\">\n",
              "      <th></th>\n",
              "      <th>hotel</th>\n",
              "      <th>arrival_date_month</th>\n",
              "      <th>meal</th>\n",
              "      <th>country</th>\n",
              "      <th>market_segment</th>\n",
              "      <th>distribution_channel</th>\n",
              "      <th>is_repeated_guest</th>\n",
              "      <th>reserved_room_type</th>\n",
              "      <th>assigned_room_type</th>\n",
              "      <th>deposit_type</th>\n",
              "      <th>agent</th>\n",
              "      <th>company</th>\n",
              "      <th>customer_type</th>\n",
              "      <th>is_canceled</th>\n",
              "    </tr>\n",
              "  </thead>\n",
              "  <tbody>\n",
              "    <tr>\n",
              "      <th>0</th>\n",
              "      <td>City Hotel</td>\n",
              "      <td>September</td>\n",
              "      <td>BB</td>\n",
              "      <td>USA</td>\n",
              "      <td>Online TA</td>\n",
              "      <td>TA/TO</td>\n",
              "      <td>0</td>\n",
              "      <td>D</td>\n",
              "      <td>D</td>\n",
              "      <td>No Deposit</td>\n",
              "      <td>9.0</td>\n",
              "      <td>NaN</td>\n",
              "      <td>Transient</td>\n",
              "      <td>1</td>\n",
              "    </tr>\n",
              "    <tr>\n",
              "      <th>1</th>\n",
              "      <td>Resort Hotel</td>\n",
              "      <td>October</td>\n",
              "      <td>BB</td>\n",
              "      <td>PRT</td>\n",
              "      <td>Groups</td>\n",
              "      <td>Direct</td>\n",
              "      <td>0</td>\n",
              "      <td>A</td>\n",
              "      <td>A</td>\n",
              "      <td>No Deposit</td>\n",
              "      <td>NaN</td>\n",
              "      <td>NaN</td>\n",
              "      <td>Transient</td>\n",
              "      <td>0</td>\n",
              "    </tr>\n",
              "    <tr>\n",
              "      <th>2</th>\n",
              "      <td>City Hotel</td>\n",
              "      <td>October</td>\n",
              "      <td>BB</td>\n",
              "      <td>CHE</td>\n",
              "      <td>Online TA</td>\n",
              "      <td>TA/TO</td>\n",
              "      <td>0</td>\n",
              "      <td>F</td>\n",
              "      <td>F</td>\n",
              "      <td>No Deposit</td>\n",
              "      <td>9.0</td>\n",
              "      <td>NaN</td>\n",
              "      <td>Transient</td>\n",
              "      <td>0</td>\n",
              "    </tr>\n",
              "  </tbody>\n",
              "</table>\n",
              "</div>\n",
              "    <div class=\"colab-df-buttons\">\n",
              "\n",
              "  <div class=\"colab-df-container\">\n",
              "    <button class=\"colab-df-convert\" onclick=\"convertToInteractive('df-ac2248cb-ec80-4b64-ac18-2ccab8fbe777')\"\n",
              "            title=\"Convert this dataframe to an interactive table.\"\n",
              "            style=\"display:none;\">\n",
              "\n",
              "  <svg xmlns=\"http://www.w3.org/2000/svg\" height=\"24px\" viewBox=\"0 -960 960 960\">\n",
              "    <path d=\"M120-120v-720h720v720H120Zm60-500h600v-160H180v160Zm220 220h160v-160H400v160Zm0 220h160v-160H400v160ZM180-400h160v-160H180v160Zm440 0h160v-160H620v160ZM180-180h160v-160H180v160Zm440 0h160v-160H620v160Z\"/>\n",
              "  </svg>\n",
              "    </button>\n",
              "\n",
              "  <style>\n",
              "    .colab-df-container {\n",
              "      display:flex;\n",
              "      gap: 12px;\n",
              "    }\n",
              "\n",
              "    .colab-df-convert {\n",
              "      background-color: #E8F0FE;\n",
              "      border: none;\n",
              "      border-radius: 50%;\n",
              "      cursor: pointer;\n",
              "      display: none;\n",
              "      fill: #1967D2;\n",
              "      height: 32px;\n",
              "      padding: 0 0 0 0;\n",
              "      width: 32px;\n",
              "    }\n",
              "\n",
              "    .colab-df-convert:hover {\n",
              "      background-color: #E2EBFA;\n",
              "      box-shadow: 0px 1px 2px rgba(60, 64, 67, 0.3), 0px 1px 3px 1px rgba(60, 64, 67, 0.15);\n",
              "      fill: #174EA6;\n",
              "    }\n",
              "\n",
              "    .colab-df-buttons div {\n",
              "      margin-bottom: 4px;\n",
              "    }\n",
              "\n",
              "    [theme=dark] .colab-df-convert {\n",
              "      background-color: #3B4455;\n",
              "      fill: #D2E3FC;\n",
              "    }\n",
              "\n",
              "    [theme=dark] .colab-df-convert:hover {\n",
              "      background-color: #434B5C;\n",
              "      box-shadow: 0px 1px 3px 1px rgba(0, 0, 0, 0.15);\n",
              "      filter: drop-shadow(0px 1px 2px rgba(0, 0, 0, 0.3));\n",
              "      fill: #FFFFFF;\n",
              "    }\n",
              "  </style>\n",
              "\n",
              "    <script>\n",
              "      const buttonEl =\n",
              "        document.querySelector('#df-ac2248cb-ec80-4b64-ac18-2ccab8fbe777 button.colab-df-convert');\n",
              "      buttonEl.style.display =\n",
              "        google.colab.kernel.accessAllowed ? 'block' : 'none';\n",
              "\n",
              "      async function convertToInteractive(key) {\n",
              "        const element = document.querySelector('#df-ac2248cb-ec80-4b64-ac18-2ccab8fbe777');\n",
              "        const dataTable =\n",
              "          await google.colab.kernel.invokeFunction('convertToInteractive',\n",
              "                                                    [key], {});\n",
              "        if (!dataTable) return;\n",
              "\n",
              "        const docLinkHtml = 'Like what you see? Visit the ' +\n",
              "          '<a target=\"_blank\" href=https://colab.research.google.com/notebooks/data_table.ipynb>data table notebook</a>'\n",
              "          + ' to learn more about interactive tables.';\n",
              "        element.innerHTML = '';\n",
              "        dataTable['output_type'] = 'display_data';\n",
              "        await google.colab.output.renderOutput(dataTable, element);\n",
              "        const docLink = document.createElement('div');\n",
              "        docLink.innerHTML = docLinkHtml;\n",
              "        element.appendChild(docLink);\n",
              "      }\n",
              "    </script>\n",
              "  </div>\n",
              "\n",
              "\n",
              "<div id=\"df-33b3cf66-0b7a-44f1-ace2-f9190687ffc0\">\n",
              "  <button class=\"colab-df-quickchart\" onclick=\"quickchart('df-33b3cf66-0b7a-44f1-ace2-f9190687ffc0')\"\n",
              "            title=\"Suggest charts.\"\n",
              "            style=\"display:none;\">\n",
              "\n",
              "<svg xmlns=\"http://www.w3.org/2000/svg\" height=\"24px\"viewBox=\"0 0 24 24\"\n",
              "     width=\"24px\">\n",
              "    <g>\n",
              "        <path d=\"M19 3H5c-1.1 0-2 .9-2 2v14c0 1.1.9 2 2 2h14c1.1 0 2-.9 2-2V5c0-1.1-.9-2-2-2zM9 17H7v-7h2v7zm4 0h-2V7h2v10zm4 0h-2v-4h2v4z\"/>\n",
              "    </g>\n",
              "</svg>\n",
              "  </button>\n",
              "\n",
              "<style>\n",
              "  .colab-df-quickchart {\n",
              "      --bg-color: #E8F0FE;\n",
              "      --fill-color: #1967D2;\n",
              "      --hover-bg-color: #E2EBFA;\n",
              "      --hover-fill-color: #174EA6;\n",
              "      --disabled-fill-color: #AAA;\n",
              "      --disabled-bg-color: #DDD;\n",
              "  }\n",
              "\n",
              "  [theme=dark] .colab-df-quickchart {\n",
              "      --bg-color: #3B4455;\n",
              "      --fill-color: #D2E3FC;\n",
              "      --hover-bg-color: #434B5C;\n",
              "      --hover-fill-color: #FFFFFF;\n",
              "      --disabled-bg-color: #3B4455;\n",
              "      --disabled-fill-color: #666;\n",
              "  }\n",
              "\n",
              "  .colab-df-quickchart {\n",
              "    background-color: var(--bg-color);\n",
              "    border: none;\n",
              "    border-radius: 50%;\n",
              "    cursor: pointer;\n",
              "    display: none;\n",
              "    fill: var(--fill-color);\n",
              "    height: 32px;\n",
              "    padding: 0;\n",
              "    width: 32px;\n",
              "  }\n",
              "\n",
              "  .colab-df-quickchart:hover {\n",
              "    background-color: var(--hover-bg-color);\n",
              "    box-shadow: 0 1px 2px rgba(60, 64, 67, 0.3), 0 1px 3px 1px rgba(60, 64, 67, 0.15);\n",
              "    fill: var(--button-hover-fill-color);\n",
              "  }\n",
              "\n",
              "  .colab-df-quickchart-complete:disabled,\n",
              "  .colab-df-quickchart-complete:disabled:hover {\n",
              "    background-color: var(--disabled-bg-color);\n",
              "    fill: var(--disabled-fill-color);\n",
              "    box-shadow: none;\n",
              "  }\n",
              "\n",
              "  .colab-df-spinner {\n",
              "    border: 2px solid var(--fill-color);\n",
              "    border-color: transparent;\n",
              "    border-bottom-color: var(--fill-color);\n",
              "    animation:\n",
              "      spin 1s steps(1) infinite;\n",
              "  }\n",
              "\n",
              "  @keyframes spin {\n",
              "    0% {\n",
              "      border-color: transparent;\n",
              "      border-bottom-color: var(--fill-color);\n",
              "      border-left-color: var(--fill-color);\n",
              "    }\n",
              "    20% {\n",
              "      border-color: transparent;\n",
              "      border-left-color: var(--fill-color);\n",
              "      border-top-color: var(--fill-color);\n",
              "    }\n",
              "    30% {\n",
              "      border-color: transparent;\n",
              "      border-left-color: var(--fill-color);\n",
              "      border-top-color: var(--fill-color);\n",
              "      border-right-color: var(--fill-color);\n",
              "    }\n",
              "    40% {\n",
              "      border-color: transparent;\n",
              "      border-right-color: var(--fill-color);\n",
              "      border-top-color: var(--fill-color);\n",
              "    }\n",
              "    60% {\n",
              "      border-color: transparent;\n",
              "      border-right-color: var(--fill-color);\n",
              "    }\n",
              "    80% {\n",
              "      border-color: transparent;\n",
              "      border-right-color: var(--fill-color);\n",
              "      border-bottom-color: var(--fill-color);\n",
              "    }\n",
              "    90% {\n",
              "      border-color: transparent;\n",
              "      border-bottom-color: var(--fill-color);\n",
              "    }\n",
              "  }\n",
              "</style>\n",
              "\n",
              "  <script>\n",
              "    async function quickchart(key) {\n",
              "      const quickchartButtonEl =\n",
              "        document.querySelector('#' + key + ' button');\n",
              "      quickchartButtonEl.disabled = true;  // To prevent multiple clicks.\n",
              "      quickchartButtonEl.classList.add('colab-df-spinner');\n",
              "      try {\n",
              "        const charts = await google.colab.kernel.invokeFunction(\n",
              "            'suggestCharts', [key], {});\n",
              "      } catch (error) {\n",
              "        console.error('Error during call to suggestCharts:', error);\n",
              "      }\n",
              "      quickchartButtonEl.classList.remove('colab-df-spinner');\n",
              "      quickchartButtonEl.classList.add('colab-df-quickchart-complete');\n",
              "    }\n",
              "    (() => {\n",
              "      let quickchartButtonEl =\n",
              "        document.querySelector('#df-33b3cf66-0b7a-44f1-ace2-f9190687ffc0 button');\n",
              "      quickchartButtonEl.style.display =\n",
              "        google.colab.kernel.accessAllowed ? 'block' : 'none';\n",
              "    })();\n",
              "  </script>\n",
              "</div>\n",
              "    </div>\n",
              "  </div>\n"
            ]
          },
          "metadata": {},
          "execution_count": 533
        }
      ]
    },
    {
      "cell_type": "code",
      "source": [
        "#Valores Unicos\n",
        "for column in df_cualitativas.columns:\n",
        "    unique_values = list(df_cualitativas[column].unique())\n",
        "    nunique_values = len(unique_values)\n",
        "    print(f\"Hay {nunique_values} valores unicos en '{column}': {unique_values}\")"
      ],
      "metadata": {
        "colab": {
          "base_uri": "https://localhost:8080/"
        },
        "id": "O7oiaCwe1xgB",
        "outputId": "a5dcac14-c3bb-43f1-8851-dd9e2363588b"
      },
      "execution_count": 534,
      "outputs": [
        {
          "output_type": "stream",
          "name": "stdout",
          "text": [
            "Hay 2 valores unicos en 'hotel': ['City Hotel', 'Resort Hotel']\n",
            "Hay 12 valores unicos en 'arrival_date_month': ['September', 'October', 'December', 'March', 'November', 'July', 'June', 'April', 'August', 'February', 'January', 'May']\n",
            "Hay 5 valores unicos en 'meal': ['BB', 'HB', 'SC', 'Undefined', 'FB']\n",
            "Hay 150 valores unicos en 'country': ['USA', 'PRT', 'CHE', 'FRA', 'AGO', 'GBR', 'DEU', 'ESP', 'ROU', 'SWE', 'IRL', 'CN', 'ITA', 'NLD', 'NOR', 'MAR', 'IND', 'BEL', 'ISR', 'KOR', 'TUN', 'JPN', 'FIN', 'TUR', 'CHN', 'AUT', 'ZAF', 'LUX', 'BRA', 'POL', 'DNK', 'IRN', 'RUS', 'VEN', 'SEN', 'AUS', 'MLT', 'BGR', 'THA', 'GEO', 'SRB', 'PHL', 'ARG', 'LVA', 'LTU', 'ARE', nan, 'VNM', 'MOZ', 'MEX', 'HUN', 'DZA', 'GAB', 'UKR', 'SVN', 'HRV', 'SVK', 'CHL', 'BLR', 'CPV', 'CRI', 'EST', 'TWN', 'ALB', 'SGP', 'PRI', 'IDN', 'DOM', 'MUS', 'OMN', 'EGY', 'SAU', 'NZL', 'FRO', 'CYP', 'PER', 'CZE', 'GRC', 'ARM', 'COL', 'PAK', 'MDG', 'HKG', 'MYS', 'MKD', 'ISL', 'BIH', 'NGA', 'AZE', 'MAC', 'JEY', 'SUR', 'KWT', 'BGD', 'IRQ', 'MDV', 'GGY', 'VGB', 'ECU', 'URY', 'ETH', 'LBN', 'BOL', 'QAT', 'JOR', 'COM', 'GNB', 'MYT', 'UGA', 'BEN', 'GIB', 'KAZ', 'TZA', 'LBY', 'SYC', 'PRY', 'MNE', 'ZWE', 'CAF', 'ATA', 'MWI', 'JAM', 'AND', 'LIE', 'FJI', 'TJK', 'LKA', 'HND', 'PAN', 'CMR', 'KNA', 'KEN', 'UMI', 'PYF', 'GLP', 'BRB', 'CIV', 'ZMB', 'CUB', 'TGO', 'SYR', 'SDN', 'NAM', 'GHA', 'GTM', 'BHR', 'STP', 'MCO', 'IMN', 'RWA']\n",
            "Hay 8 valores unicos en 'market_segment': ['Online TA', 'Groups', 'Offline TA/TO', 'Direct', 'Complementary', 'Corporate', 'Aviation', 'Undefined']\n",
            "Hay 5 valores unicos en 'distribution_channel': ['TA/TO', 'Direct', 'Corporate', 'GDS', 'Undefined']\n",
            "Hay 2 valores unicos en 'is_repeated_guest': [0, 1]\n",
            "Hay 10 valores unicos en 'reserved_room_type': ['D', 'A', 'F', 'E', 'G', 'B', 'C', 'H', 'P', 'L']\n",
            "Hay 12 valores unicos en 'assigned_room_type': ['D', 'A', 'F', 'E', 'H', 'C', 'G', 'B', 'I', 'K', 'P', 'L']\n",
            "Hay 3 valores unicos en 'deposit_type': ['No Deposit', 'Non Refund', 'Refundable']\n",
            "Hay 297 valores unicos en 'agent': [9.0, nan, 154.0, 20.0, 314.0, 240.0, 58.0, 250.0, 86.0, 229.0, 1.0, 33.0, 8.0, 3.0, 236.0, 177.0, 38.0, 39.0, 170.0, 410.0, 85.0, 26.0, 96.0, 14.0, 134.0, 56.0, 234.0, 468.0, 254.0, 147.0, 34.0, 138.0, 40.0, 29.0, 315.0, 37.0, 195.0, 326.0, 35.0, 208.0, 22.0, 17.0, 296.0, 28.0, 6.0, 19.0, 98.0, 83.0, 298.0, 27.0, 378.0, 484.0, 7.0, 16.0, 21.0, 175.0, 171.0, 243.0, 41.0, 45.0, 11.0, 157.0, 273.0, 12.0, 387.0, 368.0, 434.0, 5.0, 36.0, 436.0, 405.0, 191.0, 257.0, 95.0, 15.0, 31.0, 440.0, 50.0, 241.0, 4.0, 67.0, 63.0, 168.0, 44.0, 261.0, 281.0, 94.0, 336.0, 30.0, 420.0, 104.0, 121.0, 464.0, 196.0, 142.0, 151.0, 242.0, 119.0, 339.0, 310.0, 531.0, 305.0, 2.0, 53.0, 64.0, 248.0, 313.0, 364.0, 286.0, 459.0, 133.0, 132.0, 245.0, 143.0, 52.0, 155.0, 251.0, 223.0, 156.0, 159.0, 185.0, 323.0, 13.0, 330.0, 359.0, 527.0, 103.0, 68.0, 174.0, 82.0, 42.0, 256.0, 483.0, 146.0, 89.0, 252.0, 220.0, 88.0, 303.0, 181.0, 152.0, 24.0, 394.0, 75.0, 306.0, 183.0, 69.0, 10.0, 184.0, 149.0, 162.0, 139.0, 99.0, 418.0, 71.0, 481.0, 493.0, 360.0, 115.0, 334.0, 47.0, 375.0, 341.0, 354.0, 214.0, 350.0, 87.0, 78.0, 126.0, 79.0, 348.0, 60.0, 332.0, 430.0, 474.0, 495.0, 163.0, 112.0, 423.0, 66.0, 55.0, 324.0, 270.0, 455.0, 219.0, 390.0, 91.0, 404.0, 355.0, 92.0, 253.0, 414.0, 192.0, 385.0, 307.0, 180.0, 308.0, 393.0, 74.0, 467.0, 249.0, 262.0, 23.0, 201.0, 492.0, 288.0, 129.0, 187.0, 235.0, 215.0, 57.0, 118.0, 127.0, 141.0, 290.0, 509.0, 77.0, 327.0, 93.0, 479.0, 173.0, 210.0, 197.0, 153.0, 128.0, 182.0, 475.0, 502.0, 205.0, 32.0, 425.0, 411.0, 193.0, 111.0, 275.0, 110.0, 289.0, 325.0, 105.0, 508.0, 461.0, 476.0, 388.0, 344.0, 287.0, 144.0, 276.0, 441.0, 328.0, 81.0, 432.0, 416.0, 107.0, 497.0, 438.0, 244.0, 535.0, 265.0, 449.0, 247.0, 269.0, 301.0, 72.0, 352.0, 335.0, 450.0, 283.0, 106.0, 371.0, 114.0, 302.0, 227.0, 472.0, 167.0, 61.0, 258.0, 384.0, 179.0, 391.0, 429.0, 59.0, 403.0, 267.0, 370.0, 299.0, 526.0, 431.0, 321.0, 333.0, 278.0, 148.0, 304.0, 451.0, 295.0, 291.0, 427.0, 25.0]\n",
            "Hay 277 valores unicos en 'company': [nan, 223.0, 512.0, 218.0, 233.0, 268.0, 385.0, 88.0, 154.0, 51.0, 281.0, 202.0, 67.0, 405.0, 45.0, 329.0, 46.0, 197.0, 137.0, 366.0, 174.0, 40.0, 144.0, 227.0, 86.0, 159.0, 477.0, 308.0, 43.0, 219.0, 68.0, 407.0, 81.0, 465.0, 343.0, 466.0, 353.0, 424.0, 485.0, 38.0, 94.0, 153.0, 72.0, 20.0, 47.0, 286.0, 195.0, 358.0, 277.0, 355.0, 12.0, 498.0, 278.0, 62.0, 393.0, 238.0, 242.0, 143.0, 135.0, 331.0, 400.0, 342.0, 110.0, 313.0, 78.0, 348.0, 209.0, 452.0, 99.0, 250.0, 118.0, 507.0, 397.0, 321.0, 113.0, 167.0, 9.0, 204.0, 280.0, 83.0, 203.0, 333.0, 365.0, 186.0, 324.0, 169.0, 496.0, 31.0, 382.0, 270.0, 84.0, 245.0, 274.0, 215.0, 418.0, 525.0, 290.0, 39.0, 14.0, 150.0, 251.0, 292.0, 91.0, 230.0, 521.0, 320.0, 334.0, 408.0, 207.0, 122.0, 178.0, 82.0, 388.0, 360.0, 148.0, 183.0, 22.0, 435.0, 420.0, 523.0, 307.0, 319.0, 49.0, 421.0, 380.0, 54.0, 221.0, 282.0, 48.0, 200.0, 126.0, 216.0, 338.0, 379.0, 356.0, 461.0, 543.0, 220.0, 371.0, 105.0, 311.0, 346.0, 269.0, 168.0, 372.0, 399.0, 120.0, 37.0, 115.0, 291.0, 127.0, 515.0, 439.0, 73.0, 428.0, 179.0, 383.0, 112.0, 284.0, 297.0, 499.0, 92.0, 234.0, 317.0, 396.0, 103.0, 140.0, 409.0, 445.0, 109.0, 240.0, 378.0, 271.0, 18.0, 384.0, 59.0, 376.0, 458.0, 272.0, 369.0, 107.0, 504.0, 528.0, 377.0, 149.0, 490.0, 163.0, 337.0, 370.0, 448.0, 243.0, 373.0, 450.0, 108.0, 254.0, 258.0, 293.0, 53.0, 341.0, 443.0, 425.0, 287.0, 325.0, 390.0, 302.0, 364.0, 288.0, 392.0, 130.0, 279.0, 349.0, 394.0, 323.0, 367.0, 361.0, 275.0, 305.0, 416.0, 436.0, 273.0, 263.0, 212.0, 357.0, 539.0, 470.0, 330.0, 486.0, 10.0, 442.0, 433.0, 246.0, 530.0, 34.0, 391.0, 225.0, 451.0, 192.0, 362.0, 213.0, 459.0, 437.0, 180.0, 255.0, 42.0, 193.0, 289.0, 460.0, 403.0, 395.0, 116.0, 541.0, 351.0, 481.0, 93.0, 457.0, 350.0, 368.0, 232.0, 492.0, 85.0, 484.0, 260.0, 28.0, 426.0, 479.0, 398.0, 16.0, 100.0, 316.0, 312.0, 96.0, 447.0, 104.0, 217.0, 259.0, 419.0, 160.0]\n",
            "Hay 4 valores unicos en 'customer_type': ['Transient', 'Transient-Party', 'Contract', 'Group']\n",
            "Hay 2 valores unicos en 'is_canceled': [1, 0]\n"
          ]
        }
      ]
    },
    {
      "cell_type": "code",
      "source": [
        "#Moda\n",
        "df_cualitativas.mode()"
      ],
      "metadata": {
        "colab": {
          "base_uri": "https://localhost:8080/",
          "height": 0
        },
        "id": "ll-A47bo1_bF",
        "outputId": "7fe7a34f-d9b5-4f63-8f87-b0183b718ae6"
      },
      "execution_count": 535,
      "outputs": [
        {
          "output_type": "execute_result",
          "data": {
            "text/plain": [
              "        hotel arrival_date_month meal country market_segment  \\\n",
              "0  City Hotel             August   BB     PRT      Online TA   \n",
              "\n",
              "  distribution_channel  is_repeated_guest reserved_room_type  \\\n",
              "0                TA/TO                  0                  A   \n",
              "\n",
              "  assigned_room_type deposit_type  agent  company customer_type  is_canceled  \n",
              "0                  A   No Deposit    9.0     40.0     Transient            0  "
            ],
            "text/html": [
              "\n",
              "  <div id=\"df-71cd287b-60aa-468b-8da6-200dac74237c\" class=\"colab-df-container\">\n",
              "    <div>\n",
              "<style scoped>\n",
              "    .dataframe tbody tr th:only-of-type {\n",
              "        vertical-align: middle;\n",
              "    }\n",
              "\n",
              "    .dataframe tbody tr th {\n",
              "        vertical-align: top;\n",
              "    }\n",
              "\n",
              "    .dataframe thead th {\n",
              "        text-align: right;\n",
              "    }\n",
              "</style>\n",
              "<table border=\"1\" class=\"dataframe\">\n",
              "  <thead>\n",
              "    <tr style=\"text-align: right;\">\n",
              "      <th></th>\n",
              "      <th>hotel</th>\n",
              "      <th>arrival_date_month</th>\n",
              "      <th>meal</th>\n",
              "      <th>country</th>\n",
              "      <th>market_segment</th>\n",
              "      <th>distribution_channel</th>\n",
              "      <th>is_repeated_guest</th>\n",
              "      <th>reserved_room_type</th>\n",
              "      <th>assigned_room_type</th>\n",
              "      <th>deposit_type</th>\n",
              "      <th>agent</th>\n",
              "      <th>company</th>\n",
              "      <th>customer_type</th>\n",
              "      <th>is_canceled</th>\n",
              "    </tr>\n",
              "  </thead>\n",
              "  <tbody>\n",
              "    <tr>\n",
              "      <th>0</th>\n",
              "      <td>City Hotel</td>\n",
              "      <td>August</td>\n",
              "      <td>BB</td>\n",
              "      <td>PRT</td>\n",
              "      <td>Online TA</td>\n",
              "      <td>TA/TO</td>\n",
              "      <td>0</td>\n",
              "      <td>A</td>\n",
              "      <td>A</td>\n",
              "      <td>No Deposit</td>\n",
              "      <td>9.0</td>\n",
              "      <td>40.0</td>\n",
              "      <td>Transient</td>\n",
              "      <td>0</td>\n",
              "    </tr>\n",
              "  </tbody>\n",
              "</table>\n",
              "</div>\n",
              "    <div class=\"colab-df-buttons\">\n",
              "\n",
              "  <div class=\"colab-df-container\">\n",
              "    <button class=\"colab-df-convert\" onclick=\"convertToInteractive('df-71cd287b-60aa-468b-8da6-200dac74237c')\"\n",
              "            title=\"Convert this dataframe to an interactive table.\"\n",
              "            style=\"display:none;\">\n",
              "\n",
              "  <svg xmlns=\"http://www.w3.org/2000/svg\" height=\"24px\" viewBox=\"0 -960 960 960\">\n",
              "    <path d=\"M120-120v-720h720v720H120Zm60-500h600v-160H180v160Zm220 220h160v-160H400v160Zm0 220h160v-160H400v160ZM180-400h160v-160H180v160Zm440 0h160v-160H620v160ZM180-180h160v-160H180v160Zm440 0h160v-160H620v160Z\"/>\n",
              "  </svg>\n",
              "    </button>\n",
              "\n",
              "  <style>\n",
              "    .colab-df-container {\n",
              "      display:flex;\n",
              "      gap: 12px;\n",
              "    }\n",
              "\n",
              "    .colab-df-convert {\n",
              "      background-color: #E8F0FE;\n",
              "      border: none;\n",
              "      border-radius: 50%;\n",
              "      cursor: pointer;\n",
              "      display: none;\n",
              "      fill: #1967D2;\n",
              "      height: 32px;\n",
              "      padding: 0 0 0 0;\n",
              "      width: 32px;\n",
              "    }\n",
              "\n",
              "    .colab-df-convert:hover {\n",
              "      background-color: #E2EBFA;\n",
              "      box-shadow: 0px 1px 2px rgba(60, 64, 67, 0.3), 0px 1px 3px 1px rgba(60, 64, 67, 0.15);\n",
              "      fill: #174EA6;\n",
              "    }\n",
              "\n",
              "    .colab-df-buttons div {\n",
              "      margin-bottom: 4px;\n",
              "    }\n",
              "\n",
              "    [theme=dark] .colab-df-convert {\n",
              "      background-color: #3B4455;\n",
              "      fill: #D2E3FC;\n",
              "    }\n",
              "\n",
              "    [theme=dark] .colab-df-convert:hover {\n",
              "      background-color: #434B5C;\n",
              "      box-shadow: 0px 1px 3px 1px rgba(0, 0, 0, 0.15);\n",
              "      filter: drop-shadow(0px 1px 2px rgba(0, 0, 0, 0.3));\n",
              "      fill: #FFFFFF;\n",
              "    }\n",
              "  </style>\n",
              "\n",
              "    <script>\n",
              "      const buttonEl =\n",
              "        document.querySelector('#df-71cd287b-60aa-468b-8da6-200dac74237c button.colab-df-convert');\n",
              "      buttonEl.style.display =\n",
              "        google.colab.kernel.accessAllowed ? 'block' : 'none';\n",
              "\n",
              "      async function convertToInteractive(key) {\n",
              "        const element = document.querySelector('#df-71cd287b-60aa-468b-8da6-200dac74237c');\n",
              "        const dataTable =\n",
              "          await google.colab.kernel.invokeFunction('convertToInteractive',\n",
              "                                                    [key], {});\n",
              "        if (!dataTable) return;\n",
              "\n",
              "        const docLinkHtml = 'Like what you see? Visit the ' +\n",
              "          '<a target=\"_blank\" href=https://colab.research.google.com/notebooks/data_table.ipynb>data table notebook</a>'\n",
              "          + ' to learn more about interactive tables.';\n",
              "        element.innerHTML = '';\n",
              "        dataTable['output_type'] = 'display_data';\n",
              "        await google.colab.output.renderOutput(dataTable, element);\n",
              "        const docLink = document.createElement('div');\n",
              "        docLink.innerHTML = docLinkHtml;\n",
              "        element.appendChild(docLink);\n",
              "      }\n",
              "    </script>\n",
              "  </div>\n",
              "\n",
              "    </div>\n",
              "  </div>\n"
            ]
          },
          "metadata": {},
          "execution_count": 535
        }
      ]
    },
    {
      "cell_type": "markdown",
      "source": [
        "### Frecuencias\n",
        "Podemos ver las frecuencias de cada valor unico en las columnas"
      ],
      "metadata": {
        "id": "9hnVYSKy2OML"
      }
    },
    {
      "cell_type": "code",
      "source": [
        "df_cualitativas['hotel'].value_counts()"
      ],
      "metadata": {
        "colab": {
          "base_uri": "https://localhost:8080/"
        },
        "id": "TWoGWaRw2PSQ",
        "outputId": "d20e90c3-18c1-44fa-d7f1-4148a9b18417"
      },
      "execution_count": 536,
      "outputs": [
        {
          "output_type": "execute_result",
          "data": {
            "text/plain": [
              "City Hotel      42129\n",
              "Resort Hotel    19784\n",
              "Name: hotel, dtype: int64"
            ]
          },
          "metadata": {},
          "execution_count": 536
        }
      ]
    },
    {
      "cell_type": "code",
      "source": [
        "df_cualitativas['arrival_date_month'].value_counts()"
      ],
      "metadata": {
        "colab": {
          "base_uri": "https://localhost:8080/"
        },
        "id": "1t52M5hK2bvs",
        "outputId": "2821b354-59d1-422f-9fb8-67980211cd84"
      },
      "execution_count": 537,
      "outputs": [
        {
          "output_type": "execute_result",
          "data": {
            "text/plain": [
              "August       7176\n",
              "July         6524\n",
              "May          6159\n",
              "April        5878\n",
              "October      5863\n",
              "June         5772\n",
              "September    5619\n",
              "March        4899\n",
              "February     4125\n",
              "December     3493\n",
              "November     3404\n",
              "January      3001\n",
              "Name: arrival_date_month, dtype: int64"
            ]
          },
          "metadata": {},
          "execution_count": 537
        }
      ]
    },
    {
      "cell_type": "code",
      "source": [
        "df_cualitativas['meal'].value_counts()"
      ],
      "metadata": {
        "colab": {
          "base_uri": "https://localhost:8080/"
        },
        "id": "hnulvglO2f_x",
        "outputId": "48e3bf1d-c3e4-4a33-da06-2005e91f9c48"
      },
      "execution_count": 538,
      "outputs": [
        {
          "output_type": "execute_result",
          "data": {
            "text/plain": [
              "BB           47837\n",
              "HB            7452\n",
              "SC            5556\n",
              "Undefined      591\n",
              "FB             477\n",
              "Name: meal, dtype: int64"
            ]
          },
          "metadata": {},
          "execution_count": 538
        }
      ]
    },
    {
      "cell_type": "code",
      "source": [
        "#Los primeros 20 paises con mas frecuencia\n",
        "df_cualitativas.groupby('country').size().sort_values(ascending=False).head(20)"
      ],
      "metadata": {
        "colab": {
          "base_uri": "https://localhost:8080/"
        },
        "id": "mRsM-_DG2i9T",
        "outputId": "bc556aad-8ec5-4da5-a1cd-0e4152d7ca3a"
      },
      "execution_count": 539,
      "outputs": [
        {
          "output_type": "execute_result",
          "data": {
            "text/plain": [
              "country\n",
              "PRT    27950\n",
              "GBR     5733\n",
              "FRA     4809\n",
              "ESP     4210\n",
              "DEU     3312\n",
              "ITA     1911\n",
              "IRL     1617\n",
              "BRA     1152\n",
              "BEL     1124\n",
              "USA     1021\n",
              "NLD      982\n",
              "CHE      847\n",
              "CN       597\n",
              "AUT      581\n",
              "CHN      545\n",
              "SWE      481\n",
              "POL      430\n",
              "RUS      337\n",
              "ISR      322\n",
              "NOR      302\n",
              "dtype: int64"
            ]
          },
          "metadata": {},
          "execution_count": 539
        }
      ]
    },
    {
      "cell_type": "code",
      "source": [
        "df_cualitativas['market_segment'].value_counts()"
      ],
      "metadata": {
        "colab": {
          "base_uri": "https://localhost:8080/"
        },
        "id": "t08Bd3DS2tCx",
        "outputId": "c1ac5975-6edc-437a-9e94-75355ee958de"
      },
      "execution_count": 540,
      "outputs": [
        {
          "output_type": "execute_result",
          "data": {
            "text/plain": [
              "Online TA        29269\n",
              "Offline TA/TO    12384\n",
              "Groups           11545\n",
              "Direct            5757\n",
              "Corporate         2484\n",
              "Complementary      359\n",
              "Aviation           113\n",
              "Undefined            2\n",
              "Name: market_segment, dtype: int64"
            ]
          },
          "metadata": {},
          "execution_count": 540
        }
      ]
    },
    {
      "cell_type": "code",
      "source": [
        "df_cualitativas['distribution_channel'].value_counts()"
      ],
      "metadata": {
        "colab": {
          "base_uri": "https://localhost:8080/"
        },
        "id": "gaXigKbX2xfR",
        "outputId": "ce3cc2e9-615f-42f6-f838-845edb27a543"
      },
      "execution_count": 541,
      "outputs": [
        {
          "output_type": "execute_result",
          "data": {
            "text/plain": [
              "TA/TO        51849\n",
              "Direct        6799\n",
              "Corporate     3172\n",
              "GDS             89\n",
              "Undefined        4\n",
              "Name: distribution_channel, dtype: int64"
            ]
          },
          "metadata": {},
          "execution_count": 541
        }
      ]
    },
    {
      "cell_type": "code",
      "source": [
        "repeated_guest = df_cualitativas.groupby('is_repeated_guest').size()\n",
        "canceled = df_cualitativas.groupby('is_canceled').size()\n",
        "booleanos = pd.concat([repeated_guest, canceled], axis=1)\n",
        "booleanos.columns = ['is_repeated_guest','is_canceled']\n",
        "booleanos"
      ],
      "metadata": {
        "colab": {
          "base_uri": "https://localhost:8080/",
          "height": 0
        },
        "id": "bScFT_mt2-TV",
        "outputId": "63a03768-6022-49a4-8a3f-6434b63b0aa8"
      },
      "execution_count": 542,
      "outputs": [
        {
          "output_type": "execute_result",
          "data": {
            "text/plain": [
              "   is_repeated_guest  is_canceled\n",
              "0              60180        30972\n",
              "1               1733        30941"
            ],
            "text/html": [
              "\n",
              "  <div id=\"df-e0ad0eab-1b8b-44ca-89f5-2ab51186d06a\" class=\"colab-df-container\">\n",
              "    <div>\n",
              "<style scoped>\n",
              "    .dataframe tbody tr th:only-of-type {\n",
              "        vertical-align: middle;\n",
              "    }\n",
              "\n",
              "    .dataframe tbody tr th {\n",
              "        vertical-align: top;\n",
              "    }\n",
              "\n",
              "    .dataframe thead th {\n",
              "        text-align: right;\n",
              "    }\n",
              "</style>\n",
              "<table border=\"1\" class=\"dataframe\">\n",
              "  <thead>\n",
              "    <tr style=\"text-align: right;\">\n",
              "      <th></th>\n",
              "      <th>is_repeated_guest</th>\n",
              "      <th>is_canceled</th>\n",
              "    </tr>\n",
              "  </thead>\n",
              "  <tbody>\n",
              "    <tr>\n",
              "      <th>0</th>\n",
              "      <td>60180</td>\n",
              "      <td>30972</td>\n",
              "    </tr>\n",
              "    <tr>\n",
              "      <th>1</th>\n",
              "      <td>1733</td>\n",
              "      <td>30941</td>\n",
              "    </tr>\n",
              "  </tbody>\n",
              "</table>\n",
              "</div>\n",
              "    <div class=\"colab-df-buttons\">\n",
              "\n",
              "  <div class=\"colab-df-container\">\n",
              "    <button class=\"colab-df-convert\" onclick=\"convertToInteractive('df-e0ad0eab-1b8b-44ca-89f5-2ab51186d06a')\"\n",
              "            title=\"Convert this dataframe to an interactive table.\"\n",
              "            style=\"display:none;\">\n",
              "\n",
              "  <svg xmlns=\"http://www.w3.org/2000/svg\" height=\"24px\" viewBox=\"0 -960 960 960\">\n",
              "    <path d=\"M120-120v-720h720v720H120Zm60-500h600v-160H180v160Zm220 220h160v-160H400v160Zm0 220h160v-160H400v160ZM180-400h160v-160H180v160Zm440 0h160v-160H620v160ZM180-180h160v-160H180v160Zm440 0h160v-160H620v160Z\"/>\n",
              "  </svg>\n",
              "    </button>\n",
              "\n",
              "  <style>\n",
              "    .colab-df-container {\n",
              "      display:flex;\n",
              "      gap: 12px;\n",
              "    }\n",
              "\n",
              "    .colab-df-convert {\n",
              "      background-color: #E8F0FE;\n",
              "      border: none;\n",
              "      border-radius: 50%;\n",
              "      cursor: pointer;\n",
              "      display: none;\n",
              "      fill: #1967D2;\n",
              "      height: 32px;\n",
              "      padding: 0 0 0 0;\n",
              "      width: 32px;\n",
              "    }\n",
              "\n",
              "    .colab-df-convert:hover {\n",
              "      background-color: #E2EBFA;\n",
              "      box-shadow: 0px 1px 2px rgba(60, 64, 67, 0.3), 0px 1px 3px 1px rgba(60, 64, 67, 0.15);\n",
              "      fill: #174EA6;\n",
              "    }\n",
              "\n",
              "    .colab-df-buttons div {\n",
              "      margin-bottom: 4px;\n",
              "    }\n",
              "\n",
              "    [theme=dark] .colab-df-convert {\n",
              "      background-color: #3B4455;\n",
              "      fill: #D2E3FC;\n",
              "    }\n",
              "\n",
              "    [theme=dark] .colab-df-convert:hover {\n",
              "      background-color: #434B5C;\n",
              "      box-shadow: 0px 1px 3px 1px rgba(0, 0, 0, 0.15);\n",
              "      filter: drop-shadow(0px 1px 2px rgba(0, 0, 0, 0.3));\n",
              "      fill: #FFFFFF;\n",
              "    }\n",
              "  </style>\n",
              "\n",
              "    <script>\n",
              "      const buttonEl =\n",
              "        document.querySelector('#df-e0ad0eab-1b8b-44ca-89f5-2ab51186d06a button.colab-df-convert');\n",
              "      buttonEl.style.display =\n",
              "        google.colab.kernel.accessAllowed ? 'block' : 'none';\n",
              "\n",
              "      async function convertToInteractive(key) {\n",
              "        const element = document.querySelector('#df-e0ad0eab-1b8b-44ca-89f5-2ab51186d06a');\n",
              "        const dataTable =\n",
              "          await google.colab.kernel.invokeFunction('convertToInteractive',\n",
              "                                                    [key], {});\n",
              "        if (!dataTable) return;\n",
              "\n",
              "        const docLinkHtml = 'Like what you see? Visit the ' +\n",
              "          '<a target=\"_blank\" href=https://colab.research.google.com/notebooks/data_table.ipynb>data table notebook</a>'\n",
              "          + ' to learn more about interactive tables.';\n",
              "        element.innerHTML = '';\n",
              "        dataTable['output_type'] = 'display_data';\n",
              "        await google.colab.output.renderOutput(dataTable, element);\n",
              "        const docLink = document.createElement('div');\n",
              "        docLink.innerHTML = docLinkHtml;\n",
              "        element.appendChild(docLink);\n",
              "      }\n",
              "    </script>\n",
              "  </div>\n",
              "\n",
              "\n",
              "<div id=\"df-1f4838f9-49b0-45c7-acdb-288afe846b54\">\n",
              "  <button class=\"colab-df-quickchart\" onclick=\"quickchart('df-1f4838f9-49b0-45c7-acdb-288afe846b54')\"\n",
              "            title=\"Suggest charts.\"\n",
              "            style=\"display:none;\">\n",
              "\n",
              "<svg xmlns=\"http://www.w3.org/2000/svg\" height=\"24px\"viewBox=\"0 0 24 24\"\n",
              "     width=\"24px\">\n",
              "    <g>\n",
              "        <path d=\"M19 3H5c-1.1 0-2 .9-2 2v14c0 1.1.9 2 2 2h14c1.1 0 2-.9 2-2V5c0-1.1-.9-2-2-2zM9 17H7v-7h2v7zm4 0h-2V7h2v10zm4 0h-2v-4h2v4z\"/>\n",
              "    </g>\n",
              "</svg>\n",
              "  </button>\n",
              "\n",
              "<style>\n",
              "  .colab-df-quickchart {\n",
              "      --bg-color: #E8F0FE;\n",
              "      --fill-color: #1967D2;\n",
              "      --hover-bg-color: #E2EBFA;\n",
              "      --hover-fill-color: #174EA6;\n",
              "      --disabled-fill-color: #AAA;\n",
              "      --disabled-bg-color: #DDD;\n",
              "  }\n",
              "\n",
              "  [theme=dark] .colab-df-quickchart {\n",
              "      --bg-color: #3B4455;\n",
              "      --fill-color: #D2E3FC;\n",
              "      --hover-bg-color: #434B5C;\n",
              "      --hover-fill-color: #FFFFFF;\n",
              "      --disabled-bg-color: #3B4455;\n",
              "      --disabled-fill-color: #666;\n",
              "  }\n",
              "\n",
              "  .colab-df-quickchart {\n",
              "    background-color: var(--bg-color);\n",
              "    border: none;\n",
              "    border-radius: 50%;\n",
              "    cursor: pointer;\n",
              "    display: none;\n",
              "    fill: var(--fill-color);\n",
              "    height: 32px;\n",
              "    padding: 0;\n",
              "    width: 32px;\n",
              "  }\n",
              "\n",
              "  .colab-df-quickchart:hover {\n",
              "    background-color: var(--hover-bg-color);\n",
              "    box-shadow: 0 1px 2px rgba(60, 64, 67, 0.3), 0 1px 3px 1px rgba(60, 64, 67, 0.15);\n",
              "    fill: var(--button-hover-fill-color);\n",
              "  }\n",
              "\n",
              "  .colab-df-quickchart-complete:disabled,\n",
              "  .colab-df-quickchart-complete:disabled:hover {\n",
              "    background-color: var(--disabled-bg-color);\n",
              "    fill: var(--disabled-fill-color);\n",
              "    box-shadow: none;\n",
              "  }\n",
              "\n",
              "  .colab-df-spinner {\n",
              "    border: 2px solid var(--fill-color);\n",
              "    border-color: transparent;\n",
              "    border-bottom-color: var(--fill-color);\n",
              "    animation:\n",
              "      spin 1s steps(1) infinite;\n",
              "  }\n",
              "\n",
              "  @keyframes spin {\n",
              "    0% {\n",
              "      border-color: transparent;\n",
              "      border-bottom-color: var(--fill-color);\n",
              "      border-left-color: var(--fill-color);\n",
              "    }\n",
              "    20% {\n",
              "      border-color: transparent;\n",
              "      border-left-color: var(--fill-color);\n",
              "      border-top-color: var(--fill-color);\n",
              "    }\n",
              "    30% {\n",
              "      border-color: transparent;\n",
              "      border-left-color: var(--fill-color);\n",
              "      border-top-color: var(--fill-color);\n",
              "      border-right-color: var(--fill-color);\n",
              "    }\n",
              "    40% {\n",
              "      border-color: transparent;\n",
              "      border-right-color: var(--fill-color);\n",
              "      border-top-color: var(--fill-color);\n",
              "    }\n",
              "    60% {\n",
              "      border-color: transparent;\n",
              "      border-right-color: var(--fill-color);\n",
              "    }\n",
              "    80% {\n",
              "      border-color: transparent;\n",
              "      border-right-color: var(--fill-color);\n",
              "      border-bottom-color: var(--fill-color);\n",
              "    }\n",
              "    90% {\n",
              "      border-color: transparent;\n",
              "      border-bottom-color: var(--fill-color);\n",
              "    }\n",
              "  }\n",
              "</style>\n",
              "\n",
              "  <script>\n",
              "    async function quickchart(key) {\n",
              "      const quickchartButtonEl =\n",
              "        document.querySelector('#' + key + ' button');\n",
              "      quickchartButtonEl.disabled = true;  // To prevent multiple clicks.\n",
              "      quickchartButtonEl.classList.add('colab-df-spinner');\n",
              "      try {\n",
              "        const charts = await google.colab.kernel.invokeFunction(\n",
              "            'suggestCharts', [key], {});\n",
              "      } catch (error) {\n",
              "        console.error('Error during call to suggestCharts:', error);\n",
              "      }\n",
              "      quickchartButtonEl.classList.remove('colab-df-spinner');\n",
              "      quickchartButtonEl.classList.add('colab-df-quickchart-complete');\n",
              "    }\n",
              "    (() => {\n",
              "      let quickchartButtonEl =\n",
              "        document.querySelector('#df-1f4838f9-49b0-45c7-acdb-288afe846b54 button');\n",
              "      quickchartButtonEl.style.display =\n",
              "        google.colab.kernel.accessAllowed ? 'block' : 'none';\n",
              "    })();\n",
              "  </script>\n",
              "</div>\n",
              "    </div>\n",
              "  </div>\n"
            ]
          },
          "metadata": {},
          "execution_count": 542
        }
      ]
    },
    {
      "cell_type": "code",
      "source": [
        "reserved_room = df_cualitativas.groupby('reserved_room_type').size()\n",
        "assigned_room = df_cualitativas.groupby('assigned_room_type').size()\n",
        "rooms = pd.concat([reserved_room, assigned_room], axis=1)\n",
        "rooms.columns = ['reserved_room_type','assigned_room_type']\n",
        "rooms"
      ],
      "metadata": {
        "colab": {
          "base_uri": "https://localhost:8080/",
          "height": 0
        },
        "id": "GtjtfZYc3DiY",
        "outputId": "7088e7f9-c0b7-4161-cc3f-7cc4f41327d6"
      },
      "execution_count": 543,
      "outputs": [
        {
          "output_type": "execute_result",
          "data": {
            "text/plain": [
              "   reserved_room_type  assigned_room_type\n",
              "A             45134.0               40007\n",
              "B               580.0                1056\n",
              "C               482.0                1127\n",
              "D              9585.0               12190\n",
              "E              3249.0                3779\n",
              "F              1451.0                1821\n",
              "G              1090.0                1277\n",
              "H               334.0                 384\n",
              "L                 1.0                   1\n",
              "P                 7.0                   7\n",
              "I                 NaN                 145\n",
              "K                 NaN                 119"
            ],
            "text/html": [
              "\n",
              "  <div id=\"df-8417d8e9-a922-406d-860b-eb504562079a\" class=\"colab-df-container\">\n",
              "    <div>\n",
              "<style scoped>\n",
              "    .dataframe tbody tr th:only-of-type {\n",
              "        vertical-align: middle;\n",
              "    }\n",
              "\n",
              "    .dataframe tbody tr th {\n",
              "        vertical-align: top;\n",
              "    }\n",
              "\n",
              "    .dataframe thead th {\n",
              "        text-align: right;\n",
              "    }\n",
              "</style>\n",
              "<table border=\"1\" class=\"dataframe\">\n",
              "  <thead>\n",
              "    <tr style=\"text-align: right;\">\n",
              "      <th></th>\n",
              "      <th>reserved_room_type</th>\n",
              "      <th>assigned_room_type</th>\n",
              "    </tr>\n",
              "  </thead>\n",
              "  <tbody>\n",
              "    <tr>\n",
              "      <th>A</th>\n",
              "      <td>45134.0</td>\n",
              "      <td>40007</td>\n",
              "    </tr>\n",
              "    <tr>\n",
              "      <th>B</th>\n",
              "      <td>580.0</td>\n",
              "      <td>1056</td>\n",
              "    </tr>\n",
              "    <tr>\n",
              "      <th>C</th>\n",
              "      <td>482.0</td>\n",
              "      <td>1127</td>\n",
              "    </tr>\n",
              "    <tr>\n",
              "      <th>D</th>\n",
              "      <td>9585.0</td>\n",
              "      <td>12190</td>\n",
              "    </tr>\n",
              "    <tr>\n",
              "      <th>E</th>\n",
              "      <td>3249.0</td>\n",
              "      <td>3779</td>\n",
              "    </tr>\n",
              "    <tr>\n",
              "      <th>F</th>\n",
              "      <td>1451.0</td>\n",
              "      <td>1821</td>\n",
              "    </tr>\n",
              "    <tr>\n",
              "      <th>G</th>\n",
              "      <td>1090.0</td>\n",
              "      <td>1277</td>\n",
              "    </tr>\n",
              "    <tr>\n",
              "      <th>H</th>\n",
              "      <td>334.0</td>\n",
              "      <td>384</td>\n",
              "    </tr>\n",
              "    <tr>\n",
              "      <th>L</th>\n",
              "      <td>1.0</td>\n",
              "      <td>1</td>\n",
              "    </tr>\n",
              "    <tr>\n",
              "      <th>P</th>\n",
              "      <td>7.0</td>\n",
              "      <td>7</td>\n",
              "    </tr>\n",
              "    <tr>\n",
              "      <th>I</th>\n",
              "      <td>NaN</td>\n",
              "      <td>145</td>\n",
              "    </tr>\n",
              "    <tr>\n",
              "      <th>K</th>\n",
              "      <td>NaN</td>\n",
              "      <td>119</td>\n",
              "    </tr>\n",
              "  </tbody>\n",
              "</table>\n",
              "</div>\n",
              "    <div class=\"colab-df-buttons\">\n",
              "\n",
              "  <div class=\"colab-df-container\">\n",
              "    <button class=\"colab-df-convert\" onclick=\"convertToInteractive('df-8417d8e9-a922-406d-860b-eb504562079a')\"\n",
              "            title=\"Convert this dataframe to an interactive table.\"\n",
              "            style=\"display:none;\">\n",
              "\n",
              "  <svg xmlns=\"http://www.w3.org/2000/svg\" height=\"24px\" viewBox=\"0 -960 960 960\">\n",
              "    <path d=\"M120-120v-720h720v720H120Zm60-500h600v-160H180v160Zm220 220h160v-160H400v160Zm0 220h160v-160H400v160ZM180-400h160v-160H180v160Zm440 0h160v-160H620v160ZM180-180h160v-160H180v160Zm440 0h160v-160H620v160Z\"/>\n",
              "  </svg>\n",
              "    </button>\n",
              "\n",
              "  <style>\n",
              "    .colab-df-container {\n",
              "      display:flex;\n",
              "      gap: 12px;\n",
              "    }\n",
              "\n",
              "    .colab-df-convert {\n",
              "      background-color: #E8F0FE;\n",
              "      border: none;\n",
              "      border-radius: 50%;\n",
              "      cursor: pointer;\n",
              "      display: none;\n",
              "      fill: #1967D2;\n",
              "      height: 32px;\n",
              "      padding: 0 0 0 0;\n",
              "      width: 32px;\n",
              "    }\n",
              "\n",
              "    .colab-df-convert:hover {\n",
              "      background-color: #E2EBFA;\n",
              "      box-shadow: 0px 1px 2px rgba(60, 64, 67, 0.3), 0px 1px 3px 1px rgba(60, 64, 67, 0.15);\n",
              "      fill: #174EA6;\n",
              "    }\n",
              "\n",
              "    .colab-df-buttons div {\n",
              "      margin-bottom: 4px;\n",
              "    }\n",
              "\n",
              "    [theme=dark] .colab-df-convert {\n",
              "      background-color: #3B4455;\n",
              "      fill: #D2E3FC;\n",
              "    }\n",
              "\n",
              "    [theme=dark] .colab-df-convert:hover {\n",
              "      background-color: #434B5C;\n",
              "      box-shadow: 0px 1px 3px 1px rgba(0, 0, 0, 0.15);\n",
              "      filter: drop-shadow(0px 1px 2px rgba(0, 0, 0, 0.3));\n",
              "      fill: #FFFFFF;\n",
              "    }\n",
              "  </style>\n",
              "\n",
              "    <script>\n",
              "      const buttonEl =\n",
              "        document.querySelector('#df-8417d8e9-a922-406d-860b-eb504562079a button.colab-df-convert');\n",
              "      buttonEl.style.display =\n",
              "        google.colab.kernel.accessAllowed ? 'block' : 'none';\n",
              "\n",
              "      async function convertToInteractive(key) {\n",
              "        const element = document.querySelector('#df-8417d8e9-a922-406d-860b-eb504562079a');\n",
              "        const dataTable =\n",
              "          await google.colab.kernel.invokeFunction('convertToInteractive',\n",
              "                                                    [key], {});\n",
              "        if (!dataTable) return;\n",
              "\n",
              "        const docLinkHtml = 'Like what you see? Visit the ' +\n",
              "          '<a target=\"_blank\" href=https://colab.research.google.com/notebooks/data_table.ipynb>data table notebook</a>'\n",
              "          + ' to learn more about interactive tables.';\n",
              "        element.innerHTML = '';\n",
              "        dataTable['output_type'] = 'display_data';\n",
              "        await google.colab.output.renderOutput(dataTable, element);\n",
              "        const docLink = document.createElement('div');\n",
              "        docLink.innerHTML = docLinkHtml;\n",
              "        element.appendChild(docLink);\n",
              "      }\n",
              "    </script>\n",
              "  </div>\n",
              "\n",
              "\n",
              "<div id=\"df-c4b4311c-d5e2-45c4-9fad-f44495c9a462\">\n",
              "  <button class=\"colab-df-quickchart\" onclick=\"quickchart('df-c4b4311c-d5e2-45c4-9fad-f44495c9a462')\"\n",
              "            title=\"Suggest charts.\"\n",
              "            style=\"display:none;\">\n",
              "\n",
              "<svg xmlns=\"http://www.w3.org/2000/svg\" height=\"24px\"viewBox=\"0 0 24 24\"\n",
              "     width=\"24px\">\n",
              "    <g>\n",
              "        <path d=\"M19 3H5c-1.1 0-2 .9-2 2v14c0 1.1.9 2 2 2h14c1.1 0 2-.9 2-2V5c0-1.1-.9-2-2-2zM9 17H7v-7h2v7zm4 0h-2V7h2v10zm4 0h-2v-4h2v4z\"/>\n",
              "    </g>\n",
              "</svg>\n",
              "  </button>\n",
              "\n",
              "<style>\n",
              "  .colab-df-quickchart {\n",
              "      --bg-color: #E8F0FE;\n",
              "      --fill-color: #1967D2;\n",
              "      --hover-bg-color: #E2EBFA;\n",
              "      --hover-fill-color: #174EA6;\n",
              "      --disabled-fill-color: #AAA;\n",
              "      --disabled-bg-color: #DDD;\n",
              "  }\n",
              "\n",
              "  [theme=dark] .colab-df-quickchart {\n",
              "      --bg-color: #3B4455;\n",
              "      --fill-color: #D2E3FC;\n",
              "      --hover-bg-color: #434B5C;\n",
              "      --hover-fill-color: #FFFFFF;\n",
              "      --disabled-bg-color: #3B4455;\n",
              "      --disabled-fill-color: #666;\n",
              "  }\n",
              "\n",
              "  .colab-df-quickchart {\n",
              "    background-color: var(--bg-color);\n",
              "    border: none;\n",
              "    border-radius: 50%;\n",
              "    cursor: pointer;\n",
              "    display: none;\n",
              "    fill: var(--fill-color);\n",
              "    height: 32px;\n",
              "    padding: 0;\n",
              "    width: 32px;\n",
              "  }\n",
              "\n",
              "  .colab-df-quickchart:hover {\n",
              "    background-color: var(--hover-bg-color);\n",
              "    box-shadow: 0 1px 2px rgba(60, 64, 67, 0.3), 0 1px 3px 1px rgba(60, 64, 67, 0.15);\n",
              "    fill: var(--button-hover-fill-color);\n",
              "  }\n",
              "\n",
              "  .colab-df-quickchart-complete:disabled,\n",
              "  .colab-df-quickchart-complete:disabled:hover {\n",
              "    background-color: var(--disabled-bg-color);\n",
              "    fill: var(--disabled-fill-color);\n",
              "    box-shadow: none;\n",
              "  }\n",
              "\n",
              "  .colab-df-spinner {\n",
              "    border: 2px solid var(--fill-color);\n",
              "    border-color: transparent;\n",
              "    border-bottom-color: var(--fill-color);\n",
              "    animation:\n",
              "      spin 1s steps(1) infinite;\n",
              "  }\n",
              "\n",
              "  @keyframes spin {\n",
              "    0% {\n",
              "      border-color: transparent;\n",
              "      border-bottom-color: var(--fill-color);\n",
              "      border-left-color: var(--fill-color);\n",
              "    }\n",
              "    20% {\n",
              "      border-color: transparent;\n",
              "      border-left-color: var(--fill-color);\n",
              "      border-top-color: var(--fill-color);\n",
              "    }\n",
              "    30% {\n",
              "      border-color: transparent;\n",
              "      border-left-color: var(--fill-color);\n",
              "      border-top-color: var(--fill-color);\n",
              "      border-right-color: var(--fill-color);\n",
              "    }\n",
              "    40% {\n",
              "      border-color: transparent;\n",
              "      border-right-color: var(--fill-color);\n",
              "      border-top-color: var(--fill-color);\n",
              "    }\n",
              "    60% {\n",
              "      border-color: transparent;\n",
              "      border-right-color: var(--fill-color);\n",
              "    }\n",
              "    80% {\n",
              "      border-color: transparent;\n",
              "      border-right-color: var(--fill-color);\n",
              "      border-bottom-color: var(--fill-color);\n",
              "    }\n",
              "    90% {\n",
              "      border-color: transparent;\n",
              "      border-bottom-color: var(--fill-color);\n",
              "    }\n",
              "  }\n",
              "</style>\n",
              "\n",
              "  <script>\n",
              "    async function quickchart(key) {\n",
              "      const quickchartButtonEl =\n",
              "        document.querySelector('#' + key + ' button');\n",
              "      quickchartButtonEl.disabled = true;  // To prevent multiple clicks.\n",
              "      quickchartButtonEl.classList.add('colab-df-spinner');\n",
              "      try {\n",
              "        const charts = await google.colab.kernel.invokeFunction(\n",
              "            'suggestCharts', [key], {});\n",
              "      } catch (error) {\n",
              "        console.error('Error during call to suggestCharts:', error);\n",
              "      }\n",
              "      quickchartButtonEl.classList.remove('colab-df-spinner');\n",
              "      quickchartButtonEl.classList.add('colab-df-quickchart-complete');\n",
              "    }\n",
              "    (() => {\n",
              "      let quickchartButtonEl =\n",
              "        document.querySelector('#df-c4b4311c-d5e2-45c4-9fad-f44495c9a462 button');\n",
              "      quickchartButtonEl.style.display =\n",
              "        google.colab.kernel.accessAllowed ? 'block' : 'none';\n",
              "    })();\n",
              "  </script>\n",
              "</div>\n",
              "    </div>\n",
              "  </div>\n"
            ]
          },
          "metadata": {},
          "execution_count": 543
        }
      ]
    },
    {
      "cell_type": "code",
      "source": [
        "df_cualitativas['deposit_type'].value_counts()"
      ],
      "metadata": {
        "colab": {
          "base_uri": "https://localhost:8080/"
        },
        "id": "EIqPdOMu3F1i",
        "outputId": "e0374b72-f81c-41a4-f517-44378f2d0b99"
      },
      "execution_count": 544,
      "outputs": [
        {
          "output_type": "execute_result",
          "data": {
            "text/plain": [
              "No Deposit    51685\n",
              "Non Refund    10150\n",
              "Refundable       78\n",
              "Name: deposit_type, dtype: int64"
            ]
          },
          "metadata": {},
          "execution_count": 544
        }
      ]
    },
    {
      "cell_type": "code",
      "source": [
        "#Los primeros 15 agentes con mayor frecuencia\n",
        "df_cualitativas['agent'].value_counts(dropna=False).head(15)"
      ],
      "metadata": {
        "colab": {
          "base_uri": "https://localhost:8080/"
        },
        "id": "ccHDN7SU3JI5",
        "outputId": "40fb6883-ba60-4b83-aa32-00c2323a24e7"
      },
      "execution_count": 545,
      "outputs": [
        {
          "output_type": "execute_result",
          "data": {
            "text/plain": [
              "9.0      17004\n",
              "NaN       7890\n",
              "240.0     7386\n",
              "1.0       4424\n",
              "14.0      1700\n",
              "6.0       1639\n",
              "7.0       1581\n",
              "250.0     1346\n",
              "241.0      770\n",
              "3.0        739\n",
              "8.0        732\n",
              "37.0       726\n",
              "28.0       696\n",
              "19.0       662\n",
              "21.0       547\n",
              "Name: agent, dtype: int64"
            ]
          },
          "metadata": {},
          "execution_count": 545
        }
      ]
    },
    {
      "cell_type": "code",
      "source": [
        "#Las primeras 15 companias con mas frecuencia\n",
        "df_cualitativas['company'].value_counts(dropna=False).head(15)"
      ],
      "metadata": {
        "colab": {
          "base_uri": "https://localhost:8080/"
        },
        "id": "XSTHEtXf3N4c",
        "outputId": "0c7485d5-a6b3-4c52-b6fc-077c55becf90"
      },
      "execution_count": 546,
      "outputs": [
        {
          "output_type": "execute_result",
          "data": {
            "text/plain": [
              "NaN      58761\n",
              "40.0       390\n",
              "223.0      364\n",
              "67.0       169\n",
              "45.0       118\n",
              "153.0      106\n",
              "174.0       73\n",
              "281.0       69\n",
              "219.0       66\n",
              "51.0        53\n",
              "405.0       49\n",
              "154.0       47\n",
              "233.0       45\n",
              "94.0        43\n",
              "348.0       38\n",
              "Name: company, dtype: int64"
            ]
          },
          "metadata": {},
          "execution_count": 546
        }
      ]
    },
    {
      "cell_type": "code",
      "source": [
        "df_cualitativas['customer_type'].value_counts()"
      ],
      "metadata": {
        "colab": {
          "base_uri": "https://localhost:8080/"
        },
        "id": "PHeHMUuK3Gpd",
        "outputId": "f48bee42-f064-4b84-c1e3-c47a7a7f0cc8"
      },
      "execution_count": 547,
      "outputs": [
        {
          "output_type": "execute_result",
          "data": {
            "text/plain": [
              "Transient          47449\n",
              "Transient-Party    12168\n",
              "Contract            2033\n",
              "Group                263\n",
              "Name: customer_type, dtype: int64"
            ]
          },
          "metadata": {},
          "execution_count": 547
        }
      ]
    },
    {
      "cell_type": "markdown",
      "source": [
        "## Determinando si Existen Variables Irrelevantes para el Análisis"
      ],
      "metadata": {
        "id": "Sp6yuOJCfQAV"
      }
    },
    {
      "cell_type": "markdown",
      "source": [
        "### Análisis de *ID*\n",
        "Consideramos que la variable que claramente no nos va a resultar reelevante es el campo *id*, ya que solo identifica a las reservas y es único para todas."
      ],
      "metadata": {
        "id": "_iXdyjxUfU8F"
      }
    },
    {
      "cell_type": "code",
      "source": [
        "df_borrados = df.copy().drop_duplicates(subset=['id'])\n",
        "print(f\"Dimensiones de Tabla Original: {df.shape}\")\n",
        "print(f\"Dimensiones de Tabla Sin IDs Repetidos: {df_borrados.shape}\")"
      ],
      "metadata": {
        "colab": {
          "base_uri": "https://localhost:8080/"
        },
        "id": "S9oaVy13W2j1",
        "outputId": "d6547602-aa32-4527-b2e9-99115c091b3f"
      },
      "execution_count": 548,
      "outputs": [
        {
          "output_type": "stream",
          "name": "stdout",
          "text": [
            "Dimensiones de Tabla Original: (61913, 31)\n",
            "Dimensiones de Tabla Sin IDs Repetidos: (61913, 31)\n"
          ]
        }
      ]
    },
    {
      "cell_type": "code",
      "source": [
        "df_filtrado = df_filtrado.drop('id', axis=1)"
      ],
      "metadata": {
        "id": "CD0bE0CJWimZ"
      },
      "execution_count": 549,
      "outputs": []
    },
    {
      "cell_type": "markdown",
      "source": [
        "### Análisis de *Company*\n",
        "Luego, del analisis de frecuencias sabemos que *company* tiene 58761 NaNs y *agent* 7890. Para *company* este es el 94,90% de las filas, para *agent* es el 12,74%.\n",
        "\n",
        "Para *agent* el porcentaje no es tan alto, pero para *company* lo es, por lo cual vamos a analizar si es realmente necesaria la variable."
      ],
      "metadata": {
        "id": "K-PAFdyMgc_C"
      }
    },
    {
      "cell_type": "code",
      "source": [
        "correlacion = df['company'].corr(df['is_canceled'])\n",
        "print(f'La correlacion entre \"company\" y \"is_canceled\" es: {correlacion}')"
      ],
      "metadata": {
        "colab": {
          "base_uri": "https://localhost:8080/"
        },
        "id": "OZry2AXjgkhX",
        "outputId": "362ffb2a-8019-49ec-f951-9fda791bbe36"
      },
      "execution_count": 550,
      "outputs": [
        {
          "output_type": "stream",
          "name": "stdout",
          "text": [
            "La correlacion entre \"company\" y \"is_canceled\" es: -0.04000980630480529\n"
          ]
        }
      ]
    },
    {
      "cell_type": "markdown",
      "source": [
        "Al haber tan poca correlacion entre las dos, inferimos que la columna no es necesaria en nuestro analisis."
      ],
      "metadata": {
        "id": "q-xQmIv2hnLj"
      }
    },
    {
      "cell_type": "code",
      "source": [
        "df_filtrado = df_filtrado.drop('company', axis=1)"
      ],
      "metadata": {
        "id": "Q_hRwFgeiDhj"
      },
      "execution_count": 551,
      "outputs": []
    },
    {
      "cell_type": "markdown",
      "source": [
        "### Análisis de *arrival_date_year, arrival_date_month, arrival_date_day_of_month*"
      ],
      "metadata": {
        "id": "-AW-sUpjho59"
      }
    },
    {
      "cell_type": "markdown",
      "source": [
        "Estas tres variables se pueden combinar en una sola: *date* del tipo datetime. Por las propiedades de este tipo, podemos acceder al día, mes y año sin ningún problema, por lo que no perdemos información al eliminar estas columnas."
      ],
      "metadata": {
        "id": "Zcb-DmDViJsV"
      }
    },
    {
      "cell_type": "code",
      "source": [
        "#mapeamos los meses a numeros\n",
        "months_dict = {\n",
        "    'January': 1,\n",
        "    'February': 2,\n",
        "    'March': 3,\n",
        "    'April': 4,\n",
        "    'May': 5,\n",
        "    'June': 6,\n",
        "    'July': 7,\n",
        "    'August': 8,\n",
        "    'September': 9,\n",
        "    'October': 10,\n",
        "    'November': 11,\n",
        "    'December': 12\n",
        "}\n",
        "\n",
        "def mapear_mes_a_numero(fecha):\n",
        "    if(np.nan == fecha):\n",
        "        return -1\n",
        "    return months_dict.get(fecha)\n",
        "\n",
        "df_filtrado['arrival_date_month'] = df_filtrado['arrival_date_month'].apply(mapear_mes_a_numero)"
      ],
      "metadata": {
        "id": "pk2FbglLhrdd"
      },
      "execution_count": 552,
      "outputs": []
    },
    {
      "cell_type": "code",
      "source": [
        "formato_fecha = \"%Y-%m-%d\"\n",
        "\n",
        "df_filtrado['date'] = pd.to_datetime(df_filtrado[['arrival_date_year', 'arrival_date_month', 'arrival_date_day_of_month']].astype(str).agg('-'.join, axis=1), format=formato_fecha)\n",
        "df_filtrado.drop(['arrival_date_year', 'arrival_date_month', 'arrival_date_day_of_month'], axis=1, inplace=True)\n",
        "df_filtrado.head(2)"
      ],
      "metadata": {
        "colab": {
          "base_uri": "https://localhost:8080/",
          "height": 0
        },
        "id": "wR3DbsHsi9-8",
        "outputId": "4e543e01-7af2-48f3-9066-0b823d547c69"
      },
      "execution_count": 553,
      "outputs": [
        {
          "output_type": "execute_result",
          "data": {
            "text/plain": [
              "          hotel  lead_time  arrival_date_week_number  stays_in_weekend_nights  \\\n",
              "0    City Hotel         49                        37                        1   \n",
              "1  Resort Hotel          4                        44                        0   \n",
              "\n",
              "   stays_in_week_nights  adults  children  babies meal country  ...  \\\n",
              "0                     2       1       0.0       0   BB     USA  ...   \n",
              "1                     1       2       0.0       0   BB     PRT  ...   \n",
              "\n",
              "  booking_changes deposit_type  agent  days_in_waiting_list  customer_type  \\\n",
              "0               0   No Deposit    9.0                     0      Transient   \n",
              "1               0   No Deposit    NaN                     0      Transient   \n",
              "\n",
              "     adr required_car_parking_spaces  total_of_special_requests is_canceled  \\\n",
              "0  115.5                           0                          1           1   \n",
              "1   42.0                           1                          0           0   \n",
              "\n",
              "        date  \n",
              "0 2016-09-05  \n",
              "1 2015-10-31  \n",
              "\n",
              "[2 rows x 27 columns]"
            ],
            "text/html": [
              "\n",
              "  <div id=\"df-e19386d6-e79f-4ecb-804e-82b29472f76a\" class=\"colab-df-container\">\n",
              "    <div>\n",
              "<style scoped>\n",
              "    .dataframe tbody tr th:only-of-type {\n",
              "        vertical-align: middle;\n",
              "    }\n",
              "\n",
              "    .dataframe tbody tr th {\n",
              "        vertical-align: top;\n",
              "    }\n",
              "\n",
              "    .dataframe thead th {\n",
              "        text-align: right;\n",
              "    }\n",
              "</style>\n",
              "<table border=\"1\" class=\"dataframe\">\n",
              "  <thead>\n",
              "    <tr style=\"text-align: right;\">\n",
              "      <th></th>\n",
              "      <th>hotel</th>\n",
              "      <th>lead_time</th>\n",
              "      <th>arrival_date_week_number</th>\n",
              "      <th>stays_in_weekend_nights</th>\n",
              "      <th>stays_in_week_nights</th>\n",
              "      <th>adults</th>\n",
              "      <th>children</th>\n",
              "      <th>babies</th>\n",
              "      <th>meal</th>\n",
              "      <th>country</th>\n",
              "      <th>...</th>\n",
              "      <th>booking_changes</th>\n",
              "      <th>deposit_type</th>\n",
              "      <th>agent</th>\n",
              "      <th>days_in_waiting_list</th>\n",
              "      <th>customer_type</th>\n",
              "      <th>adr</th>\n",
              "      <th>required_car_parking_spaces</th>\n",
              "      <th>total_of_special_requests</th>\n",
              "      <th>is_canceled</th>\n",
              "      <th>date</th>\n",
              "    </tr>\n",
              "  </thead>\n",
              "  <tbody>\n",
              "    <tr>\n",
              "      <th>0</th>\n",
              "      <td>City Hotel</td>\n",
              "      <td>49</td>\n",
              "      <td>37</td>\n",
              "      <td>1</td>\n",
              "      <td>2</td>\n",
              "      <td>1</td>\n",
              "      <td>0.0</td>\n",
              "      <td>0</td>\n",
              "      <td>BB</td>\n",
              "      <td>USA</td>\n",
              "      <td>...</td>\n",
              "      <td>0</td>\n",
              "      <td>No Deposit</td>\n",
              "      <td>9.0</td>\n",
              "      <td>0</td>\n",
              "      <td>Transient</td>\n",
              "      <td>115.5</td>\n",
              "      <td>0</td>\n",
              "      <td>1</td>\n",
              "      <td>1</td>\n",
              "      <td>2016-09-05</td>\n",
              "    </tr>\n",
              "    <tr>\n",
              "      <th>1</th>\n",
              "      <td>Resort Hotel</td>\n",
              "      <td>4</td>\n",
              "      <td>44</td>\n",
              "      <td>0</td>\n",
              "      <td>1</td>\n",
              "      <td>2</td>\n",
              "      <td>0.0</td>\n",
              "      <td>0</td>\n",
              "      <td>BB</td>\n",
              "      <td>PRT</td>\n",
              "      <td>...</td>\n",
              "      <td>0</td>\n",
              "      <td>No Deposit</td>\n",
              "      <td>NaN</td>\n",
              "      <td>0</td>\n",
              "      <td>Transient</td>\n",
              "      <td>42.0</td>\n",
              "      <td>1</td>\n",
              "      <td>0</td>\n",
              "      <td>0</td>\n",
              "      <td>2015-10-31</td>\n",
              "    </tr>\n",
              "  </tbody>\n",
              "</table>\n",
              "<p>2 rows × 27 columns</p>\n",
              "</div>\n",
              "    <div class=\"colab-df-buttons\">\n",
              "\n",
              "  <div class=\"colab-df-container\">\n",
              "    <button class=\"colab-df-convert\" onclick=\"convertToInteractive('df-e19386d6-e79f-4ecb-804e-82b29472f76a')\"\n",
              "            title=\"Convert this dataframe to an interactive table.\"\n",
              "            style=\"display:none;\">\n",
              "\n",
              "  <svg xmlns=\"http://www.w3.org/2000/svg\" height=\"24px\" viewBox=\"0 -960 960 960\">\n",
              "    <path d=\"M120-120v-720h720v720H120Zm60-500h600v-160H180v160Zm220 220h160v-160H400v160Zm0 220h160v-160H400v160ZM180-400h160v-160H180v160Zm440 0h160v-160H620v160ZM180-180h160v-160H180v160Zm440 0h160v-160H620v160Z\"/>\n",
              "  </svg>\n",
              "    </button>\n",
              "\n",
              "  <style>\n",
              "    .colab-df-container {\n",
              "      display:flex;\n",
              "      gap: 12px;\n",
              "    }\n",
              "\n",
              "    .colab-df-convert {\n",
              "      background-color: #E8F0FE;\n",
              "      border: none;\n",
              "      border-radius: 50%;\n",
              "      cursor: pointer;\n",
              "      display: none;\n",
              "      fill: #1967D2;\n",
              "      height: 32px;\n",
              "      padding: 0 0 0 0;\n",
              "      width: 32px;\n",
              "    }\n",
              "\n",
              "    .colab-df-convert:hover {\n",
              "      background-color: #E2EBFA;\n",
              "      box-shadow: 0px 1px 2px rgba(60, 64, 67, 0.3), 0px 1px 3px 1px rgba(60, 64, 67, 0.15);\n",
              "      fill: #174EA6;\n",
              "    }\n",
              "\n",
              "    .colab-df-buttons div {\n",
              "      margin-bottom: 4px;\n",
              "    }\n",
              "\n",
              "    [theme=dark] .colab-df-convert {\n",
              "      background-color: #3B4455;\n",
              "      fill: #D2E3FC;\n",
              "    }\n",
              "\n",
              "    [theme=dark] .colab-df-convert:hover {\n",
              "      background-color: #434B5C;\n",
              "      box-shadow: 0px 1px 3px 1px rgba(0, 0, 0, 0.15);\n",
              "      filter: drop-shadow(0px 1px 2px rgba(0, 0, 0, 0.3));\n",
              "      fill: #FFFFFF;\n",
              "    }\n",
              "  </style>\n",
              "\n",
              "    <script>\n",
              "      const buttonEl =\n",
              "        document.querySelector('#df-e19386d6-e79f-4ecb-804e-82b29472f76a button.colab-df-convert');\n",
              "      buttonEl.style.display =\n",
              "        google.colab.kernel.accessAllowed ? 'block' : 'none';\n",
              "\n",
              "      async function convertToInteractive(key) {\n",
              "        const element = document.querySelector('#df-e19386d6-e79f-4ecb-804e-82b29472f76a');\n",
              "        const dataTable =\n",
              "          await google.colab.kernel.invokeFunction('convertToInteractive',\n",
              "                                                    [key], {});\n",
              "        if (!dataTable) return;\n",
              "\n",
              "        const docLinkHtml = 'Like what you see? Visit the ' +\n",
              "          '<a target=\"_blank\" href=https://colab.research.google.com/notebooks/data_table.ipynb>data table notebook</a>'\n",
              "          + ' to learn more about interactive tables.';\n",
              "        element.innerHTML = '';\n",
              "        dataTable['output_type'] = 'display_data';\n",
              "        await google.colab.output.renderOutput(dataTable, element);\n",
              "        const docLink = document.createElement('div');\n",
              "        docLink.innerHTML = docLinkHtml;\n",
              "        element.appendChild(docLink);\n",
              "      }\n",
              "    </script>\n",
              "  </div>\n",
              "\n",
              "\n",
              "<div id=\"df-45ded350-98bb-4d90-8e8a-14c19586efed\">\n",
              "  <button class=\"colab-df-quickchart\" onclick=\"quickchart('df-45ded350-98bb-4d90-8e8a-14c19586efed')\"\n",
              "            title=\"Suggest charts.\"\n",
              "            style=\"display:none;\">\n",
              "\n",
              "<svg xmlns=\"http://www.w3.org/2000/svg\" height=\"24px\"viewBox=\"0 0 24 24\"\n",
              "     width=\"24px\">\n",
              "    <g>\n",
              "        <path d=\"M19 3H5c-1.1 0-2 .9-2 2v14c0 1.1.9 2 2 2h14c1.1 0 2-.9 2-2V5c0-1.1-.9-2-2-2zM9 17H7v-7h2v7zm4 0h-2V7h2v10zm4 0h-2v-4h2v4z\"/>\n",
              "    </g>\n",
              "</svg>\n",
              "  </button>\n",
              "\n",
              "<style>\n",
              "  .colab-df-quickchart {\n",
              "      --bg-color: #E8F0FE;\n",
              "      --fill-color: #1967D2;\n",
              "      --hover-bg-color: #E2EBFA;\n",
              "      --hover-fill-color: #174EA6;\n",
              "      --disabled-fill-color: #AAA;\n",
              "      --disabled-bg-color: #DDD;\n",
              "  }\n",
              "\n",
              "  [theme=dark] .colab-df-quickchart {\n",
              "      --bg-color: #3B4455;\n",
              "      --fill-color: #D2E3FC;\n",
              "      --hover-bg-color: #434B5C;\n",
              "      --hover-fill-color: #FFFFFF;\n",
              "      --disabled-bg-color: #3B4455;\n",
              "      --disabled-fill-color: #666;\n",
              "  }\n",
              "\n",
              "  .colab-df-quickchart {\n",
              "    background-color: var(--bg-color);\n",
              "    border: none;\n",
              "    border-radius: 50%;\n",
              "    cursor: pointer;\n",
              "    display: none;\n",
              "    fill: var(--fill-color);\n",
              "    height: 32px;\n",
              "    padding: 0;\n",
              "    width: 32px;\n",
              "  }\n",
              "\n",
              "  .colab-df-quickchart:hover {\n",
              "    background-color: var(--hover-bg-color);\n",
              "    box-shadow: 0 1px 2px rgba(60, 64, 67, 0.3), 0 1px 3px 1px rgba(60, 64, 67, 0.15);\n",
              "    fill: var(--button-hover-fill-color);\n",
              "  }\n",
              "\n",
              "  .colab-df-quickchart-complete:disabled,\n",
              "  .colab-df-quickchart-complete:disabled:hover {\n",
              "    background-color: var(--disabled-bg-color);\n",
              "    fill: var(--disabled-fill-color);\n",
              "    box-shadow: none;\n",
              "  }\n",
              "\n",
              "  .colab-df-spinner {\n",
              "    border: 2px solid var(--fill-color);\n",
              "    border-color: transparent;\n",
              "    border-bottom-color: var(--fill-color);\n",
              "    animation:\n",
              "      spin 1s steps(1) infinite;\n",
              "  }\n",
              "\n",
              "  @keyframes spin {\n",
              "    0% {\n",
              "      border-color: transparent;\n",
              "      border-bottom-color: var(--fill-color);\n",
              "      border-left-color: var(--fill-color);\n",
              "    }\n",
              "    20% {\n",
              "      border-color: transparent;\n",
              "      border-left-color: var(--fill-color);\n",
              "      border-top-color: var(--fill-color);\n",
              "    }\n",
              "    30% {\n",
              "      border-color: transparent;\n",
              "      border-left-color: var(--fill-color);\n",
              "      border-top-color: var(--fill-color);\n",
              "      border-right-color: var(--fill-color);\n",
              "    }\n",
              "    40% {\n",
              "      border-color: transparent;\n",
              "      border-right-color: var(--fill-color);\n",
              "      border-top-color: var(--fill-color);\n",
              "    }\n",
              "    60% {\n",
              "      border-color: transparent;\n",
              "      border-right-color: var(--fill-color);\n",
              "    }\n",
              "    80% {\n",
              "      border-color: transparent;\n",
              "      border-right-color: var(--fill-color);\n",
              "      border-bottom-color: var(--fill-color);\n",
              "    }\n",
              "    90% {\n",
              "      border-color: transparent;\n",
              "      border-bottom-color: var(--fill-color);\n",
              "    }\n",
              "  }\n",
              "</style>\n",
              "\n",
              "  <script>\n",
              "    async function quickchart(key) {\n",
              "      const quickchartButtonEl =\n",
              "        document.querySelector('#' + key + ' button');\n",
              "      quickchartButtonEl.disabled = true;  // To prevent multiple clicks.\n",
              "      quickchartButtonEl.classList.add('colab-df-spinner');\n",
              "      try {\n",
              "        const charts = await google.colab.kernel.invokeFunction(\n",
              "            'suggestCharts', [key], {});\n",
              "      } catch (error) {\n",
              "        console.error('Error during call to suggestCharts:', error);\n",
              "      }\n",
              "      quickchartButtonEl.classList.remove('colab-df-spinner');\n",
              "      quickchartButtonEl.classList.add('colab-df-quickchart-complete');\n",
              "    }\n",
              "    (() => {\n",
              "      let quickchartButtonEl =\n",
              "        document.querySelector('#df-45ded350-98bb-4d90-8e8a-14c19586efed button');\n",
              "      quickchartButtonEl.style.display =\n",
              "        google.colab.kernel.accessAllowed ? 'block' : 'none';\n",
              "    })();\n",
              "  </script>\n",
              "</div>\n",
              "    </div>\n",
              "  </div>\n"
            ]
          },
          "metadata": {},
          "execution_count": 553
        }
      ]
    },
    {
      "cell_type": "markdown",
      "source": [
        "# Visualización de datos\n"
      ],
      "metadata": {
        "id": "wODL6lNPcOx8"
      }
    },
    {
      "cell_type": "markdown",
      "source": [
        "## Gráficos de las Distribuciones de Variables"
      ],
      "metadata": {
        "id": "8-ruQNyfjcA8"
      }
    },
    {
      "cell_type": "markdown",
      "source": [],
      "metadata": {
        "id": "s4wxfPeYcR1J"
      }
    },
    {
      "cell_type": "code",
      "source": [
        "def heatmap_mejorado(df, x_colname, y_colname, figscale, color):\n",
        "  \"\"\"Ayuda a visualización de datos en un heatmap\"\"\"\n",
        "\n",
        "  plt.subplots(figsize=(8 * figscale, 8 * figscale))\n",
        "  df_2dhist = pd.DataFrame({\n",
        "      x_label: grp[y_colname].value_counts()\n",
        "      for x_label, grp in df.groupby(x_colname)\n",
        "  })\n",
        "  sns.heatmap(df_2dhist, cmap=color)\n",
        "  plt.xlabel(x_colname)\n",
        "  plt.ylabel(y_colname)"
      ],
      "metadata": {
        "id": "j6NZ_H-U3Sws"
      },
      "execution_count": 554,
      "outputs": []
    },
    {
      "cell_type": "code",
      "source": [
        "fig, axes = plt.subplots(nrows=2, ncols=2, figsize=(11, 7))\n",
        "\n",
        "#Histograma con todos los valores de Hotel\n",
        "sns.histplot(data=df['hotel'], alpha = 0.5,ax=axes[0][0]).set(title=\"Distribucion Variable Hotel\",xlabel=\"Hotel\",ylabel=\"Frecuencia\")\n",
        "\n",
        "#Histograma con todos los valores de Meal\n",
        "sns.countplot(x='meal', data=df,ax=axes[0][1]).set(title=\"Distribucion Variable Meal\",xlabel=\"Meal\",ylabel=\"\")\n",
        "\n",
        "#Market Segment\n",
        "sns.countplot(x='market_segment', data=df,ax=axes[1][0]).set(title=\"Distribucion Variable Market Segment\",xlabel=\"M.S.\",ylabel=\"Frecuencia\")\n",
        "axes[1][0].tick_params(axis='x', rotation=45)\n",
        "\n",
        "#Distribution Channel\n",
        "sns.countplot(x='distribution_channel', data=df, ax=axes[1][1]).set(title=\"Distribucion Variable Distribution Channel\",xlabel=\"D.C.\",ylabel=\"\")\n",
        "\n",
        "plt.tight_layout()\n",
        "plt.show()"
      ],
      "metadata": {
        "colab": {
          "base_uri": "https://localhost:8080/",
          "height": 707
        },
        "id": "Rz60A7t5j7-F",
        "outputId": "d45ed3b0-0829-4c96-e8dc-55b42ad676bf"
      },
      "execution_count": 555,
      "outputs": [
        {
          "output_type": "display_data",
          "data": {
            "text/plain": [
              "<Figure size 1100x700 with 4 Axes>"
            ],
            "image/png": "[encoded data removed]"
          },
          "metadata": {}
        }
      ]
    },
    {
      "cell_type": "code",
      "source": [
        "fig, axes = plt.subplots(nrows=2, ncols=2, figsize=(11, 7))\n",
        "\n",
        "#Histograma con todos los valores de arrival_date_year\n",
        "sns.countplot(x='arrival_date_year', data=df,ax=axes[0][0]).set(title=\"Distribucion Variable arrival_date_year\",xlabel=\"Año\",ylabel=\"Frecuencia\")\n",
        "\n",
        "#arrival_date_day_of_month\n",
        "sns.histplot(x='arrival_date_day_of_month', data=df,bins=25,kde=True,ax=axes[0][1]).set(title=\"Distribucion Variable arrival_date_day_of_month\",xlabel=\"Día\",ylabel=\"\")\n",
        "\n",
        "#Histograma con todos los valores de arrival_date_month\n",
        "meses = [\"January\",\"February\",\"March\",\"April\",\"May\",\"June\",\"July\",\"August\",\"September\",\"October\",\"November\",\"December\"]\n",
        "sns.countplot(x='arrival_date_month', data=df, order=meses,ax=axes[1][0]).set(title=\"Distribucion Variable arrival_date_month\",xlabel=\"Mes\",ylabel=\"Frecuencia\")\n",
        "axes[1][0].tick_params(axis='x', rotation=45)\n",
        "\n",
        "#arrival_date_week_number\n",
        "sns.histplot(x='arrival_date_week_number', data=df,bins=20,kde=True,ax=axes[1][1]).set(title=\"Distribucion Variable arrival_date_week_number\",xlabel=\"Número de Semana\",ylabel=\"\")\n",
        "\n",
        "plt.tight_layout()\n",
        "plt.show()"
      ],
      "metadata": {
        "id": "TYa4H6_0ot-b"
      },
      "execution_count": null,
      "outputs": []
    },
    {
      "cell_type": "code",
      "source": [
        "hist_adultos_total=sns.histplot(data=df_filtrado['date'], alpha = 0.5, bins=30,  kde=True).set(title=\"Distribucion Variable Date\",xlabel=\"Date\",ylabel=\"Frecuencia\")\n",
        "plt.xticks(rotation=90)"
      ],
      "metadata": {
        "id": "8ccIoAFrsnF_"
      },
      "execution_count": null,
      "outputs": []
    },
    {
      "cell_type": "code",
      "source": [
        "fig, axes = plt.subplots(nrows=1, ncols=3, figsize=(13,4))\n",
        "\n",
        "#Adults\n",
        "sns.boxplot(y=\"adults\", data=df,ax=axes[0]).set(title=\"Distribucion Variable Adults\",xlabel=\" \",ylabel=\"Adultos\")\n",
        "\n",
        "#Children\n",
        "sns.histplot(data=df['children'], alpha = 0.5,ax=axes[1],bins=10,).set(title=\"Distribucion Variable Children\",xlabel=\"Hijos\",ylabel=\"Frecuencia\")\n",
        "\n",
        "#Babies\n",
        "sns.histplot(data=df['babies'],alpha = 0.5,ax=axes[2]).set(title=\"Distribucion Variable Babies\",xlabel=\"Bebes\",ylabel=\"\")\n",
        "\n",
        "plt.tight_layout()\n",
        "plt.show()"
      ],
      "metadata": {
        "id": "Kre5daZwtLgK"
      },
      "execution_count": null,
      "outputs": []
    },
    {
      "cell_type": "code",
      "source": [
        "fig, axes = plt.subplots(nrows=1, ncols=2, figsize=(12,4))\n",
        "\n",
        "#Weedays\n",
        "sns.countplot(x='stays_in_week_nights', ax=axes[0],data=df).set(title=\"Distribucion Variable stays_in_week_nights\",xlabel=\"Días\",ylabel=\"Frecuencia\")\n",
        "\n",
        "#Weekends\n",
        "sns.countplot(data=df, x='stays_in_weekend_nights',ax=axes[1]).set(title=\"Distribucion Variable stays_in_weekend_nights\",xlabel=\"Días\",ylabel=\"\")\n",
        "\n",
        "plt.tight_layout()\n",
        "plt.show()"
      ],
      "metadata": {
        "id": "0Jud2s--vIJe"
      },
      "execution_count": null,
      "outputs": []
    },
    {
      "cell_type": "code",
      "source": [
        "fig, axes = plt.subplots(nrows=1, ncols=2, figsize=(11,4))\n",
        "\n",
        "#Reserved room\n",
        "sns.countplot(x='reserved_room_type', data=df,ax=axes[0]).set(title=\"Distribucion Variable reserved_room_type\",xlabel=\"Cuarto\",ylabel=\"Frecuencia\")\n",
        "\n",
        "#Weekends\n",
        "sns.countplot(x='assigned_room_type', data=df,ax=axes[1]).set(title=\"Distribucion Variable assigned_room_type\",xlabel=\"Cuarto\",ylabel=\"\")\n",
        "\n",
        "plt.tight_layout()\n",
        "plt.show()"
      ],
      "metadata": {
        "id": "EM7_cwWqwhql"
      },
      "execution_count": null,
      "outputs": []
    },
    {
      "cell_type": "code",
      "source": [
        "fig, axes = plt.subplots(nrows=2, ncols=2, figsize=(11, 7))\n",
        "\n",
        "#Deposit Type\n",
        "sns.countplot(x='deposit_type', data=df,ax=axes[0][0]).set(title=\"Distribucion Variable deposit_type\",xlabel=\"Tipo de Deposito\",ylabel=\"Frecuencia\")\n",
        "\n",
        "#customer_type\n",
        "sns.countplot(x='customer_type', data=df,ax=axes[0][1]).set(title=\"Distribucion Variable customer_type\",xlabel=\"Tipo de Cliente\",ylabel=\"\")\n",
        "\n",
        "#required_car_parking_spaces\n",
        "sns.countplot(x='required_car_parking_spaces', data=df,ax=axes[1][0]).set(title=\"Distribucion Variable required_car_parking_spaces\",xlabel=\"Lugares\",ylabel=\"Frecuencia\")\n",
        "\n",
        "#total_of_special_requests\n",
        "sns.countplot(x='total_of_special_requests', data=df,ax=axes[1][1]).set(title=\"Distribucion Variable total_of_special_requests\",xlabel=\"Cantidad de Requisitos\",ylabel=\"\")\n",
        "\n",
        "plt.tight_layout()\n",
        "plt.show()"
      ],
      "metadata": {
        "id": "APV5ibfGxgIP"
      },
      "execution_count": null,
      "outputs": []
    },
    {
      "cell_type": "code",
      "source": [
        "fig, axes = plt.subplots(nrows=2, ncols=2, figsize=(11, 7))\n",
        "\n",
        "#previous_cancellations\n",
        "sns.histplot(x='previous_cancellations', data=df, alpha = 0.5,ax=axes[0][0]).set(title=\"Distribucion Variable previous_cancellations\",xlabel=\"previous_cancellations\",ylabel=\"Frecuencia\")\n",
        "\n",
        "#previous_bookings_not_canceled\n",
        "sns.histplot(x= 'previous_bookings_not_canceled', data=df, alpha = 0.5,ax=axes[0][1]).set(title=\"Distribucion Variable previous_bookings_not_canceled\",xlabel=\"previous_bookings_not_canceled\")\n",
        "\n",
        "#is_repeated_guest\n",
        "sns.countplot(x='is_repeated_guest', data=df,ax=axes[1][0]).set(title=\"Distribucion Variable is_repeated_guest\",xlabel=\"is_repeated_guest\",ylabel=\"Frecuencia\")\n",
        "\n",
        "#booking_changes\n",
        "sns.countplot(x='booking_changes', data=df,ax=axes[1][1]).set(title=\"Distribucion Variable is_repeated_guest\",xlabel=\"booking_changes\")\n",
        "\n",
        "plt.tight_layout()\n",
        "plt.show()"
      ],
      "metadata": {
        "id": "-3U2Jn_5y9nB"
      },
      "execution_count": null,
      "outputs": []
    },
    {
      "cell_type": "code",
      "source": [
        "fig, axes = plt.subplots(nrows=2, ncols=3, sharex='col', figsize=(13, 6),gridspec_kw={\"height_ratios\": (.2, .8)})\n",
        "\n",
        "#adr\n",
        "sns.boxplot(df['adr'], orient='h', color='orange',ax=axes[0][0]).set(xlabel=\"adr\")\n",
        "sns.histplot(data=df['adr'], color='orange', bins=30, kde=True,ax=axes[1][0]).set(xlabel=\"adr\",ylabel=\"Frecuencia\")\n",
        "\n",
        "#lead time\n",
        "sns.boxplot(df['lead_time'], orient='h', color='skyblue',ax=axes[0][1]).set(xlabel=\"lead_time\")\n",
        "sns.histplot(data=df['lead_time'], color='skyblue',bins=35,ax=axes[1][1]).set(xlabel=\"lead_time\")\n",
        "\n",
        "#days in waiting list\n",
        "sns.boxplot(df['days_in_waiting_list'], orient='h', color='red',ax=axes[0][2]).set(xlabel=\"days_in_waiting_list\")\n",
        "sns.histplot(data=df['days_in_waiting_list'], color = 'red',alpha = 0.5,ax=axes[1][2]).set(xlabel=\"days_in_waiting_list\")\n",
        "\n",
        "plt.tight_layout()\n",
        "plt.show()"
      ],
      "metadata": {
        "id": "oNnSU99c2O_V"
      },
      "execution_count": null,
      "outputs": []
    },
    {
      "cell_type": "code",
      "source": [
        "fig, axes = plt.subplots(nrows=1, ncols=2, figsize=(11,4))\n",
        "\n",
        "#Agente\n",
        "# sns.countplot(x='agent', data=df).set(title=\"Distribucion Variable Agent\",xlabel=\"Agent\",ylabel=\"Frecuencia\") #son demasiados\n",
        "sns.boxplot(y=\"agent\", data=df,ax=axes[0]).set(title=\"Distribucion Variable Agent\",xlabel=\" \",ylabel=\"agent\")\n",
        "\n",
        "#Compania\n",
        "#sns.countplot(x='company', data=df).set(title=\"Distribucion Variable Company\",xlabel=\"Company\",ylabel=\"Frecuencia\") #demasiados\n",
        "sns.boxplot(y=\"company\", data=df,ax=axes[1]).set(title=\"Distribucion Variable Company\", xlabel=\"\",ylabel=\"company\")\n",
        "\n",
        "plt.tight_layout()\n",
        "plt.show()"
      ],
      "metadata": {
        "id": "IK0db4Ec6120"
      },
      "execution_count": null,
      "outputs": []
    },
    {
      "cell_type": "code",
      "source": [
        "fig, axes = plt.subplots(1, 3, figsize=(10, 5))\n",
        "\n",
        "# 1. Calcular las frecuencias\n",
        "frecuencias = df['country'].value_counts()\n",
        "frecuencias_agent = df['agent'].value_counts()\n",
        "frecuencias_company = df['company'].value_counts()\n",
        "\n",
        "# 2. Identificar y agrupar por frecuencias bajas\n",
        "umbral_country = 1500\n",
        "umbral_agent = 750  # Define un umbral de frecuencia para agrupar agents\n",
        "umbral_company = 100\n",
        "\n",
        "paises_principales, agentes_principales, companias_principales = (frecuencias[frecuencias >= umbral_country], frecuencias_agent[frecuencias_agent >= umbral_agent], frecuencias_company[frecuencias_company >= umbral_company])\n",
        "otros_paises, otros_agentes, otros_companies = (frecuencias[frecuencias < umbral_country], frecuencias_agent[frecuencias_agent < umbral_agent], frecuencias_company[frecuencias_company < umbral_company])\n",
        "\n",
        "otros_paises_total, otros_agentes_total, otros_companies_total = (otros_paises.sum(), otros_agentes.sum(), otros_companies.sum())\n",
        "paises_principales['Otros'], agentes_principales['Otros'], companias_principales['Otros'] = (otros_paises_total, otros_agentes_total, otros_companies_total)\n",
        "\n",
        "# 3. Crear los DataFrames\n",
        "df_paises = pd.DataFrame({'Pais': paises_principales.index, 'Frecuencia': paises_principales.values})\n",
        "df_agentes = pd.DataFrame({'agent': agentes_principales.index, 'Frecuencia': agentes_principales.values})\n",
        "df_companies = pd.DataFrame({'company': companias_principales.index, 'Frecuencia': companias_principales.values})\n",
        "\n",
        "# 4. Crear los pie chart\n",
        "axes[0].pie(df_paises['Frecuencia'], labels=df_paises['Pais'], autopct='%1.1f%%', startangle=140)\n",
        "axes[0].set_title('Frecuencia de Paises')\n",
        "axes[0].axis('equal')\n",
        "\n",
        "axes[1].pie(df_agentes['Frecuencia'], labels=df_agentes['agent'], autopct='%1.1f%%', startangle=140)\n",
        "axes[1].set_title('Frecuencia de Agentes')\n",
        "axes[1].axis('equal')  # Para que el gráfico sea un círculo\n",
        "\n",
        "axes[2].pie(df_companies['Frecuencia'], labels=df_companies['company'], autopct='%1.1f%%', startangle=140)\n",
        "axes[2].set_title('Frecuencia de Compañías')\n",
        "axes[2].axis('equal')  # Para que el gráfico sea un círculo\n",
        "\n",
        "plt.show()"
      ],
      "metadata": {
        "id": "4aG-ONku61n2"
      },
      "execution_count": null,
      "outputs": []
    },
    {
      "cell_type": "markdown",
      "source": [
        "La gran mayoría de los países es PRT.\n",
        "\n",
        "Hay un tercio de agentes que aparecen menos de 750 veces.\n",
        "\n",
        "La mayoría de las compañías aparecen menos de 100 veces."
      ],
      "metadata": {
        "id": "IzMc2EId-WDu"
      }
    },
    {
      "cell_type": "code",
      "source": [
        "sns.countplot(x='is_canceled', data=df)"
      ],
      "metadata": {
        "id": "JBbso1bTBavm"
      },
      "execution_count": null,
      "outputs": []
    },
    {
      "cell_type": "markdown",
      "source": [
        "## Analizando las Correlaciones Existentes"
      ],
      "metadata": {
        "id": "VeQ4ppVgBrT5"
      }
    },
    {
      "cell_type": "markdown",
      "source": [
        "En el grafico se muestran unicamente valores cuantitativos ya que los valores cualitativos no se puede calcular sus correlaciones,\n",
        "\n",
        "Se puede ver que \"arrival_date_week_number\" y \"arrival_date_year\" tienen una gran correlación negativa. \"adr\" y \"children\" tienen una buena correlación positiva y podemos inferir a partir de estos resultados que a mayor cantidad de hijos es mayor la tasa por día, \"stays_in_week_nights\" y \"stays_in_weekend_nights\" tienen una buena correlación positiva, lo cual nos se puede interpretar como a mayor cantidad de noches de semana hay más noches de fin de semana, lo cual es logico."
      ],
      "metadata": {
        "id": "zBlkdL102Zvh"
      }
    },
    {
      "cell_type": "code",
      "source": [
        "df_cuantitativas.corr()"
      ],
      "metadata": {
        "id": "CCKj2e7D2TU7"
      },
      "execution_count": null,
      "outputs": []
    },
    {
      "cell_type": "code",
      "source": [
        "matriz_correlacion=df_cuantitativas.corr()\n",
        "sns.heatmap(matriz_correlacion, annot = False)\n",
        "\n",
        "plt.show()"
      ],
      "metadata": {
        "id": "TB1LZimU2X2y"
      },
      "execution_count": null,
      "outputs": []
    },
    {
      "cell_type": "markdown",
      "source": [
        "### *Hoteles* vs *Previos Bookings No Cancelados*"
      ],
      "metadata": {
        "id": "jIxiY1tVkvXE"
      }
    },
    {
      "cell_type": "markdown",
      "source": [
        "**Dato de color:** Notamos que solo para el City Hotel tenemos los casos de previous_bookings_not_canceled > 30."
      ],
      "metadata": {
        "id": "ammpBdQfk95Q"
      }
    },
    {
      "cell_type": "code",
      "source": [
        "# Toda la gente que repitio hotel mas de 30 veces fueron todoas al City Hotel\n",
        "print(df.loc[df.previous_bookings_not_canceled > 30].shape == df.loc[(df.previous_bookings_not_canceled > 30) & (df.hotel == 'City Hotel')].shape)"
      ],
      "metadata": {
        "id": "XPqnI29RlDJs"
      },
      "execution_count": null,
      "outputs": []
    },
    {
      "cell_type": "code",
      "source": [
        "heatmap_mejorado(df, \"hotel\", \"previous_bookings_not_canceled\", 1, 'viridis')\n",
        "plt.title(\"Hotel vs reservas previas no canceladas\")"
      ],
      "metadata": {
        "id": "p8kJMNn4lQ4x"
      },
      "execution_count": null,
      "outputs": []
    },
    {
      "cell_type": "markdown",
      "source": [
        "### *Agente* vs *Pais*\n",
        "\n",
        "Nos aseguramos que no haya relación directa entre el agente y el pais."
      ],
      "metadata": {
        "id": "B1yZCJCsoz4r"
      }
    },
    {
      "cell_type": "code",
      "source": [
        "\n",
        "top_10_agentes = df['agent'].value_counts().head(10).index\n",
        "top_10_paises = df['country'].value_counts().head(10).index\n",
        "\n",
        "df_filtered = df[df['agent'].isin(top_10_agentes) & df['country'].isin(top_10_paises)]\n",
        "\n",
        "sns.scatterplot(data=df_filtered, x='agent', y='country')\n",
        "plt.xlabel('agent')\n",
        "plt.ylabel('country')\n",
        "plt.title('Correlación entre Agente y País (Top 10 Valores Más Frecuentes)')\n",
        "plt.xticks(rotation=45)  # Para rotar las etiquetas del eje x si es necesario\n",
        "plt.show()"
      ],
      "metadata": {
        "id": "mGRtUAyF420H"
      },
      "execution_count": null,
      "outputs": []
    },
    {
      "cell_type": "markdown",
      "source": [
        "### Hotel vs mes de arribo\n",
        "\n",
        "Se puede ver que a lo largo de todos los meses el favorito fue el City Hotel."
      ],
      "metadata": {
        "id": "mS45FXsn6zGQ"
      }
    },
    {
      "cell_type": "code",
      "source": [
        "heatmap_mejorado(df, \"hotel\", \"arrival_date_month\", 1, 'viridis')\n",
        "plt.title(\"Hotel vs mes de arribo\")"
      ],
      "metadata": {
        "id": "nJ754n9d4bwR"
      },
      "execution_count": null,
      "outputs": []
    },
    {
      "cell_type": "markdown",
      "source": [
        "## Analizando la Relación de las Variables con el Target"
      ],
      "metadata": {
        "id": "3hO8hxp8CG1l"
      }
    },
    {
      "cell_type": "code",
      "source": [
        "sns_boxplot_fare_pclass=sns.boxplot(x=\"is_canceled\",y=\"lead_time\", data=df, palette=[\"r\", \"g\"], saturation=10.0).set(title=\"Relación de tiempo de espera hasta el arribo de huesped.\",xlabel='is_canceled',ylabel='lead_time')"
      ],
      "metadata": {
        "id": "h_WIUffBCQzj"
      },
      "execution_count": null,
      "outputs": []
    },
    {
      "cell_type": "code",
      "source": [
        "meses = ['January','February', 'March', 'April','May', 'June', 'July', 'August', 'September', 'October', 'November', 'December']"
      ],
      "metadata": {
        "id": "tRCLpzc5yhx6"
      },
      "execution_count": null,
      "outputs": []
    },
    {
      "cell_type": "code",
      "source": [
        "fig, axes = plt.subplots(nrows=1, ncols=2, figsize=(11, 7))\n",
        "\n",
        "sns.countplot(data=df, x='arrival_date_month', hue='is_canceled', palette='Paired', order=meses, ax=axes[0])\n",
        "axes[0].set_xticklabels(axes[0].get_xticklabels(), rotation=45)\n",
        "axes[0].set( title='Relación de cancelaciones con los meses', xlabel=\"Mes de arribo\", ylabel=\"Frecuencia\")\n",
        "\n",
        "sns.countplot(data=df, x='arrival_date_year', hue='is_canceled', palette='Paired', ax=axes[1])\n",
        "axes[1].set(title=\"Relación de cancelaciones con los años\", xlabel=\"Año de arribo\", ylabel=\"Frecuencia\")\n",
        "\n",
        "plt.tight_layout()\n",
        "plt.show()"
      ],
      "metadata": {
        "id": "XKc6N2G6svKZ"
      },
      "execution_count": null,
      "outputs": []
    },
    {
      "cell_type": "code",
      "source": [
        "fig, axes = plt.subplots(nrows=1, ncols=2, figsize=(11, 7))\n",
        "\n",
        "sns.countplot(data=df, x='stays_in_week_nights', hue='is_canceled', palette='Set2',  ax=axes[0])\n",
        "axes[0].set(title='Relación de cancelaciones con \\n la cantidad de noches de permanencia en semana', xlabel=\"Cantidad de noches de permanencia en semana\", ylabel=\"Frecuencia\")\n",
        "\n",
        "sns.countplot(data=df, x='stays_in_weekend_nights', hue='is_canceled', palette='Set2', ax=axes[1])\n",
        "axes[1].set(title=\"Relación de cancelaciones con \\nla cantidad de noches de permanencia de fin semana\", xlabel=\"Cantidad de noches de permanencia de fin de semana\", ylabel=\"Frecuencia\")\n",
        "\n",
        "plt.tight_layout()\n",
        "plt.show()"
      ],
      "metadata": {
        "id": "49oe547znAlk"
      },
      "execution_count": null,
      "outputs": []
    },
    {
      "cell_type": "code",
      "source": [
        "fig, axes = plt.subplots(nrows=1, ncols=3, figsize=(11, 4))\n",
        "\n",
        "sns.countplot(data=df, x='adults', hue='is_canceled', palette='Set2', ax=axes[0])\n",
        "axes[0].set(title='Relación de cancelaciones con \\n la cantidad de adultos', xlabel=\"Cantidad de adultos\", ylabel=\"Frecuencia\")\n",
        "\n",
        "sns.countplot(data=df, x='children', hue='is_canceled', palette='Set2', ax=axes[1])\n",
        "axes[1].set(title=\"Relación de cancelaciones con \\nla cantidad de niños\", xlabel=\"Cantidad de niños\", ylabel=\"Frecuencia\")\n",
        "\n",
        "sns.countplot(data=df, x='babies', hue='is_canceled', palette='Set2', ax=axes[2])\n",
        "axes[2].set(title=\"Relación de cancelaciones con \\nla cantidad de bebés\", xlabel=\"Cantidad de bebés\", ylabel=\"Frecuencia\")\n",
        "\n",
        "plt.tight_layout()\n",
        "plt.show()"
      ],
      "metadata": {
        "id": "0QOrGcLP90X1"
      },
      "execution_count": null,
      "outputs": []
    },
    {
      "cell_type": "code",
      "source": [
        "fig, axes = plt.subplots(nrows=1, ncols=3, figsize=(11, 7))\n",
        "\n",
        "sns.countplot(data=df, x='meal', hue='is_canceled', palette=\"BuPu\", ax=axes[0])\n",
        "axes[0].set_xticklabels(axes[0].get_xticklabels(), rotation=45)\n",
        "axes[0].set(title='Relación de cancelaciones con \\n la comida', xlabel=\"Comida\", ylabel=\"Frecuencia\")\n",
        "\n",
        "sns.countplot(data=df, x='market_segment', hue='is_canceled', palette='BuPu', ax=axes[1])\n",
        "axes[1].set_xticklabels(axes[1].get_xticklabels(), rotation=45)\n",
        "axes[1].set(title=\"Relación de cancelaciones con \\nla segmento de mercado\", xlabel=\"Segmento de mercado\", ylabel=\"Frecuencia\")\n",
        "\n",
        "sns.countplot(data=df, x='distribution_channel', hue='is_canceled', palette='Set2', ax=axes[2])\n",
        "axes[2].set_xticklabels(axes[2].get_xticklabels(), rotation=45)\n",
        "axes[2].set(title=\"Relación de cancelaciones con \\nla distribucion de canal\", xlabel=\"Distribucion de canal\", ylabel=\"Frecuencia\")\n",
        "\n",
        "plt.tight_layout()\n",
        "plt.show()"
      ],
      "metadata": {
        "id": "1otHdP8d9skw"
      },
      "execution_count": null,
      "outputs": []
    },
    {
      "cell_type": "code",
      "source": [
        "sns_boxplot_fare_pclass=sns.boxplot(x=\"is_canceled\",y=\"days_in_waiting_list\", data=df, palette=[\"r\", \"g\"], saturation=10.0).set(xlabel='is_canceled',ylabel='days_in_waiting_list')\n",
        "plt.title('Relación entre los días en la lista de espera y si la reserva fue cancelada')"
      ],
      "metadata": {
        "id": "I14FXQgNBK0V"
      },
      "execution_count": null,
      "outputs": []
    },
    {
      "cell_type": "code",
      "source": [
        "sns_boxplot_fare_pclass=sns.boxplot(x=\"is_canceled\",y=\"adr\", data=df, palette=[\"r\", \"g\"], saturation=10.0).set(xlabel='is_canceled',ylabel='adr')\n",
        "plt.title('Relación entre la tasa promedio de la tarifa y si la reserva fue cancelada')"
      ],
      "metadata": {
        "id": "KS3zO-uBBO2c"
      },
      "execution_count": null,
      "outputs": []
    },
    {
      "cell_type": "markdown",
      "source": [
        "### Espacios para parking\n",
        "Podemos apreciar que aquellos que solicitaron el servicio no cancelaron."
      ],
      "metadata": {
        "id": "plVT5eacBv1q"
      }
    },
    {
      "cell_type": "code",
      "source": [
        "heatmap_mejorado(df, \"is_canceled\", \"required_car_parking_spaces\", 1, 'viridis')\n",
        "plt.title(\"relacion entre la cantidad de espacios para parking y si cancelaron o no.\")"
      ],
      "metadata": {
        "id": "P4boCGIoBaka"
      },
      "execution_count": null,
      "outputs": []
    },
    {
      "cell_type": "markdown",
      "source": [
        "## Agregando visualizaciones interesantes\n",
        "___"
      ],
      "metadata": {
        "id": "ufS7Ge02yXAp"
      }
    },
    {
      "cell_type": "code",
      "source": [
        "df.columns"
      ],
      "metadata": {
        "id": "dVtzydOOd0pg"
      },
      "execution_count": null,
      "outputs": []
    },
    {
      "cell_type": "code",
      "source": [
        "sns.scatterplot(data=df, x=\"days_in_waiting_list\", y=\"adr\", hue=\"is_canceled\")"
      ],
      "metadata": {
        "id": "x3pNC-HbCgzK"
      },
      "execution_count": null,
      "outputs": []
    },
    {
      "cell_type": "code",
      "source": [
        "sns.scatterplot(data=df, x=\"arrival_date_month\", y=\"adr\", hue=\"is_canceled\")"
      ],
      "metadata": {
        "id": "K3f1F7vWaEIz"
      },
      "execution_count": null,
      "outputs": []
    },
    {
      "cell_type": "markdown",
      "source": [
        "# Datos Faltantes\n",
        "___"
      ],
      "metadata": {
        "id": "9XiyYHknycX_"
      }
    },
    {
      "cell_type": "markdown",
      "source": [
        "A continuación podemos ver el porcentaje de NaNs de cada columna del DataFrame original"
      ],
      "metadata": {
        "id": "-2c-fzPWCt-R"
      }
    },
    {
      "cell_type": "code",
      "source": [
        "filas_totales=df.shape[0]\n",
        "print(df.isna().sum()/filas_totales*100)"
      ],
      "metadata": {
        "id": "6vbJsOE-Cst9"
      },
      "execution_count": null,
      "outputs": []
    },
    {
      "cell_type": "code",
      "source": [
        "porcentaje_nan = (df.isna().sum() / len(df)) * 100\n",
        "porcentaje_nan = porcentaje_nan[porcentaje_nan>0]\n",
        "\n",
        "plt.figure(figsize=(8, 4))\n",
        "porcentaje_nan.plot(kind='bar', color='skyblue', edgecolor='black').set(title='Porcentaje de NaNs por Variable', xlabel = 'Variables', ylabel = 'Porcentaje (%)')\n",
        "plt.xticks(rotation=0)"
      ],
      "metadata": {
        "id": "eo-6erFXFDB_"
      },
      "execution_count": null,
      "outputs": []
    },
    {
      "cell_type": "markdown",
      "source": [
        "## *Children* Faltantes"
      ],
      "metadata": {
        "id": "DqPTcgdjHFJ5"
      }
    },
    {
      "cell_type": "code",
      "source": [
        "df[df.children.isna()]"
      ],
      "metadata": {
        "id": "iq7cHuwZHXmr"
      },
      "execution_count": null,
      "outputs": []
    },
    {
      "cell_type": "markdown",
      "source": [
        "Al ser tan pocos casos, los vamos a reemplazar con un cero para no cambiar demasiado la moda (0) y media (0.104896)."
      ],
      "metadata": {
        "id": "fpyWrdaWHbZg"
      }
    },
    {
      "cell_type": "code",
      "source": [
        "df_filtrado.children = df_filtrado.children.replace(np.nan, 0)\n",
        "print(f'Nueva media: {df_filtrado.children.mean().round(6)}\\nNueva Moda:  {df_filtrado.children.mode()}\\n')"
      ],
      "metadata": {
        "id": "itSLSdy1Hfv7"
      },
      "execution_count": null,
      "outputs": []
    },
    {
      "cell_type": "markdown",
      "source": [
        "## *Agent* Faltantes"
      ],
      "metadata": {
        "id": "-xaRpQOUJWv0"
      }
    },
    {
      "cell_type": "code",
      "source": [
        "df[df.agent.isna()].shape"
      ],
      "metadata": {
        "id": "rhj4eM_XJlqN"
      },
      "execution_count": null,
      "outputs": []
    },
    {
      "cell_type": "markdown",
      "source": [
        "Reemplazamos los NaNs por el agente 9.0, que es la moda."
      ],
      "metadata": {
        "id": "xG6RVe8-J3b8"
      }
    },
    {
      "cell_type": "code",
      "source": [
        "moda_vieja = df.agent.mode()\n",
        "df_filtrado.agent = df_filtrado.agent.replace(np.nan, 9)\n",
        "moda_nueva = df.agent.mode()\n",
        "print(f'Moda Vieja: {moda_vieja}\\nModa Nueva: {moda_nueva}')"
      ],
      "metadata": {
        "id": "QNqsBk4xKIbH"
      },
      "execution_count": null,
      "outputs": []
    },
    {
      "cell_type": "code",
      "source": [
        "fig, axes = plt.subplots(1, 2, figsize=(8, 4))\n",
        "\n",
        "frecuencias_viejas = df['agent'].value_counts()\n",
        "frecuencias_nuevas = df_filtrado['agent'].value_counts()\n",
        "\n",
        "umbral_frecuencia = 1000  # Define un umbral de frecuencia para agrupar países\n",
        "principales_viejos, principales_nuevos = (frecuencias_viejas[frecuencias_viejas >= umbral_frecuencia], frecuencias_nuevas[frecuencias_nuevas >= umbral_frecuencia])\n",
        "otros_agentes_viejos, otros_agentes_nuevos = (frecuencias_viejas[frecuencias_viejas < umbral_frecuencia], frecuencias_nuevas[frecuencias_nuevas < umbral_frecuencia])\n",
        "otros_agentes_total_viejos, otros_agentes_total_nuevos = otros_agentes_viejos.sum(), otros_agentes_nuevos.sum()\n",
        "principales_viejos['Otros'], principales_nuevos['Otros'] = otros_agentes_total_viejos, otros_agentes_total_nuevos\n",
        "\n",
        "# 3. Crear un nuevo DataFrame con los países agrupados\n",
        "viejos_df = pd.DataFrame({'agente': principales_viejos.index, 'Frecuencia': principales_viejos.values})\n",
        "nuevos_df = pd.DataFrame({'agente': principales_nuevos.index, 'Frecuencia': principales_nuevos.values})\n",
        "\n",
        "# 4. Crear el pie chart\n",
        "axes[0].pie(viejos_df['Frecuencia'], labels=viejos_df['agente'], autopct='%1.1f%%', startangle=140)\n",
        "axes[0].set_title('Frecuencia de Agentes Con NaNs')\n",
        "axes[0].axis('equal')\n",
        "\n",
        "axes[1].pie(nuevos_df['Frecuencia'], labels=nuevos_df['agente'], autopct='%1.1f%%', startangle=140)\n",
        "axes[1].set_title('Frecuencia de Agentes Sin NaNs')\n",
        "axes[1].axis('equal')\n",
        "\n",
        "plt.show()"
      ],
      "metadata": {
        "id": "gQGMqWFEpZ7Z"
      },
      "execution_count": null,
      "outputs": []
    },
    {
      "cell_type": "markdown",
      "source": [
        "## *Country* Faltantes"
      ],
      "metadata": {
        "id": "6MEyYZoiLSf2"
      }
    },
    {
      "cell_type": "code",
      "source": [
        "df[df.country.isna()].shape"
      ],
      "metadata": {
        "id": "VAl7ZoMRLjkB"
      },
      "execution_count": null,
      "outputs": []
    },
    {
      "cell_type": "markdown",
      "source": [
        "Al ser tan pocos los casos en comparacion a la cantidad total de filas (es solo un 0.356952% de NaNs) decidimos reemplazarlos por la moda que es PRT"
      ],
      "metadata": {
        "id": "-6Vads0RMGEK"
      }
    },
    {
      "cell_type": "code",
      "source": [
        "df_filtrado['country'] = df_filtrado['country'].replace(np.nan, 'PRT')\n",
        "\n",
        "df_country = pd.DataFrame()\n",
        "df_country['country_con_nans'] = df['country']\n",
        "df_country['country_sin_nans'] = df_filtrado['country']\n",
        "df_country.describe()"
      ],
      "metadata": {
        "id": "gamgkkQeL2L5"
      },
      "execution_count": null,
      "outputs": []
    },
    {
      "cell_type": "code",
      "source": [
        "fig, axes = plt.subplots(1, 2, figsize=(8, 4))\n",
        "\n",
        "frecuencias_viejas = df['country'].value_counts()\n",
        "frecuencias_nuevas = df_filtrado['country'].value_counts()\n",
        "\n",
        "umbral_frecuencia = 1500  # Define un umbral de frecuencia para agrupar países\n",
        "principales_viejos, principales_nuevos = (frecuencias_viejas[frecuencias_viejas >= umbral_frecuencia], frecuencias_nuevas[frecuencias_nuevas >= umbral_frecuencia])\n",
        "otros_paises_viejos, otros_paises_nuevos = (frecuencias_viejas[frecuencias_viejas < umbral_frecuencia], frecuencias_nuevas[frecuencias_nuevas < umbral_frecuencia])\n",
        "otros_paises_total_viejos, otros_paises_total_nuevos = otros_paises_viejos.sum(), otros_paises_nuevos.sum()\n",
        "principales_viejos['Otros'], principales_nuevos['Otros'] = otros_paises_total_viejos, otros_paises_total_nuevos\n",
        "\n",
        "# 3. Crear un nuevo DataFrame con los países agrupados\n",
        "viejos_df = pd.DataFrame({'Pais': principales_viejos.index, 'Frecuencia': principales_viejos.values})\n",
        "nuevos_df = pd.DataFrame({'Pais': principales_nuevos.index, 'Frecuencia': principales_nuevos.values})\n",
        "\n",
        "# 4. Crear el pie chart\n",
        "axes[0].pie(viejos_df['Frecuencia'], labels=viejos_df['Pais'], autopct='%1.1f%%', startangle=140)\n",
        "axes[0].set_title('Frecuencia de Países Con NaNs')\n",
        "axes[0].axis('equal')\n",
        "\n",
        "axes[1].pie(nuevos_df['Frecuencia'], labels=nuevos_df['Pais'], autopct='%1.1f%%', startangle=140)\n",
        "axes[1].set_title('Frecuencia de Países Sin NaNs')\n",
        "axes[1].axis('equal')\n",
        "\n",
        "plt.show()"
      ],
      "metadata": {
        "id": "tNXRF5UfP9fv"
      },
      "execution_count": null,
      "outputs": []
    },
    {
      "cell_type": "markdown",
      "source": [
        "#Valores Atipicos\n",
        "___"
      ],
      "metadata": {
        "id": "csY_ntSHyeYr"
      }
    },
    {
      "cell_type": "markdown",
      "source": [
        "Vamos a analizar los valores que nosotros consideramos atipicos"
      ],
      "metadata": {
        "id": "nbyCNAbPSgPP"
      }
    },
    {
      "cell_type": "markdown",
      "source": [
        "- 0 adultos    --> CAMBIAMOS POR 2\n",
        "- 55 adultos   --> LO DEJAMOS\n",
        "- 10 children  --> CAMBIAMOS POR 0\n",
        "- 9 babies     --> CAMBAIMOS POR 0\n",
        "- *adr* cero   --> CAMBIAMOS A MEDIANA\n",
        "- *adr* negativo                --> LO CAMBIAMOS POR 0\n",
        "- gente que se quedo 0 noches   --> NO CAMBIAMOS\n",
        "- *lead_time* 629 BORRAMOS --> DUPLICADOS >600\n",
        "- *previous_cancelations* --> 25 BORRAMOS DUPLICADOS >10\n",
        "- *previous_bookings_not_canceled* --> SE DEJA\n",
        "- *booking_changes* --> 17 POR AHORA SE DEJA\n",
        "- *requiered_car_parking_spaces* --> 8 POR AHORA LO DEJAMOS\n",
        "- ver si hay outliers en analisis multivariado (ej weekends con weedays)"
      ],
      "metadata": {
        "id": "AyZVCqgmSVvu"
      }
    },
    {
      "cell_type": "markdown",
      "source": [
        "## 0 *Adults*"
      ],
      "metadata": {
        "id": "BCciZBMbSsHf"
      }
    },
    {
      "cell_type": "markdown",
      "source": [
        "Estos valores no tienen sentido ya que para hacer una reservación, uno tiene que ser mayor de edad, por lo cual nos hace pensar que estos fueron errores de computo.\n",
        "\n",
        "Consideramos las opciones tanto de eliminar las filas que tengan adultos = 0, pero viendo que estos casos son pocos, pensamos que los datos de children > 0 debieron estar en adults. Otra opción considerada fue distribuir los que tienen 0 adults entre todos los otros valores de acuerdo al porcentaje que hay en dataframe de cada uno de esos datos."
      ],
      "metadata": {
        "id": "L5OWGIqElRd4"
      }
    },
    {
      "cell_type": "code",
      "source": [
        "df_filtrado[df_filtrado['adults'] == 0][['adults', 'children', 'babies']]"
      ],
      "metadata": {
        "id": "Eje5mNgqSvJK"
      },
      "execution_count": null,
      "outputs": []
    },
    {
      "cell_type": "code",
      "source": [
        "df_filtrado[df_filtrado['adults'] == 0][['adults', 'children', 'babies']].value_counts()"
      ],
      "metadata": {
        "id": "I3GBWHw0S0Jv"
      },
      "execution_count": null,
      "outputs": []
    },
    {
      "cell_type": "markdown",
      "source": [
        "Nos decidimos por reemplazar los adultos que tienen un 0, por un 2, para mantener la moda"
      ],
      "metadata": {
        "id": "FsD97VMjlt3v"
      }
    },
    {
      "cell_type": "code",
      "source": [
        "df_filtrado = df_filtrado.replace({'adults': 0}, value=2)"
      ],
      "metadata": {
        "id": "RXhALd2SlkiV"
      },
      "execution_count": null,
      "outputs": []
    },
    {
      "cell_type": "markdown",
      "source": [
        "## 55 *Adults*"
      ],
      "metadata": {
        "id": "N3qS2t7Bn00V"
      }
    },
    {
      "cell_type": "markdown",
      "source": [
        "Este claramente es outlier, pero revisamos y tenemos que para valores > 4 los porcentajes de aparicion son menores a 0.004% respecto del total, lo cual nos resulta muy improbable, así que por ahora lo dejamos.\n",
        "\n",
        "Ademas, despues de mas investigacion, nos dismos cuenta que todas las reservas con una cantidad >= 10 de adultos fue clasificado como grupos, lo cual hace que el valor sea menos raro."
      ],
      "metadata": {
        "id": "meEy3VgQn6Ea"
      }
    },
    {
      "cell_type": "code",
      "source": [
        "df.loc[df.adults >=10]"
      ],
      "metadata": {
        "id": "rDNVl_YzoGCr"
      },
      "execution_count": null,
      "outputs": []
    },
    {
      "cell_type": "code",
      "source": [
        "plt.scatter(df.customer_type,df.adults)\n",
        "plt.title('Dispersograma Customer Type vs Adults')\n",
        "plt.xlabel('Customer Type')\n",
        "plt.ylabel('Adults')\n",
        "plt.show()"
      ],
      "metadata": {
        "id": "OgCWI2bWoJwb"
      },
      "execution_count": null,
      "outputs": []
    },
    {
      "cell_type": "markdown",
      "source": [
        "## 10 *Children*"
      ],
      "metadata": {
        "id": "zb2OoAqdpf-9"
      }
    },
    {
      "cell_type": "markdown",
      "source": [
        "Es una totalmente típica pareja, y al final la reserva fue cancelada, y los demás datos no son extraños, ni nos resultan anormales, así que nuestra mejor consideración es: que ya que la moda de \"children\" es 0, superando ampliamente el porcentaje de frecuencia de los demás datos, consideramos cambiar el valor de este dato a 0"
      ],
      "metadata": {
        "id": "5xgcDz_XprMK"
      }
    },
    {
      "cell_type": "code",
      "source": [
        "df.loc[df.children == 10]"
      ],
      "metadata": {
        "id": "HivahxkopRpS"
      },
      "execution_count": null,
      "outputs": []
    },
    {
      "cell_type": "code",
      "source": [
        "df_filtrado = df_filtrado.replace({'children': 10}, value=0)"
      ],
      "metadata": {
        "id": "fZfK29w9pubY"
      },
      "execution_count": null,
      "outputs": []
    },
    {
      "cell_type": "markdown",
      "source": [
        "## 9 *Babies*"
      ],
      "metadata": {
        "id": "GWtrnxwxrX5X"
      }
    },
    {
      "cell_type": "markdown",
      "source": [
        "Aunque esta reserva tiene otros valores tipicos, solo 8 reservas tienen más de un bebe, y de esas 8 solo esta tiene mas de 2. Entonces por la abrumadora cantidad de reservas con 0 bebes que van a estos hoteles consideramos lo más correcto mappear este valor como 0."
      ],
      "metadata": {
        "id": "Q5QUUUKht1JW"
      }
    },
    {
      "cell_type": "code",
      "source": [
        "df.babies.value_counts()"
      ],
      "metadata": {
        "id": "6xNZGf3JsVUP"
      },
      "execution_count": null,
      "outputs": []
    },
    {
      "cell_type": "code",
      "source": [
        "df.loc[df.babies == 9]"
      ],
      "metadata": {
        "id": "pEFAZFdVrZOX"
      },
      "execution_count": null,
      "outputs": []
    },
    {
      "cell_type": "code",
      "source": [
        "df_filtrado = df_filtrado.replace({'babies': 9}, value=0)"
      ],
      "metadata": {
        "id": "bEaEalUFregh"
      },
      "execution_count": null,
      "outputs": []
    },
    {
      "cell_type": "markdown",
      "source": [
        "## *Adr* negativo"
      ],
      "metadata": {
        "id": "0m7VBXnMGipw"
      }
    },
    {
      "cell_type": "markdown",
      "source": [
        "Es un caso único, así que la consideranción más acertada seria cambiar el valor por la mediana del campo \"adr\", que seria 95."
      ],
      "metadata": {
        "id": "T6Ksh1D9GuqQ"
      }
    },
    {
      "cell_type": "code",
      "source": [
        "df_negative_adr = df[df['adr'] < 0]\n",
        "df_negative_adr"
      ],
      "metadata": {
        "id": "rMlDohw0GpTQ"
      },
      "execution_count": null,
      "outputs": []
    },
    {
      "cell_type": "code",
      "source": [
        "df_filtrado = df_filtrado.replace({'adr': -6.38}, value=df_filtrado['adr'].median())\n",
        "\n",
        "df_filtrado[df_filtrado['adr'] < 0].shape"
      ],
      "metadata": {
        "id": "fIbwbAV-MJ8X"
      },
      "execution_count": null,
      "outputs": []
    },
    {
      "cell_type": "markdown",
      "source": [
        "## *Adr* cero\n",
        "\n",
        "Este caso es muy poco probable, de hecho es menor a 2% del total de los casos, por lo cual conisderamos reemplazar por la mediana."
      ],
      "metadata": {
        "id": "CZREL-PqG0TZ"
      }
    },
    {
      "cell_type": "code",
      "source": [
        "df_cero_adr = df[df['adr'] == 0]\n",
        "df_cero_adr.shape"
      ],
      "metadata": {
        "id": "S5_OzLGDG533"
      },
      "execution_count": null,
      "outputs": []
    },
    {
      "cell_type": "code",
      "source": [
        "# Reemplaza los valores 0 con la mediana\n",
        "df_filtrado = df_filtrado.replace({'adr': 0}, value=df_filtrado['adr'].median())\n",
        "\n",
        "df_filtrado[df_filtrado['adr'] == 0].shape"
      ],
      "metadata": {
        "id": "e_upOvuFLL8j"
      },
      "execution_count": null,
      "outputs": []
    },
    {
      "cell_type": "markdown",
      "source": [
        "##629 *Lead Time*"
      ],
      "metadata": {
        "id": "BWoYDro-uIZG"
      }
    },
    {
      "cell_type": "markdown",
      "source": [
        "En los valores se puede observar que hay varios valores de lead_time iguales a 629. Entendiendo este como el tiempo que se tarda desde que se hace la reserva hasta la llegada al hotel, el dato ciertamente es bastante alto, pero no consideramos que sean casos imposibles de ocurrir.\n",
        "\n",
        "Por otro lado, si vemos el grafico de distribuciones, podemos ver que hay un cierto salto cuando se llega a valores mayores a 600."
      ],
      "metadata": {
        "id": "dN5gvLH_uLjM"
      }
    },
    {
      "cell_type": "code",
      "source": [
        "plt.hist(df['lead_time'], bins=20, edgecolor='b')"
      ],
      "metadata": {
        "id": "39aTgw04uKVM"
      },
      "execution_count": null,
      "outputs": []
    },
    {
      "cell_type": "markdown",
      "source": [
        "Si investigamos un poco mas, podemos ver que hay muchas filas repetidas en este grupo (pasamos de 102 filas a 11). Y aunque mas de 600 dias de anticipacion no es un tiempo extremadamente raro, tampoco es lo suficientemente comun para justificar tantas filas repetidas.\n",
        "Por lo cual consideramos que hubo una falla en el sistema, y con el objetivo de suavizar el final del grafico, decidimos eliminar los repetidos."
      ],
      "metadata": {
        "id": "8VUQDbwgu0Xk"
      }
    },
    {
      "cell_type": "code",
      "source": [
        "df.loc[df.lead_time > 600].shape"
      ],
      "metadata": {
        "id": "PjBANp-ZuhLe"
      },
      "execution_count": null,
      "outputs": []
    },
    {
      "cell_type": "code",
      "source": [
        "# Chequeando repetidos\n",
        "df_chequeando_repetidos = df[(df['lead_time'] > 600)].drop('id', axis=1)\n",
        "df_chequeando_repetidos = df_chequeando_repetidos.drop_duplicates()\n",
        "df_chequeando_repetidos.shape"
      ],
      "metadata": {
        "id": "zCoMTI22ucdm"
      },
      "execution_count": null,
      "outputs": []
    },
    {
      "cell_type": "code",
      "source": [
        "# Sacando repetidos\n",
        "df_lead_mayor_600 = df_filtrado.loc[df_filtrado['lead_time'] > 600]\n",
        "df_lead_menor_600 = df_filtrado.loc[df_filtrado['lead_time'] <= 600]\n",
        "df_lead_mayor_600.drop_duplicates(subset=[col for col in df_filtrado.columns if col not in 'id'], inplace=True)\n",
        "df_filtrado = pd.concat([df_lead_mayor_600, df_lead_menor_600], ignore_index=True)"
      ],
      "metadata": {
        "id": "hpQgLgLCvl9q"
      },
      "execution_count": null,
      "outputs": []
    },
    {
      "cell_type": "code",
      "source": [
        "plt.hist(df_filtrado['lead_time'], bins=20, edgecolor='b')"
      ],
      "metadata": {
        "id": "8hPG4SUnwGdc"
      },
      "execution_count": null,
      "outputs": []
    },
    {
      "cell_type": "markdown",
      "source": [
        "## repetidos 25 *Previous Cancelations*"
      ],
      "metadata": {
        "id": "0W5Z_DKYwYns"
      }
    },
    {
      "cell_type": "markdown",
      "source": [
        "En su gran mayoria las reservas no fueron canceladas previamente por los usuarios, siendo este un gran porcentaje de 92.9%, y si sumamos el porcentaje de personas que solo cancelaron 1 vez tenemos un porcentaje de 99.6% con lo cual es muy poco probable que vaya alguien con más reservas previas cancelas, un motivo puede ser que si ya cancelo previamente dos veces es porque no le gustó algún servicio y ya no piensa volver."
      ],
      "metadata": {
        "id": "m0dzjs2xxJrC"
      }
    },
    {
      "cell_type": "code",
      "source": [
        "df_previous_cancellations_porcent = df['previous_cancellations'].value_counts().reset_index()\n",
        "df_previous_cancellations_porcent.columns = ['previous_cancellations', 'Conteo']\n",
        "df_previous_cancellations_porcent['Porcentaje'] = (df_previous_cancellations_porcent['Conteo'] / len(df)) * 100\n",
        "\n",
        "# ordenado por porcentaje\n",
        "df_previous_cancellations_porcent"
      ],
      "metadata": {
        "id": "L_CKNO3owbg9"
      },
      "execution_count": null,
      "outputs": []
    },
    {
      "cell_type": "code",
      "source": [
        "df_previous_cancelations = df[(df['previous_cancellations'] > 25) & (df['is_canceled'] == 1)]\n",
        "df_previous_cancelations.shape"
      ],
      "metadata": {
        "id": "4psY7rXAxoI2"
      },
      "execution_count": null,
      "outputs": []
    },
    {
      "cell_type": "code",
      "source": [
        "plt.scatter(df.previous_cancellations,df.is_canceled)\n",
        "plt.title('Dispersograma Customer Type vs Adults')\n",
        "plt.xlabel('previous_cancellations')\n",
        "plt.ylabel('is_canceled')\n",
        "plt.show()"
      ],
      "metadata": {
        "id": "_DmEFWOceoFj"
      },
      "execution_count": null,
      "outputs": []
    },
    {
      "cell_type": "markdown",
      "source": [
        "Indagando mas en profundo, nos dimos cuenta que hay muchos repetidos cuando empezas a filtrar por previous_cancellations de gran tamaño, ejemplo:"
      ],
      "metadata": {
        "id": "Hh33vf6rdx1F"
      }
    },
    {
      "cell_type": "code",
      "source": [
        "df.loc[df.previous_cancellations == 25]"
      ],
      "metadata": {
        "id": "Et-R29Aexx5f"
      },
      "execution_count": null,
      "outputs": []
    },
    {
      "cell_type": "markdown",
      "source": [
        "Por lo tanto decidimos eliminar todos los duplicados que tienen una cancelación > 10, ya que los encontramos sospechosos."
      ],
      "metadata": {
        "id": "1d3pRLE_edOu"
      }
    },
    {
      "cell_type": "code",
      "source": [
        "df_cancelaciones_filtradas = df[df['previous_cancellations']>10]\n",
        "sns.histplot(data=df_cancelaciones_filtradas['previous_cancellations'])"
      ],
      "metadata": {
        "id": "Q9qL_mWIflao"
      },
      "execution_count": null,
      "outputs": []
    },
    {
      "cell_type": "code",
      "source": [
        "df_mayor_10 = df_filtrado.loc[df_filtrado['previous_cancellations'] > 10]\n",
        "df_menor_10 = df_filtrado.loc[df_filtrado['previous_cancellations'] <= 10]\n",
        "df_mayor_10.drop_duplicates(subset=[col for col in df_filtrado.columns if col not in 'id'], inplace=True)\n",
        "df_filtrado = pd.concat([df_mayor_10, df_menor_10], ignore_index=True)"
      ],
      "metadata": {
        "id": "YOXCs9TCecwl"
      },
      "execution_count": null,
      "outputs": []
    },
    {
      "cell_type": "code",
      "source": [
        "#Con duplicados eliminados\n",
        "df_cancelaciones_filtradas = df_filtrado[df_filtrado['previous_cancellations']>10]\n",
        "sns.histplot(data=df_cancelaciones_filtradas['previous_cancellations'])"
      ],
      "metadata": {
        "id": "KRcnu13ohgLZ"
      },
      "execution_count": null,
      "outputs": []
    },
    {
      "cell_type": "markdown",
      "source": [
        "## 70 *Previous Bookings Not Canceled*"
      ],
      "metadata": {
        "id": "FBrKeFhJiink"
      }
    },
    {
      "cell_type": "markdown",
      "source": [
        "Investigamos el caso de 70 bookings no canceladas"
      ],
      "metadata": {
        "id": "ziuzpg01kiJw"
      }
    },
    {
      "cell_type": "code",
      "source": [
        "df_previous_bookings_not_canceled_porcent = df['previous_bookings_not_canceled'].value_counts().reset_index()\n",
        "df_previous_bookings_not_canceled_porcent.columns = ['previous_bookings_not_canceled', 'Conteo']\n",
        "df_previous_bookings_not_canceled_porcent['Porcentaje'] = (df_previous_bookings_not_canceled_porcent['Conteo'] / len(df)) * 100\n",
        "\n",
        "# ordenado por porcentaje\n",
        "df_previous_bookings_not_canceled_porcent"
      ],
      "metadata": {
        "id": "F3QYUT1IiVsA"
      },
      "execution_count": null,
      "outputs": []
    },
    {
      "cell_type": "markdown",
      "source": [
        "Aunque hay valores exagerados como 70, este no es un valor mayor abrupto, si no que hay otros parecidos. Tambien, con el conteo, ya a plena vista podemos ver que estos valores grandes no son duplicados, entonces podrían ser simplemente de clientes especiales que frecuentan mucho los hoteles.\n",
        "\n",
        "Por lo tanto no vamos a tocar estos datos."
      ],
      "metadata": {
        "id": "Wg7JcofkjAA6"
      }
    },
    {
      "cell_type": "markdown",
      "source": [
        "## 17 *Booking Changes*"
      ],
      "metadata": {
        "id": "t-1GMwaumjko"
      }
    },
    {
      "cell_type": "code",
      "source": [
        "df_booking_changes_porcent = df['booking_changes'].value_counts().reset_index()\n",
        "df_booking_changes_porcent.columns = ['booking_changes', 'Conteo']\n",
        "df_booking_changes_porcent['Porcentaje'] = (df_booking_changes_porcent['Conteo'] / len(df)) * 100\n",
        "\n",
        "# ordenado por porcentaje\n",
        "# df_booking_changes_porcent.sort_values(by='booking_changes')\n",
        "df_booking_changes_porcent"
      ],
      "metadata": {
        "id": "-67RkVOdlsQH"
      },
      "execution_count": null,
      "outputs": []
    },
    {
      "cell_type": "markdown",
      "source": [
        "Igual que con 70 previous_bookings_not_canceled, por ahora no notamos que sean datos tan atipicos, si no que hay varios que se acercan a este maximo, por lo cual decidimos dejarlo."
      ],
      "metadata": {
        "id": "jU4RrTqpnJaj"
      }
    },
    {
      "cell_type": "markdown",
      "source": [
        "## 8 *Required Car Parking Spaces*"
      ],
      "metadata": {
        "id": "TDza5y4endRV"
      }
    },
    {
      "cell_type": "code",
      "source": [
        "df_filtrado['required_car_parking_spaces'].value_counts()"
      ],
      "metadata": {
        "id": "2bgORVDRm00W"
      },
      "execution_count": null,
      "outputs": []
    },
    {
      "cell_type": "code",
      "source": [
        "df_filtrado[df_filtrado['required_car_parking_spaces']>1][['adults','required_car_parking_spaces','customer_type']]"
      ],
      "metadata": {
        "id": "pgiGmttLnknF"
      },
      "execution_count": null,
      "outputs": []
    },
    {
      "cell_type": "markdown",
      "source": [
        "Aca vemos unas inconsistencias en el hecho de que con las filas donde se requieren 3 u 8 espacios de estacionamiento, no hay suficientes adultos que puedan manejar tantos autos. Esto hace que las dos filas se nos resulten sospechosas.\n",
        "\n",
        "Como no tenemos los suficientes datos para clientes que piden mas de 2 espacios, decidimos no editar estos datos ya que nos pueden ayudar a futuro, aun cuando parecen sospechosos."
      ],
      "metadata": {
        "id": "0vTUfu9bn7El"
      }
    }
  ]
}