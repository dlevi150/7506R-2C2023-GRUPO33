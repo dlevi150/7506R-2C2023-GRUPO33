{
  "nbformat": 4,
  "nbformat_minor": 0,
  "metadata": {
    "colab": {
      "provenance": []
    },
    "kernelspec": {
      "name": "python3",
      "display_name": "Python 3"
    },
    "language_info": {
      "name": "python"
    }
  },
  "cells": [
    {
      "cell_type": "code",
      "execution_count": 1,
      "metadata": {
        "colab": {
          "base_uri": "https://localhost:8080/"
        },
        "id": "bOgTIgRDBHN3",
        "outputId": "f92406b1-5297-405f-b6bc-dfa48f93ce1b"
      },
      "outputs": [
        {
          "output_type": "stream",
          "name": "stdout",
          "text": [
            "Collecting dtreeviz\n",
            "  Downloading dtreeviz-2.2.2-py3-none-any.whl (91 kB)\n",
            "\u001b[2K     \u001b[90m━━━━━━━━━━━━━━━━━━━━━━━━━━━━━━━━━━━━━━━━\u001b[0m \u001b[32m91.8/91.8 kB\u001b[0m \u001b[31m2.3 MB/s\u001b[0m eta \u001b[36m0:00:00\u001b[0m\n",
            "\u001b[?25hRequirement already satisfied: graphviz>=0.9 in /usr/local/lib/python3.10/dist-packages (from dtreeviz) (0.20.1)\n",
            "Requirement already satisfied: pandas in /usr/local/lib/python3.10/dist-packages (from dtreeviz) (1.5.3)\n",
            "Requirement already satisfied: numpy in /usr/local/lib/python3.10/dist-packages (from dtreeviz) (1.23.5)\n",
            "Requirement already satisfied: scikit-learn in /usr/local/lib/python3.10/dist-packages (from dtreeviz) (1.2.2)\n",
            "Requirement already satisfied: matplotlib in /usr/local/lib/python3.10/dist-packages (from dtreeviz) (3.7.1)\n",
            "Requirement already satisfied: colour in /usr/local/lib/python3.10/dist-packages (from dtreeviz) (0.1.5)\n",
            "Requirement already satisfied: pytest in /usr/local/lib/python3.10/dist-packages (from dtreeviz) (7.4.1)\n",
            "Requirement already satisfied: contourpy>=1.0.1 in /usr/local/lib/python3.10/dist-packages (from matplotlib->dtreeviz) (1.1.0)\n",
            "Requirement already satisfied: cycler>=0.10 in /usr/local/lib/python3.10/dist-packages (from matplotlib->dtreeviz) (0.11.0)\n",
            "Requirement already satisfied: fonttools>=4.22.0 in /usr/local/lib/python3.10/dist-packages (from matplotlib->dtreeviz) (4.42.1)\n",
            "Requirement already satisfied: kiwisolver>=1.0.1 in /usr/local/lib/python3.10/dist-packages (from matplotlib->dtreeviz) (1.4.5)\n",
            "Requirement already satisfied: packaging>=20.0 in /usr/local/lib/python3.10/dist-packages (from matplotlib->dtreeviz) (23.1)\n",
            "Requirement already satisfied: pillow>=6.2.0 in /usr/local/lib/python3.10/dist-packages (from matplotlib->dtreeviz) (9.4.0)\n",
            "Requirement already satisfied: pyparsing>=2.3.1 in /usr/local/lib/python3.10/dist-packages (from matplotlib->dtreeviz) (3.1.1)\n",
            "Requirement already satisfied: python-dateutil>=2.7 in /usr/local/lib/python3.10/dist-packages (from matplotlib->dtreeviz) (2.8.2)\n",
            "Requirement already satisfied: pytz>=2020.1 in /usr/local/lib/python3.10/dist-packages (from pandas->dtreeviz) (2023.3.post1)\n",
            "Requirement already satisfied: iniconfig in /usr/local/lib/python3.10/dist-packages (from pytest->dtreeviz) (2.0.0)\n",
            "Requirement already satisfied: pluggy<2.0,>=0.12 in /usr/local/lib/python3.10/dist-packages (from pytest->dtreeviz) (1.3.0)\n",
            "Requirement already satisfied: exceptiongroup>=1.0.0rc8 in /usr/local/lib/python3.10/dist-packages (from pytest->dtreeviz) (1.1.3)\n",
            "Requirement already satisfied: tomli>=1.0.0 in /usr/local/lib/python3.10/dist-packages (from pytest->dtreeviz) (2.0.1)\n",
            "Requirement already satisfied: scipy>=1.3.2 in /usr/local/lib/python3.10/dist-packages (from scikit-learn->dtreeviz) (1.11.2)\n",
            "Requirement already satisfied: joblib>=1.1.1 in /usr/local/lib/python3.10/dist-packages (from scikit-learn->dtreeviz) (1.3.2)\n",
            "Requirement already satisfied: threadpoolctl>=2.0.0 in /usr/local/lib/python3.10/dist-packages (from scikit-learn->dtreeviz) (3.2.0)\n",
            "Requirement already satisfied: six>=1.5 in /usr/local/lib/python3.10/dist-packages (from python-dateutil>=2.7->matplotlib->dtreeviz) (1.16.0)\n",
            "Installing collected packages: dtreeviz\n",
            "Successfully installed dtreeviz-2.2.2\n"
          ]
        }
      ],
      "source": [
        "!pip install 'dtreeviz'"
      ]
    },
    {
      "cell_type": "code",
      "source": [
        "!wget https://raw.githubusercontent.com/dlevi150/7506R-2C2023-GRUPO33/main/CHP1/datasets/hotels_train.csv"
      ],
      "metadata": {
        "colab": {
          "base_uri": "https://localhost:8080/"
        },
        "id": "6INjxJ2mOU36",
        "outputId": "aecec604-ea7c-4dd5-c08d-bfd2266ed32b"
      },
      "execution_count": 2,
      "outputs": [
        {
          "output_type": "stream",
          "name": "stdout",
          "text": [
            "--2023-09-28 03:14:05--  https://raw.githubusercontent.com/dlevi150/7506R-2C2023-GRUPO33/main/CHP1/datasets/hotels_train.csv\n",
            "Resolving raw.githubusercontent.com (raw.githubusercontent.com)... 185.199.108.133, 185.199.109.133, 185.199.110.133, ...\n",
            "Connecting to raw.githubusercontent.com (raw.githubusercontent.com)|185.199.108.133|:443... connected.\n",
            "HTTP request sent, awaiting response... 200 OK\n",
            "Length: 9788953 (9.3M) [text/plain]\n",
            "Saving to: ‘hotels_train.csv’\n",
            "\n",
            "hotels_train.csv    100%[===================>]   9.33M  --.-KB/s    in 0.06s   \n",
            "\n",
            "2023-09-28 03:14:05 (147 MB/s) - ‘hotels_train.csv’ saved [9788953/9788953]\n",
            "\n"
          ]
        }
      ]
    },
    {
      "cell_type": "code",
      "source": [
        "!wget https://raw.githubusercontent.com/dlevi150/7506R-2C2023-GRUPO33/main/CHP1/datasets/hotels_test.csv"
      ],
      "metadata": {
        "colab": {
          "base_uri": "https://localhost:8080/"
        },
        "id": "jCW2noEEjVuD",
        "outputId": "38d4bc3e-1d5b-4fe8-faad-d14f8aef71dc"
      },
      "execution_count": 3,
      "outputs": [
        {
          "output_type": "stream",
          "name": "stdout",
          "text": [
            "--2023-09-28 03:14:12--  https://raw.githubusercontent.com/dlevi150/7506R-2C2023-GRUPO33/main/CHP1/datasets/hotels_test.csv\n",
            "Resolving raw.githubusercontent.com (raw.githubusercontent.com)... 185.199.108.133, 185.199.109.133, 185.199.110.133, ...\n",
            "Connecting to raw.githubusercontent.com (raw.githubusercontent.com)|185.199.108.133|:443... connected.\n",
            "HTTP request sent, awaiting response... 200 OK\n",
            "Length: 4432981 (4.2M) [text/plain]\n",
            "Saving to: ‘hotels_test.csv’\n",
            "\n",
            "hotels_test.csv     100%[===================>]   4.23M  --.-KB/s    in 0.06s   \n",
            "\n",
            "2023-09-28 03:14:12 (68.5 MB/s) - ‘hotels_test.csv’ saved [4432981/4432981]\n",
            "\n"
          ]
        }
      ]
    },
    {
      "cell_type": "code",
      "source": [
        "import pandas as pd\n",
        "import numpy as np\n",
        "\n",
        "#Visualización\n",
        "import matplotlib.pyplot as plt\n",
        "import seaborn as sns\n",
        "import dtreeviz\n",
        "\n",
        "#modelos y métricas\n",
        "from sklearn import tree\n",
        "from sklearn.model_selection import train_test_split\n",
        "from sklearn.metrics import precision_score, recall_score, accuracy_score,f1_score#, precision_recall_curve, roc_curve,\n",
        "from sklearn.metrics import confusion_matrix, classification_report\n",
        "\n",
        "#preprocesamiento\n",
        "from sklearn.preprocessing import MinMaxScaler\n",
        "\n",
        "#configuración warnings\n",
        "import warnings\n",
        "warnings.simplefilter(action='ignore', category=FutureWarning)\n",
        "warnings.simplefilter(action='ignore', category=UserWarning)"
      ],
      "metadata": {
        "id": "M_KQD8z8HhYH"
      },
      "execution_count": 4,
      "outputs": []
    },
    {
      "cell_type": "code",
      "source": [
        "df = pd.read_csv(\"hotels_train.csv\")\n",
        "\n",
        "df_filtrado = df.copy()"
      ],
      "metadata": {
        "id": "kxS5A7ZgIxSc"
      },
      "execution_count": 195,
      "outputs": []
    },
    {
      "cell_type": "code",
      "source": [
        "df.head(3)"
      ],
      "metadata": {
        "colab": {
          "base_uri": "https://localhost:8080/",
          "height": 349
        },
        "id": "fX30czaXI3vV",
        "outputId": "6fdade6f-dc90-46cd-b032-be72bed22bb7"
      },
      "execution_count": 196,
      "outputs": [
        {
          "output_type": "execute_result",
          "data": {
            "text/plain": [
              "          hotel  lead_time  arrival_date_year arrival_date_month  \\\n",
              "0    City Hotel         49               2016          September   \n",
              "1  Resort Hotel          4               2015            October   \n",
              "2    City Hotel         25               2016            October   \n",
              "\n",
              "   arrival_date_week_number  arrival_date_day_of_month  \\\n",
              "0                        37                          5   \n",
              "1                        44                         31   \n",
              "2                        42                         13   \n",
              "\n",
              "   stays_in_weekend_nights  stays_in_week_nights  adults  children  ...  \\\n",
              "0                        1                     2       1       0.0  ...   \n",
              "1                        0                     1       2       0.0  ...   \n",
              "2                        0                     1       2       2.0  ...   \n",
              "\n",
              "   deposit_type agent company days_in_waiting_list customer_type    adr  \\\n",
              "0    No Deposit   9.0     NaN                    0     Transient  115.5   \n",
              "1    No Deposit   NaN     NaN                    0     Transient   42.0   \n",
              "2    No Deposit   9.0     NaN                    0     Transient  229.0   \n",
              "\n",
              "   required_car_parking_spaces  total_of_special_requests  \\\n",
              "0                            0                          1   \n",
              "1                            1                          0   \n",
              "2                            0                          2   \n",
              "\n",
              "                                     id is_canceled  \n",
              "0  7aa4cc6b-b92c-4061-b21d-4f9e0cac4689           1  \n",
              "1  b1428f80-c56c-4ae4-91a9-6962edae08b1           0  \n",
              "2  2226c018-ea20-4c4e-8f71-ea66aee70d7c           0  \n",
              "\n",
              "[3 rows x 31 columns]"
            ],
            "text/html": [
              "\n",
              "  <div id=\"df-bf753bf8-1f81-4278-be96-11fd45452793\" class=\"colab-df-container\">\n",
              "    <div>\n",
              "<style scoped>\n",
              "    .dataframe tbody tr th:only-of-type {\n",
              "        vertical-align: middle;\n",
              "    }\n",
              "\n",
              "    .dataframe tbody tr th {\n",
              "        vertical-align: top;\n",
              "    }\n",
              "\n",
              "    .dataframe thead th {\n",
              "        text-align: right;\n",
              "    }\n",
              "</style>\n",
              "<table border=\"1\" class=\"dataframe\">\n",
              "  <thead>\n",
              "    <tr style=\"text-align: right;\">\n",
              "      <th></th>\n",
              "      <th>hotel</th>\n",
              "      <th>lead_time</th>\n",
              "      <th>arrival_date_year</th>\n",
              "      <th>arrival_date_month</th>\n",
              "      <th>arrival_date_week_number</th>\n",
              "      <th>arrival_date_day_of_month</th>\n",
              "      <th>stays_in_weekend_nights</th>\n",
              "      <th>stays_in_week_nights</th>\n",
              "      <th>adults</th>\n",
              "      <th>children</th>\n",
              "      <th>...</th>\n",
              "      <th>deposit_type</th>\n",
              "      <th>agent</th>\n",
              "      <th>company</th>\n",
              "      <th>days_in_waiting_list</th>\n",
              "      <th>customer_type</th>\n",
              "      <th>adr</th>\n",
              "      <th>required_car_parking_spaces</th>\n",
              "      <th>total_of_special_requests</th>\n",
              "      <th>id</th>\n",
              "      <th>is_canceled</th>\n",
              "    </tr>\n",
              "  </thead>\n",
              "  <tbody>\n",
              "    <tr>\n",
              "      <th>0</th>\n",
              "      <td>City Hotel</td>\n",
              "      <td>49</td>\n",
              "      <td>2016</td>\n",
              "      <td>September</td>\n",
              "      <td>37</td>\n",
              "      <td>5</td>\n",
              "      <td>1</td>\n",
              "      <td>2</td>\n",
              "      <td>1</td>\n",
              "      <td>0.0</td>\n",
              "      <td>...</td>\n",
              "      <td>No Deposit</td>\n",
              "      <td>9.0</td>\n",
              "      <td>NaN</td>\n",
              "      <td>0</td>\n",
              "      <td>Transient</td>\n",
              "      <td>115.5</td>\n",
              "      <td>0</td>\n",
              "      <td>1</td>\n",
              "      <td>7aa4cc6b-b92c-4061-b21d-4f9e0cac4689</td>\n",
              "      <td>1</td>\n",
              "    </tr>\n",
              "    <tr>\n",
              "      <th>1</th>\n",
              "      <td>Resort Hotel</td>\n",
              "      <td>4</td>\n",
              "      <td>2015</td>\n",
              "      <td>October</td>\n",
              "      <td>44</td>\n",
              "      <td>31</td>\n",
              "      <td>0</td>\n",
              "      <td>1</td>\n",
              "      <td>2</td>\n",
              "      <td>0.0</td>\n",
              "      <td>...</td>\n",
              "      <td>No Deposit</td>\n",
              "      <td>NaN</td>\n",
              "      <td>NaN</td>\n",
              "      <td>0</td>\n",
              "      <td>Transient</td>\n",
              "      <td>42.0</td>\n",
              "      <td>1</td>\n",
              "      <td>0</td>\n",
              "      <td>b1428f80-c56c-4ae4-91a9-6962edae08b1</td>\n",
              "      <td>0</td>\n",
              "    </tr>\n",
              "    <tr>\n",
              "      <th>2</th>\n",
              "      <td>City Hotel</td>\n",
              "      <td>25</td>\n",
              "      <td>2016</td>\n",
              "      <td>October</td>\n",
              "      <td>42</td>\n",
              "      <td>13</td>\n",
              "      <td>0</td>\n",
              "      <td>1</td>\n",
              "      <td>2</td>\n",
              "      <td>2.0</td>\n",
              "      <td>...</td>\n",
              "      <td>No Deposit</td>\n",
              "      <td>9.0</td>\n",
              "      <td>NaN</td>\n",
              "      <td>0</td>\n",
              "      <td>Transient</td>\n",
              "      <td>229.0</td>\n",
              "      <td>0</td>\n",
              "      <td>2</td>\n",
              "      <td>2226c018-ea20-4c4e-8f71-ea66aee70d7c</td>\n",
              "      <td>0</td>\n",
              "    </tr>\n",
              "  </tbody>\n",
              "</table>\n",
              "<p>3 rows × 31 columns</p>\n",
              "</div>\n",
              "    <div class=\"colab-df-buttons\">\n",
              "\n",
              "  <div class=\"colab-df-container\">\n",
              "    <button class=\"colab-df-convert\" onclick=\"convertToInteractive('df-bf753bf8-1f81-4278-be96-11fd45452793')\"\n",
              "            title=\"Convert this dataframe to an interactive table.\"\n",
              "            style=\"display:none;\">\n",
              "\n",
              "  <svg xmlns=\"http://www.w3.org/2000/svg\" height=\"24px\" viewBox=\"0 -960 960 960\">\n",
              "    <path d=\"M120-120v-720h720v720H120Zm60-500h600v-160H180v160Zm220 220h160v-160H400v160Zm0 220h160v-160H400v160ZM180-400h160v-160H180v160Zm440 0h160v-160H620v160ZM180-180h160v-160H180v160Zm440 0h160v-160H620v160Z\"/>\n",
              "  </svg>\n",
              "    </button>\n",
              "\n",
              "  <style>\n",
              "    .colab-df-container {\n",
              "      display:flex;\n",
              "      gap: 12px;\n",
              "    }\n",
              "\n",
              "    .colab-df-convert {\n",
              "      background-color: #E8F0FE;\n",
              "      border: none;\n",
              "      border-radius: 50%;\n",
              "      cursor: pointer;\n",
              "      display: none;\n",
              "      fill: #1967D2;\n",
              "      height: 32px;\n",
              "      padding: 0 0 0 0;\n",
              "      width: 32px;\n",
              "    }\n",
              "\n",
              "    .colab-df-convert:hover {\n",
              "      background-color: #E2EBFA;\n",
              "      box-shadow: 0px 1px 2px rgba(60, 64, 67, 0.3), 0px 1px 3px 1px rgba(60, 64, 67, 0.15);\n",
              "      fill: #174EA6;\n",
              "    }\n",
              "\n",
              "    .colab-df-buttons div {\n",
              "      margin-bottom: 4px;\n",
              "    }\n",
              "\n",
              "    [theme=dark] .colab-df-convert {\n",
              "      background-color: #3B4455;\n",
              "      fill: #D2E3FC;\n",
              "    }\n",
              "\n",
              "    [theme=dark] .colab-df-convert:hover {\n",
              "      background-color: #434B5C;\n",
              "      box-shadow: 0px 1px 3px 1px rgba(0, 0, 0, 0.15);\n",
              "      filter: drop-shadow(0px 1px 2px rgba(0, 0, 0, 0.3));\n",
              "      fill: #FFFFFF;\n",
              "    }\n",
              "  </style>\n",
              "\n",
              "    <script>\n",
              "      const buttonEl =\n",
              "        document.querySelector('#df-bf753bf8-1f81-4278-be96-11fd45452793 button.colab-df-convert');\n",
              "      buttonEl.style.display =\n",
              "        google.colab.kernel.accessAllowed ? 'block' : 'none';\n",
              "\n",
              "      async function convertToInteractive(key) {\n",
              "        const element = document.querySelector('#df-bf753bf8-1f81-4278-be96-11fd45452793');\n",
              "        const dataTable =\n",
              "          await google.colab.kernel.invokeFunction('convertToInteractive',\n",
              "                                                    [key], {});\n",
              "        if (!dataTable) return;\n",
              "\n",
              "        const docLinkHtml = 'Like what you see? Visit the ' +\n",
              "          '<a target=\"_blank\" href=https://colab.research.google.com/notebooks/data_table.ipynb>data table notebook</a>'\n",
              "          + ' to learn more about interactive tables.';\n",
              "        element.innerHTML = '';\n",
              "        dataTable['output_type'] = 'display_data';\n",
              "        await google.colab.output.renderOutput(dataTable, element);\n",
              "        const docLink = document.createElement('div');\n",
              "        docLink.innerHTML = docLinkHtml;\n",
              "        element.appendChild(docLink);\n",
              "      }\n",
              "    </script>\n",
              "  </div>\n",
              "\n",
              "\n",
              "<div id=\"df-a053e20c-86cb-421c-bccc-98212efb40d7\">\n",
              "  <button class=\"colab-df-quickchart\" onclick=\"quickchart('df-a053e20c-86cb-421c-bccc-98212efb40d7')\"\n",
              "            title=\"Suggest charts.\"\n",
              "            style=\"display:none;\">\n",
              "\n",
              "<svg xmlns=\"http://www.w3.org/2000/svg\" height=\"24px\"viewBox=\"0 0 24 24\"\n",
              "     width=\"24px\">\n",
              "    <g>\n",
              "        <path d=\"M19 3H5c-1.1 0-2 .9-2 2v14c0 1.1.9 2 2 2h14c1.1 0 2-.9 2-2V5c0-1.1-.9-2-2-2zM9 17H7v-7h2v7zm4 0h-2V7h2v10zm4 0h-2v-4h2v4z\"/>\n",
              "    </g>\n",
              "</svg>\n",
              "  </button>\n",
              "\n",
              "<style>\n",
              "  .colab-df-quickchart {\n",
              "      --bg-color: #E8F0FE;\n",
              "      --fill-color: #1967D2;\n",
              "      --hover-bg-color: #E2EBFA;\n",
              "      --hover-fill-color: #174EA6;\n",
              "      --disabled-fill-color: #AAA;\n",
              "      --disabled-bg-color: #DDD;\n",
              "  }\n",
              "\n",
              "  [theme=dark] .colab-df-quickchart {\n",
              "      --bg-color: #3B4455;\n",
              "      --fill-color: #D2E3FC;\n",
              "      --hover-bg-color: #434B5C;\n",
              "      --hover-fill-color: #FFFFFF;\n",
              "      --disabled-bg-color: #3B4455;\n",
              "      --disabled-fill-color: #666;\n",
              "  }\n",
              "\n",
              "  .colab-df-quickchart {\n",
              "    background-color: var(--bg-color);\n",
              "    border: none;\n",
              "    border-radius: 50%;\n",
              "    cursor: pointer;\n",
              "    display: none;\n",
              "    fill: var(--fill-color);\n",
              "    height: 32px;\n",
              "    padding: 0;\n",
              "    width: 32px;\n",
              "  }\n",
              "\n",
              "  .colab-df-quickchart:hover {\n",
              "    background-color: var(--hover-bg-color);\n",
              "    box-shadow: 0 1px 2px rgba(60, 64, 67, 0.3), 0 1px 3px 1px rgba(60, 64, 67, 0.15);\n",
              "    fill: var(--button-hover-fill-color);\n",
              "  }\n",
              "\n",
              "  .colab-df-quickchart-complete:disabled,\n",
              "  .colab-df-quickchart-complete:disabled:hover {\n",
              "    background-color: var(--disabled-bg-color);\n",
              "    fill: var(--disabled-fill-color);\n",
              "    box-shadow: none;\n",
              "  }\n",
              "\n",
              "  .colab-df-spinner {\n",
              "    border: 2px solid var(--fill-color);\n",
              "    border-color: transparent;\n",
              "    border-bottom-color: var(--fill-color);\n",
              "    animation:\n",
              "      spin 1s steps(1) infinite;\n",
              "  }\n",
              "\n",
              "  @keyframes spin {\n",
              "    0% {\n",
              "      border-color: transparent;\n",
              "      border-bottom-color: var(--fill-color);\n",
              "      border-left-color: var(--fill-color);\n",
              "    }\n",
              "    20% {\n",
              "      border-color: transparent;\n",
              "      border-left-color: var(--fill-color);\n",
              "      border-top-color: var(--fill-color);\n",
              "    }\n",
              "    30% {\n",
              "      border-color: transparent;\n",
              "      border-left-color: var(--fill-color);\n",
              "      border-top-color: var(--fill-color);\n",
              "      border-right-color: var(--fill-color);\n",
              "    }\n",
              "    40% {\n",
              "      border-color: transparent;\n",
              "      border-right-color: var(--fill-color);\n",
              "      border-top-color: var(--fill-color);\n",
              "    }\n",
              "    60% {\n",
              "      border-color: transparent;\n",
              "      border-right-color: var(--fill-color);\n",
              "    }\n",
              "    80% {\n",
              "      border-color: transparent;\n",
              "      border-right-color: var(--fill-color);\n",
              "      border-bottom-color: var(--fill-color);\n",
              "    }\n",
              "    90% {\n",
              "      border-color: transparent;\n",
              "      border-bottom-color: var(--fill-color);\n",
              "    }\n",
              "  }\n",
              "</style>\n",
              "\n",
              "  <script>\n",
              "    async function quickchart(key) {\n",
              "      const quickchartButtonEl =\n",
              "        document.querySelector('#' + key + ' button');\n",
              "      quickchartButtonEl.disabled = true;  // To prevent multiple clicks.\n",
              "      quickchartButtonEl.classList.add('colab-df-spinner');\n",
              "      try {\n",
              "        const charts = await google.colab.kernel.invokeFunction(\n",
              "            'suggestCharts', [key], {});\n",
              "      } catch (error) {\n",
              "        console.error('Error during call to suggestCharts:', error);\n",
              "      }\n",
              "      quickchartButtonEl.classList.remove('colab-df-spinner');\n",
              "      quickchartButtonEl.classList.add('colab-df-quickchart-complete');\n",
              "    }\n",
              "    (() => {\n",
              "      let quickchartButtonEl =\n",
              "        document.querySelector('#df-a053e20c-86cb-421c-bccc-98212efb40d7 button');\n",
              "      quickchartButtonEl.style.display =\n",
              "        google.colab.kernel.accessAllowed ? 'block' : 'none';\n",
              "    })();\n",
              "  </script>\n",
              "</div>\n",
              "    </div>\n",
              "  </div>\n"
            ]
          },
          "metadata": {},
          "execution_count": 196
        }
      ]
    },
    {
      "cell_type": "markdown",
      "source": [
        "# Modificando el dataset"
      ],
      "metadata": {
        "id": "G0O3B9gZK96j"
      }
    },
    {
      "cell_type": "code",
      "source": [
        "df_filtrado = df_filtrado.drop('id', axis=1)\n",
        "df_filtrado = df_filtrado.drop('company', axis=1)"
      ],
      "metadata": {
        "id": "uReW9XfAJYe0"
      },
      "execution_count": 197,
      "outputs": []
    },
    {
      "cell_type": "markdown",
      "source": [
        "Al parecer arboles de desición no aceptan dateTime"
      ],
      "metadata": {
        "id": "bVFgOLxMgvgt"
      }
    },
    {
      "cell_type": "code",
      "source": [
        "#mapeamos los meses a numeros\n",
        "months_dict = {\n",
        "    'January': 1,\n",
        "    'February': 2,\n",
        "    'March': 3,\n",
        "    'April': 4,\n",
        "    'May': 5,\n",
        "    'June': 6,\n",
        "    'July': 7,\n",
        "    'August': 8,\n",
        "    'September': 9,\n",
        "    'October': 10,\n",
        "    'November': 11,\n",
        "    'December': 12\n",
        "}\n",
        "\n",
        "def mapear_mes_a_numero(fecha):\n",
        "    if(np.nan == fecha):\n",
        "        return -1\n",
        "    return months_dict.get(fecha)\n",
        "\n",
        "# df_filtrado['arrival_date_month'] = df_filtrado['arrival_date_month'].apply(mapear_mes_a_numero)\n",
        "\n",
        "\n",
        "# formato_fecha = \"%Y-%m-%d\"\n",
        "\n",
        "# df_filtrado['date'] = pd.to_datetime(df_filtrado[['arrival_date_year', 'arrival_date_month', 'arrival_date_day_of_month']].astype(str).agg('-'.join, axis=1), format=formato_fecha)\n",
        "# df_filtrado.drop(['arrival_date_year', 'arrival_date_month', 'arrival_date_day_of_month'], axis=1, inplace=True)\n",
        "# df_filtrado.head(2)"
      ],
      "metadata": {
        "id": "dxp4umvMK9VL"
      },
      "execution_count": 72,
      "outputs": []
    },
    {
      "cell_type": "code",
      "source": [
        "df_filtrado.children = df_filtrado.children.replace(np.nan, 0)\n",
        "print(f'Nueva media: {df_filtrado.children.mean().round(6)}\\nNueva Moda:  {df_filtrado.children.mode()}\\n')"
      ],
      "metadata": {
        "colab": {
          "base_uri": "https://localhost:8080/"
        },
        "id": "BNWeDKpbPVrj",
        "outputId": "6894a0d0-c6e9-42b2-af5f-d1a984f76e14"
      },
      "execution_count": 198,
      "outputs": [
        {
          "output_type": "stream",
          "name": "stdout",
          "text": [
            "Nueva media: 0.104889\n",
            "Nueva Moda:  0    0.0\n",
            "Name: children, dtype: float64\n",
            "\n"
          ]
        }
      ]
    },
    {
      "cell_type": "code",
      "source": [
        "moda_vieja = df.agent.mode()\n",
        "df_filtrado.agent = df_filtrado.agent.replace(np.nan, 9)\n",
        "moda_nueva = df.agent.mode()\n",
        "print(f'Moda Vieja: {moda_vieja}\\nModa Nueva: {moda_nueva}')"
      ],
      "metadata": {
        "colab": {
          "base_uri": "https://localhost:8080/"
        },
        "id": "FWoH-8VJQeL5",
        "outputId": "75d94cd3-42d1-4377-bae7-5a31cb37c890"
      },
      "execution_count": 199,
      "outputs": [
        {
          "output_type": "stream",
          "name": "stdout",
          "text": [
            "Moda Vieja: 0    9.0\n",
            "Name: agent, dtype: float64\n",
            "Moda Nueva: 0    9.0\n",
            "Name: agent, dtype: float64\n"
          ]
        }
      ]
    },
    {
      "cell_type": "code",
      "source": [
        "df_filtrado['country'] = df_filtrado['country'].replace(np.nan, 'PRT')"
      ],
      "metadata": {
        "id": "FxKgEIYNQzMI"
      },
      "execution_count": 200,
      "outputs": []
    },
    {
      "cell_type": "code",
      "source": [
        "df_filtrado = df_filtrado.replace({'adults': 0}, value=2)"
      ],
      "metadata": {
        "id": "aUbHXJQBQ01h"
      },
      "execution_count": 201,
      "outputs": []
    },
    {
      "cell_type": "code",
      "source": [
        "df_filtrado = df_filtrado.replace({'children': 10}, value=0)"
      ],
      "metadata": {
        "id": "KnF384byRKD5"
      },
      "execution_count": 202,
      "outputs": []
    },
    {
      "cell_type": "code",
      "source": [
        "df_filtrado = df_filtrado.replace({'babies': 9}, value=0)"
      ],
      "metadata": {
        "id": "D_I2VnMYRNYo"
      },
      "execution_count": 203,
      "outputs": []
    },
    {
      "cell_type": "code",
      "source": [
        "df_filtrado = df_filtrado.replace({'adr': -6.38}, value=df_filtrado['adr'].median())"
      ],
      "metadata": {
        "id": "lRc4-yzIRWRH"
      },
      "execution_count": 204,
      "outputs": []
    },
    {
      "cell_type": "code",
      "source": [
        "df_filtrado = df_filtrado.replace({'adr': 0}, value=df_filtrado['adr'].median())"
      ],
      "metadata": {
        "id": "82YHwZu4Ra6n"
      },
      "execution_count": 205,
      "outputs": []
    },
    {
      "cell_type": "code",
      "source": [
        "df_mayor_10 = df_filtrado.loc[df_filtrado['previous_cancellations'] > 10]\n",
        "df_menor_10 = df_filtrado.loc[df_filtrado['previous_cancellations'] <= 10]\n",
        "df_mayor_10.drop_duplicates(subset=[col for col in df_filtrado.columns if col not in 'id'], inplace=True)\n",
        "df_filtrado = pd.concat([df_mayor_10, df_menor_10], ignore_index=True)"
      ],
      "metadata": {
        "colab": {
          "base_uri": "https://localhost:8080/"
        },
        "id": "myDcZ3H2RczI",
        "outputId": "f7aba3b2-4395-4fd3-d060-39316e32b35d"
      },
      "execution_count": 206,
      "outputs": [
        {
          "output_type": "stream",
          "name": "stderr",
          "text": [
            "<ipython-input-206-89a89f17be70>:3: SettingWithCopyWarning: \n",
            "A value is trying to be set on a copy of a slice from a DataFrame\n",
            "\n",
            "See the caveats in the documentation: https://pandas.pydata.org/pandas-docs/stable/user_guide/indexing.html#returning-a-view-versus-a-copy\n"
          ]
        }
      ]
    },
    {
      "cell_type": "markdown",
      "source": [
        "## Sumamos cambios a nuestro dataframe de la primera parte."
      ],
      "metadata": {
        "id": "BR-Xjv-ea4jq"
      }
    },
    {
      "cell_type": "markdown",
      "source": [
        "Hay demasiado paises y algunos que solo tienen una aparición en reservas, lo cual va a crear demasiadas columnas innecesarias para nuestro dataset, vamoa a probar cambiando algunas por la moda, a continuación nuestro minusioso analisis."
      ],
      "metadata": {
        "id": "o5RV14fubAOw"
      }
    },
    {
      "cell_type": "code",
      "source": [
        "df_filtrado[\"country\"].value_counts()"
      ],
      "metadata": {
        "colab": {
          "base_uri": "https://localhost:8080/"
        },
        "id": "ZKGFNyIMa93y",
        "outputId": "79a1e509-e798-4eee-d203-eeaaabee0747"
      },
      "execution_count": 82,
      "outputs": [
        {
          "output_type": "execute_result",
          "data": {
            "text/plain": [
              "PRT    28097\n",
              "GBR     5733\n",
              "FRA     4809\n",
              "ESP     4210\n",
              "DEU     3312\n",
              "       ...  \n",
              "HND        1\n",
              "FJI        1\n",
              "LIE        1\n",
              "ATA        1\n",
              "RWA        1\n",
              "Name: country, Length: 149, dtype: int64"
            ]
          },
          "metadata": {},
          "execution_count": 82
        }
      ]
    },
    {
      "cell_type": "code",
      "source": [
        "df_paises_unicos = df_filtrado['country'].value_counts().reset_index()\n",
        "df_paises_unicos.columns = ['country', 'Conteo']\n",
        "\n",
        "umbral = 50\n",
        "\n",
        "resultado = df_paises_unicos[df_paises_unicos['Conteo'] < umbral]\n",
        "print(f\"La cantidad de paises que tiene menos de {umbral} reservas es {resultado.shape[0]}, siendo un total de {resultado.Conteo.sum()} casos\")"
      ],
      "metadata": {
        "colab": {
          "base_uri": "https://localhost:8080/"
        },
        "id": "06uo2HbBbeuJ",
        "outputId": "b09646ff-3b88-4a5b-e352-a08ee2b7cb98"
      },
      "execution_count": 207,
      "outputs": [
        {
          "output_type": "stream",
          "name": "stdout",
          "text": [
            "La cantidad de paises que tiene menos de 50 reservas es 112, siendo un total de 1253 casos\n"
          ]
        }
      ]
    },
    {
      "cell_type": "code",
      "source": [
        "lista_paises_con_pocas_reservas = resultado['country'].unique()\n",
        "df_filtrado[\"country\"] = df_filtrado[\"country\"].replace(to_replace=lista_paises_con_pocas_reservas, value=\"PRT\")"
      ],
      "metadata": {
        "id": "XbJjuZkHjkob"
      },
      "execution_count": 208,
      "outputs": []
    },
    {
      "cell_type": "code",
      "source": [
        "len(df_filtrado[\"country\"].unique())"
      ],
      "metadata": {
        "id": "T3N0FBDCmVJQ",
        "colab": {
          "base_uri": "https://localhost:8080/"
        },
        "outputId": "26319a91-6fe3-49b4-dac3-19c89812e88c"
      },
      "execution_count": 209,
      "outputs": [
        {
          "output_type": "execute_result",
          "data": {
            "text/plain": [
              "37"
            ]
          },
          "metadata": {},
          "execution_count": 209
        }
      ]
    },
    {
      "cell_type": "markdown",
      "source": [
        "# Encoding and separation columns"
      ],
      "metadata": {
        "id": "WWn2_2klVdL0"
      }
    },
    {
      "cell_type": "markdown",
      "source": [
        "Usando una prroporción de 70 y 30 separo mi dataset en train y validation, con una semilla = 2."
      ],
      "metadata": {
        "id": "ypICtGrAX0nN"
      }
    },
    {
      "cell_type": "code",
      "source": [
        "df_filtrado.head(2)"
      ],
      "metadata": {
        "colab": {
          "base_uri": "https://localhost:8080/",
          "height": 196
        },
        "id": "yqzu9qlKZLs7",
        "outputId": "1486f78a-3c78-46cb-8c3c-b67359fa1fbc"
      },
      "execution_count": 210,
      "outputs": [
        {
          "output_type": "execute_result",
          "data": {
            "text/plain": [
              "          hotel  lead_time  arrival_date_year arrival_date_month  \\\n",
              "0  Resort Hotel        275               2015            October   \n",
              "1  Resort Hotel        244               2015          September   \n",
              "\n",
              "   arrival_date_week_number  arrival_date_day_of_month  \\\n",
              "0                        41                          4   \n",
              "1                        36                          3   \n",
              "\n",
              "   stays_in_weekend_nights  stays_in_week_nights  adults  children  ...  \\\n",
              "0                        2                     0       2       0.0  ...   \n",
              "1                        0                     3       2       0.0  ...   \n",
              "\n",
              "   assigned_room_type booking_changes deposit_type  agent  \\\n",
              "0                   A               0   Non Refund  208.0   \n",
              "1                   A               0   Non Refund    9.0   \n",
              "\n",
              "  days_in_waiting_list  customer_type   adr  required_car_parking_spaces  \\\n",
              "0                    0      Transient  50.0                            0   \n",
              "1                    0      Transient  36.0                            0   \n",
              "\n",
              "  total_of_special_requests is_canceled  \n",
              "0                         0           1  \n",
              "1                         0           1  \n",
              "\n",
              "[2 rows x 29 columns]"
            ],
            "text/html": [
              "\n",
              "  <div id=\"df-4b5f9984-070e-47ac-8086-077e1cd8094c\" class=\"colab-df-container\">\n",
              "    <div>\n",
              "<style scoped>\n",
              "    .dataframe tbody tr th:only-of-type {\n",
              "        vertical-align: middle;\n",
              "    }\n",
              "\n",
              "    .dataframe tbody tr th {\n",
              "        vertical-align: top;\n",
              "    }\n",
              "\n",
              "    .dataframe thead th {\n",
              "        text-align: right;\n",
              "    }\n",
              "</style>\n",
              "<table border=\"1\" class=\"dataframe\">\n",
              "  <thead>\n",
              "    <tr style=\"text-align: right;\">\n",
              "      <th></th>\n",
              "      <th>hotel</th>\n",
              "      <th>lead_time</th>\n",
              "      <th>arrival_date_year</th>\n",
              "      <th>arrival_date_month</th>\n",
              "      <th>arrival_date_week_number</th>\n",
              "      <th>arrival_date_day_of_month</th>\n",
              "      <th>stays_in_weekend_nights</th>\n",
              "      <th>stays_in_week_nights</th>\n",
              "      <th>adults</th>\n",
              "      <th>children</th>\n",
              "      <th>...</th>\n",
              "      <th>assigned_room_type</th>\n",
              "      <th>booking_changes</th>\n",
              "      <th>deposit_type</th>\n",
              "      <th>agent</th>\n",
              "      <th>days_in_waiting_list</th>\n",
              "      <th>customer_type</th>\n",
              "      <th>adr</th>\n",
              "      <th>required_car_parking_spaces</th>\n",
              "      <th>total_of_special_requests</th>\n",
              "      <th>is_canceled</th>\n",
              "    </tr>\n",
              "  </thead>\n",
              "  <tbody>\n",
              "    <tr>\n",
              "      <th>0</th>\n",
              "      <td>Resort Hotel</td>\n",
              "      <td>275</td>\n",
              "      <td>2015</td>\n",
              "      <td>October</td>\n",
              "      <td>41</td>\n",
              "      <td>4</td>\n",
              "      <td>2</td>\n",
              "      <td>0</td>\n",
              "      <td>2</td>\n",
              "      <td>0.0</td>\n",
              "      <td>...</td>\n",
              "      <td>A</td>\n",
              "      <td>0</td>\n",
              "      <td>Non Refund</td>\n",
              "      <td>208.0</td>\n",
              "      <td>0</td>\n",
              "      <td>Transient</td>\n",
              "      <td>50.0</td>\n",
              "      <td>0</td>\n",
              "      <td>0</td>\n",
              "      <td>1</td>\n",
              "    </tr>\n",
              "    <tr>\n",
              "      <th>1</th>\n",
              "      <td>Resort Hotel</td>\n",
              "      <td>244</td>\n",
              "      <td>2015</td>\n",
              "      <td>September</td>\n",
              "      <td>36</td>\n",
              "      <td>3</td>\n",
              "      <td>0</td>\n",
              "      <td>3</td>\n",
              "      <td>2</td>\n",
              "      <td>0.0</td>\n",
              "      <td>...</td>\n",
              "      <td>A</td>\n",
              "      <td>0</td>\n",
              "      <td>Non Refund</td>\n",
              "      <td>9.0</td>\n",
              "      <td>0</td>\n",
              "      <td>Transient</td>\n",
              "      <td>36.0</td>\n",
              "      <td>0</td>\n",
              "      <td>0</td>\n",
              "      <td>1</td>\n",
              "    </tr>\n",
              "  </tbody>\n",
              "</table>\n",
              "<p>2 rows × 29 columns</p>\n",
              "</div>\n",
              "    <div class=\"colab-df-buttons\">\n",
              "\n",
              "  <div class=\"colab-df-container\">\n",
              "    <button class=\"colab-df-convert\" onclick=\"convertToInteractive('df-4b5f9984-070e-47ac-8086-077e1cd8094c')\"\n",
              "            title=\"Convert this dataframe to an interactive table.\"\n",
              "            style=\"display:none;\">\n",
              "\n",
              "  <svg xmlns=\"http://www.w3.org/2000/svg\" height=\"24px\" viewBox=\"0 -960 960 960\">\n",
              "    <path d=\"M120-120v-720h720v720H120Zm60-500h600v-160H180v160Zm220 220h160v-160H400v160Zm0 220h160v-160H400v160ZM180-400h160v-160H180v160Zm440 0h160v-160H620v160ZM180-180h160v-160H180v160Zm440 0h160v-160H620v160Z\"/>\n",
              "  </svg>\n",
              "    </button>\n",
              "\n",
              "  <style>\n",
              "    .colab-df-container {\n",
              "      display:flex;\n",
              "      gap: 12px;\n",
              "    }\n",
              "\n",
              "    .colab-df-convert {\n",
              "      background-color: #E8F0FE;\n",
              "      border: none;\n",
              "      border-radius: 50%;\n",
              "      cursor: pointer;\n",
              "      display: none;\n",
              "      fill: #1967D2;\n",
              "      height: 32px;\n",
              "      padding: 0 0 0 0;\n",
              "      width: 32px;\n",
              "    }\n",
              "\n",
              "    .colab-df-convert:hover {\n",
              "      background-color: #E2EBFA;\n",
              "      box-shadow: 0px 1px 2px rgba(60, 64, 67, 0.3), 0px 1px 3px 1px rgba(60, 64, 67, 0.15);\n",
              "      fill: #174EA6;\n",
              "    }\n",
              "\n",
              "    .colab-df-buttons div {\n",
              "      margin-bottom: 4px;\n",
              "    }\n",
              "\n",
              "    [theme=dark] .colab-df-convert {\n",
              "      background-color: #3B4455;\n",
              "      fill: #D2E3FC;\n",
              "    }\n",
              "\n",
              "    [theme=dark] .colab-df-convert:hover {\n",
              "      background-color: #434B5C;\n",
              "      box-shadow: 0px 1px 3px 1px rgba(0, 0, 0, 0.15);\n",
              "      filter: drop-shadow(0px 1px 2px rgba(0, 0, 0, 0.3));\n",
              "      fill: #FFFFFF;\n",
              "    }\n",
              "  </style>\n",
              "\n",
              "    <script>\n",
              "      const buttonEl =\n",
              "        document.querySelector('#df-4b5f9984-070e-47ac-8086-077e1cd8094c button.colab-df-convert');\n",
              "      buttonEl.style.display =\n",
              "        google.colab.kernel.accessAllowed ? 'block' : 'none';\n",
              "\n",
              "      async function convertToInteractive(key) {\n",
              "        const element = document.querySelector('#df-4b5f9984-070e-47ac-8086-077e1cd8094c');\n",
              "        const dataTable =\n",
              "          await google.colab.kernel.invokeFunction('convertToInteractive',\n",
              "                                                    [key], {});\n",
              "        if (!dataTable) return;\n",
              "\n",
              "        const docLinkHtml = 'Like what you see? Visit the ' +\n",
              "          '<a target=\"_blank\" href=https://colab.research.google.com/notebooks/data_table.ipynb>data table notebook</a>'\n",
              "          + ' to learn more about interactive tables.';\n",
              "        element.innerHTML = '';\n",
              "        dataTable['output_type'] = 'display_data';\n",
              "        await google.colab.output.renderOutput(dataTable, element);\n",
              "        const docLink = document.createElement('div');\n",
              "        docLink.innerHTML = docLinkHtml;\n",
              "        element.appendChild(docLink);\n",
              "      }\n",
              "    </script>\n",
              "  </div>\n",
              "\n",
              "\n",
              "<div id=\"df-2d54ed87-c9f6-4982-be06-1afbcd592281\">\n",
              "  <button class=\"colab-df-quickchart\" onclick=\"quickchart('df-2d54ed87-c9f6-4982-be06-1afbcd592281')\"\n",
              "            title=\"Suggest charts.\"\n",
              "            style=\"display:none;\">\n",
              "\n",
              "<svg xmlns=\"http://www.w3.org/2000/svg\" height=\"24px\"viewBox=\"0 0 24 24\"\n",
              "     width=\"24px\">\n",
              "    <g>\n",
              "        <path d=\"M19 3H5c-1.1 0-2 .9-2 2v14c0 1.1.9 2 2 2h14c1.1 0 2-.9 2-2V5c0-1.1-.9-2-2-2zM9 17H7v-7h2v7zm4 0h-2V7h2v10zm4 0h-2v-4h2v4z\"/>\n",
              "    </g>\n",
              "</svg>\n",
              "  </button>\n",
              "\n",
              "<style>\n",
              "  .colab-df-quickchart {\n",
              "      --bg-color: #E8F0FE;\n",
              "      --fill-color: #1967D2;\n",
              "      --hover-bg-color: #E2EBFA;\n",
              "      --hover-fill-color: #174EA6;\n",
              "      --disabled-fill-color: #AAA;\n",
              "      --disabled-bg-color: #DDD;\n",
              "  }\n",
              "\n",
              "  [theme=dark] .colab-df-quickchart {\n",
              "      --bg-color: #3B4455;\n",
              "      --fill-color: #D2E3FC;\n",
              "      --hover-bg-color: #434B5C;\n",
              "      --hover-fill-color: #FFFFFF;\n",
              "      --disabled-bg-color: #3B4455;\n",
              "      --disabled-fill-color: #666;\n",
              "  }\n",
              "\n",
              "  .colab-df-quickchart {\n",
              "    background-color: var(--bg-color);\n",
              "    border: none;\n",
              "    border-radius: 50%;\n",
              "    cursor: pointer;\n",
              "    display: none;\n",
              "    fill: var(--fill-color);\n",
              "    height: 32px;\n",
              "    padding: 0;\n",
              "    width: 32px;\n",
              "  }\n",
              "\n",
              "  .colab-df-quickchart:hover {\n",
              "    background-color: var(--hover-bg-color);\n",
              "    box-shadow: 0 1px 2px rgba(60, 64, 67, 0.3), 0 1px 3px 1px rgba(60, 64, 67, 0.15);\n",
              "    fill: var(--button-hover-fill-color);\n",
              "  }\n",
              "\n",
              "  .colab-df-quickchart-complete:disabled,\n",
              "  .colab-df-quickchart-complete:disabled:hover {\n",
              "    background-color: var(--disabled-bg-color);\n",
              "    fill: var(--disabled-fill-color);\n",
              "    box-shadow: none;\n",
              "  }\n",
              "\n",
              "  .colab-df-spinner {\n",
              "    border: 2px solid var(--fill-color);\n",
              "    border-color: transparent;\n",
              "    border-bottom-color: var(--fill-color);\n",
              "    animation:\n",
              "      spin 1s steps(1) infinite;\n",
              "  }\n",
              "\n",
              "  @keyframes spin {\n",
              "    0% {\n",
              "      border-color: transparent;\n",
              "      border-bottom-color: var(--fill-color);\n",
              "      border-left-color: var(--fill-color);\n",
              "    }\n",
              "    20% {\n",
              "      border-color: transparent;\n",
              "      border-left-color: var(--fill-color);\n",
              "      border-top-color: var(--fill-color);\n",
              "    }\n",
              "    30% {\n",
              "      border-color: transparent;\n",
              "      border-left-color: var(--fill-color);\n",
              "      border-top-color: var(--fill-color);\n",
              "      border-right-color: var(--fill-color);\n",
              "    }\n",
              "    40% {\n",
              "      border-color: transparent;\n",
              "      border-right-color: var(--fill-color);\n",
              "      border-top-color: var(--fill-color);\n",
              "    }\n",
              "    60% {\n",
              "      border-color: transparent;\n",
              "      border-right-color: var(--fill-color);\n",
              "    }\n",
              "    80% {\n",
              "      border-color: transparent;\n",
              "      border-right-color: var(--fill-color);\n",
              "      border-bottom-color: var(--fill-color);\n",
              "    }\n",
              "    90% {\n",
              "      border-color: transparent;\n",
              "      border-bottom-color: var(--fill-color);\n",
              "    }\n",
              "  }\n",
              "</style>\n",
              "\n",
              "  <script>\n",
              "    async function quickchart(key) {\n",
              "      const quickchartButtonEl =\n",
              "        document.querySelector('#' + key + ' button');\n",
              "      quickchartButtonEl.disabled = true;  // To prevent multiple clicks.\n",
              "      quickchartButtonEl.classList.add('colab-df-spinner');\n",
              "      try {\n",
              "        const charts = await google.colab.kernel.invokeFunction(\n",
              "            'suggestCharts', [key], {});\n",
              "      } catch (error) {\n",
              "        console.error('Error during call to suggestCharts:', error);\n",
              "      }\n",
              "      quickchartButtonEl.classList.remove('colab-df-spinner');\n",
              "      quickchartButtonEl.classList.add('colab-df-quickchart-complete');\n",
              "    }\n",
              "    (() => {\n",
              "      let quickchartButtonEl =\n",
              "        document.querySelector('#df-2d54ed87-c9f6-4982-be06-1afbcd592281 button');\n",
              "      quickchartButtonEl.style.display =\n",
              "        google.colab.kernel.accessAllowed ? 'block' : 'none';\n",
              "    })();\n",
              "  </script>\n",
              "</div>\n",
              "    </div>\n",
              "  </div>\n"
            ]
          },
          "metadata": {},
          "execution_count": 210
        }
      ]
    },
    {
      "cell_type": "code",
      "source": [
        "ds_encodeado = pd.get_dummies(df_filtrado, columns=[\"hotel\", \"arrival_date_month\",\"meal\",\"country\",\"market_segment\",\"distribution_channel\",\"reserved_room_type\",\"assigned_room_type\",\"deposit_type\", \"customer_type\"], drop_first=True)\n",
        "ds_encodeado.head(3)"
      ],
      "metadata": {
        "colab": {
          "base_uri": "https://localhost:8080/",
          "height": 210
        },
        "id": "5glcSudMZPwT",
        "outputId": "ca208647-8a1f-4802-ca33-3e46155f173f"
      },
      "execution_count": 211,
      "outputs": [
        {
          "output_type": "execute_result",
          "data": {
            "text/plain": [
              "   lead_time  arrival_date_year  arrival_date_week_number  \\\n",
              "0        275               2015                        41   \n",
              "1        244               2015                        36   \n",
              "2        190               2016                        15   \n",
              "\n",
              "   arrival_date_day_of_month  stays_in_weekend_nights  stays_in_week_nights  \\\n",
              "0                          4                        2                     0   \n",
              "1                          3                        0                     3   \n",
              "2                          9                        1                     1   \n",
              "\n",
              "   adults  children  babies  is_repeated_guest  ...  assigned_room_type_H  \\\n",
              "0       2       0.0       0                  0  ...                     0   \n",
              "1       2       0.0       0                  0  ...                     0   \n",
              "2       2       0.0       0                  0  ...                     0   \n",
              "\n",
              "   assigned_room_type_I  assigned_room_type_K  assigned_room_type_L  \\\n",
              "0                     0                     0                     0   \n",
              "1                     0                     0                     0   \n",
              "2                     0                     0                     0   \n",
              "\n",
              "   assigned_room_type_P  deposit_type_Non Refund  deposit_type_Refundable  \\\n",
              "0                     0                        1                        0   \n",
              "1                     0                        1                        0   \n",
              "2                     0                        0                        0   \n",
              "\n",
              "   customer_type_Group  customer_type_Transient  customer_type_Transient-Party  \n",
              "0                    0                        1                              0  \n",
              "1                    0                        1                              0  \n",
              "2                    0                        0                              1  \n",
              "\n",
              "[3 rows x 107 columns]"
            ],
            "text/html": [
              "\n",
              "  <div id=\"df-c31868a6-4ea5-4bb0-b52c-cff7008c2e8d\" class=\"colab-df-container\">\n",
              "    <div>\n",
              "<style scoped>\n",
              "    .dataframe tbody tr th:only-of-type {\n",
              "        vertical-align: middle;\n",
              "    }\n",
              "\n",
              "    .dataframe tbody tr th {\n",
              "        vertical-align: top;\n",
              "    }\n",
              "\n",
              "    .dataframe thead th {\n",
              "        text-align: right;\n",
              "    }\n",
              "</style>\n",
              "<table border=\"1\" class=\"dataframe\">\n",
              "  <thead>\n",
              "    <tr style=\"text-align: right;\">\n",
              "      <th></th>\n",
              "      <th>lead_time</th>\n",
              "      <th>arrival_date_year</th>\n",
              "      <th>arrival_date_week_number</th>\n",
              "      <th>arrival_date_day_of_month</th>\n",
              "      <th>stays_in_weekend_nights</th>\n",
              "      <th>stays_in_week_nights</th>\n",
              "      <th>adults</th>\n",
              "      <th>children</th>\n",
              "      <th>babies</th>\n",
              "      <th>is_repeated_guest</th>\n",
              "      <th>...</th>\n",
              "      <th>assigned_room_type_H</th>\n",
              "      <th>assigned_room_type_I</th>\n",
              "      <th>assigned_room_type_K</th>\n",
              "      <th>assigned_room_type_L</th>\n",
              "      <th>assigned_room_type_P</th>\n",
              "      <th>deposit_type_Non Refund</th>\n",
              "      <th>deposit_type_Refundable</th>\n",
              "      <th>customer_type_Group</th>\n",
              "      <th>customer_type_Transient</th>\n",
              "      <th>customer_type_Transient-Party</th>\n",
              "    </tr>\n",
              "  </thead>\n",
              "  <tbody>\n",
              "    <tr>\n",
              "      <th>0</th>\n",
              "      <td>275</td>\n",
              "      <td>2015</td>\n",
              "      <td>41</td>\n",
              "      <td>4</td>\n",
              "      <td>2</td>\n",
              "      <td>0</td>\n",
              "      <td>2</td>\n",
              "      <td>0.0</td>\n",
              "      <td>0</td>\n",
              "      <td>0</td>\n",
              "      <td>...</td>\n",
              "      <td>0</td>\n",
              "      <td>0</td>\n",
              "      <td>0</td>\n",
              "      <td>0</td>\n",
              "      <td>0</td>\n",
              "      <td>1</td>\n",
              "      <td>0</td>\n",
              "      <td>0</td>\n",
              "      <td>1</td>\n",
              "      <td>0</td>\n",
              "    </tr>\n",
              "    <tr>\n",
              "      <th>1</th>\n",
              "      <td>244</td>\n",
              "      <td>2015</td>\n",
              "      <td>36</td>\n",
              "      <td>3</td>\n",
              "      <td>0</td>\n",
              "      <td>3</td>\n",
              "      <td>2</td>\n",
              "      <td>0.0</td>\n",
              "      <td>0</td>\n",
              "      <td>0</td>\n",
              "      <td>...</td>\n",
              "      <td>0</td>\n",
              "      <td>0</td>\n",
              "      <td>0</td>\n",
              "      <td>0</td>\n",
              "      <td>0</td>\n",
              "      <td>1</td>\n",
              "      <td>0</td>\n",
              "      <td>0</td>\n",
              "      <td>1</td>\n",
              "      <td>0</td>\n",
              "    </tr>\n",
              "    <tr>\n",
              "      <th>2</th>\n",
              "      <td>190</td>\n",
              "      <td>2016</td>\n",
              "      <td>15</td>\n",
              "      <td>9</td>\n",
              "      <td>1</td>\n",
              "      <td>1</td>\n",
              "      <td>2</td>\n",
              "      <td>0.0</td>\n",
              "      <td>0</td>\n",
              "      <td>0</td>\n",
              "      <td>...</td>\n",
              "      <td>0</td>\n",
              "      <td>0</td>\n",
              "      <td>0</td>\n",
              "      <td>0</td>\n",
              "      <td>0</td>\n",
              "      <td>0</td>\n",
              "      <td>0</td>\n",
              "      <td>0</td>\n",
              "      <td>0</td>\n",
              "      <td>1</td>\n",
              "    </tr>\n",
              "  </tbody>\n",
              "</table>\n",
              "<p>3 rows × 107 columns</p>\n",
              "</div>\n",
              "    <div class=\"colab-df-buttons\">\n",
              "\n",
              "  <div class=\"colab-df-container\">\n",
              "    <button class=\"colab-df-convert\" onclick=\"convertToInteractive('df-c31868a6-4ea5-4bb0-b52c-cff7008c2e8d')\"\n",
              "            title=\"Convert this dataframe to an interactive table.\"\n",
              "            style=\"display:none;\">\n",
              "\n",
              "  <svg xmlns=\"http://www.w3.org/2000/svg\" height=\"24px\" viewBox=\"0 -960 960 960\">\n",
              "    <path d=\"M120-120v-720h720v720H120Zm60-500h600v-160H180v160Zm220 220h160v-160H400v160Zm0 220h160v-160H400v160ZM180-400h160v-160H180v160Zm440 0h160v-160H620v160ZM180-180h160v-160H180v160Zm440 0h160v-160H620v160Z\"/>\n",
              "  </svg>\n",
              "    </button>\n",
              "\n",
              "  <style>\n",
              "    .colab-df-container {\n",
              "      display:flex;\n",
              "      gap: 12px;\n",
              "    }\n",
              "\n",
              "    .colab-df-convert {\n",
              "      background-color: #E8F0FE;\n",
              "      border: none;\n",
              "      border-radius: 50%;\n",
              "      cursor: pointer;\n",
              "      display: none;\n",
              "      fill: #1967D2;\n",
              "      height: 32px;\n",
              "      padding: 0 0 0 0;\n",
              "      width: 32px;\n",
              "    }\n",
              "\n",
              "    .colab-df-convert:hover {\n",
              "      background-color: #E2EBFA;\n",
              "      box-shadow: 0px 1px 2px rgba(60, 64, 67, 0.3), 0px 1px 3px 1px rgba(60, 64, 67, 0.15);\n",
              "      fill: #174EA6;\n",
              "    }\n",
              "\n",
              "    .colab-df-buttons div {\n",
              "      margin-bottom: 4px;\n",
              "    }\n",
              "\n",
              "    [theme=dark] .colab-df-convert {\n",
              "      background-color: #3B4455;\n",
              "      fill: #D2E3FC;\n",
              "    }\n",
              "\n",
              "    [theme=dark] .colab-df-convert:hover {\n",
              "      background-color: #434B5C;\n",
              "      box-shadow: 0px 1px 3px 1px rgba(0, 0, 0, 0.15);\n",
              "      filter: drop-shadow(0px 1px 2px rgba(0, 0, 0, 0.3));\n",
              "      fill: #FFFFFF;\n",
              "    }\n",
              "  </style>\n",
              "\n",
              "    <script>\n",
              "      const buttonEl =\n",
              "        document.querySelector('#df-c31868a6-4ea5-4bb0-b52c-cff7008c2e8d button.colab-df-convert');\n",
              "      buttonEl.style.display =\n",
              "        google.colab.kernel.accessAllowed ? 'block' : 'none';\n",
              "\n",
              "      async function convertToInteractive(key) {\n",
              "        const element = document.querySelector('#df-c31868a6-4ea5-4bb0-b52c-cff7008c2e8d');\n",
              "        const dataTable =\n",
              "          await google.colab.kernel.invokeFunction('convertToInteractive',\n",
              "                                                    [key], {});\n",
              "        if (!dataTable) return;\n",
              "\n",
              "        const docLinkHtml = 'Like what you see? Visit the ' +\n",
              "          '<a target=\"_blank\" href=https://colab.research.google.com/notebooks/data_table.ipynb>data table notebook</a>'\n",
              "          + ' to learn more about interactive tables.';\n",
              "        element.innerHTML = '';\n",
              "        dataTable['output_type'] = 'display_data';\n",
              "        await google.colab.output.renderOutput(dataTable, element);\n",
              "        const docLink = document.createElement('div');\n",
              "        docLink.innerHTML = docLinkHtml;\n",
              "        element.appendChild(docLink);\n",
              "      }\n",
              "    </script>\n",
              "  </div>\n",
              "\n",
              "\n",
              "<div id=\"df-81efb167-1b40-4c80-841a-10232f29f46a\">\n",
              "  <button class=\"colab-df-quickchart\" onclick=\"quickchart('df-81efb167-1b40-4c80-841a-10232f29f46a')\"\n",
              "            title=\"Suggest charts.\"\n",
              "            style=\"display:none;\">\n",
              "\n",
              "<svg xmlns=\"http://www.w3.org/2000/svg\" height=\"24px\"viewBox=\"0 0 24 24\"\n",
              "     width=\"24px\">\n",
              "    <g>\n",
              "        <path d=\"M19 3H5c-1.1 0-2 .9-2 2v14c0 1.1.9 2 2 2h14c1.1 0 2-.9 2-2V5c0-1.1-.9-2-2-2zM9 17H7v-7h2v7zm4 0h-2V7h2v10zm4 0h-2v-4h2v4z\"/>\n",
              "    </g>\n",
              "</svg>\n",
              "  </button>\n",
              "\n",
              "<style>\n",
              "  .colab-df-quickchart {\n",
              "      --bg-color: #E8F0FE;\n",
              "      --fill-color: #1967D2;\n",
              "      --hover-bg-color: #E2EBFA;\n",
              "      --hover-fill-color: #174EA6;\n",
              "      --disabled-fill-color: #AAA;\n",
              "      --disabled-bg-color: #DDD;\n",
              "  }\n",
              "\n",
              "  [theme=dark] .colab-df-quickchart {\n",
              "      --bg-color: #3B4455;\n",
              "      --fill-color: #D2E3FC;\n",
              "      --hover-bg-color: #434B5C;\n",
              "      --hover-fill-color: #FFFFFF;\n",
              "      --disabled-bg-color: #3B4455;\n",
              "      --disabled-fill-color: #666;\n",
              "  }\n",
              "\n",
              "  .colab-df-quickchart {\n",
              "    background-color: var(--bg-color);\n",
              "    border: none;\n",
              "    border-radius: 50%;\n",
              "    cursor: pointer;\n",
              "    display: none;\n",
              "    fill: var(--fill-color);\n",
              "    height: 32px;\n",
              "    padding: 0;\n",
              "    width: 32px;\n",
              "  }\n",
              "\n",
              "  .colab-df-quickchart:hover {\n",
              "    background-color: var(--hover-bg-color);\n",
              "    box-shadow: 0 1px 2px rgba(60, 64, 67, 0.3), 0 1px 3px 1px rgba(60, 64, 67, 0.15);\n",
              "    fill: var(--button-hover-fill-color);\n",
              "  }\n",
              "\n",
              "  .colab-df-quickchart-complete:disabled,\n",
              "  .colab-df-quickchart-complete:disabled:hover {\n",
              "    background-color: var(--disabled-bg-color);\n",
              "    fill: var(--disabled-fill-color);\n",
              "    box-shadow: none;\n",
              "  }\n",
              "\n",
              "  .colab-df-spinner {\n",
              "    border: 2px solid var(--fill-color);\n",
              "    border-color: transparent;\n",
              "    border-bottom-color: var(--fill-color);\n",
              "    animation:\n",
              "      spin 1s steps(1) infinite;\n",
              "  }\n",
              "\n",
              "  @keyframes spin {\n",
              "    0% {\n",
              "      border-color: transparent;\n",
              "      border-bottom-color: var(--fill-color);\n",
              "      border-left-color: var(--fill-color);\n",
              "    }\n",
              "    20% {\n",
              "      border-color: transparent;\n",
              "      border-left-color: var(--fill-color);\n",
              "      border-top-color: var(--fill-color);\n",
              "    }\n",
              "    30% {\n",
              "      border-color: transparent;\n",
              "      border-left-color: var(--fill-color);\n",
              "      border-top-color: var(--fill-color);\n",
              "      border-right-color: var(--fill-color);\n",
              "    }\n",
              "    40% {\n",
              "      border-color: transparent;\n",
              "      border-right-color: var(--fill-color);\n",
              "      border-top-color: var(--fill-color);\n",
              "    }\n",
              "    60% {\n",
              "      border-color: transparent;\n",
              "      border-right-color: var(--fill-color);\n",
              "    }\n",
              "    80% {\n",
              "      border-color: transparent;\n",
              "      border-right-color: var(--fill-color);\n",
              "      border-bottom-color: var(--fill-color);\n",
              "    }\n",
              "    90% {\n",
              "      border-color: transparent;\n",
              "      border-bottom-color: var(--fill-color);\n",
              "    }\n",
              "  }\n",
              "</style>\n",
              "\n",
              "  <script>\n",
              "    async function quickchart(key) {\n",
              "      const quickchartButtonEl =\n",
              "        document.querySelector('#' + key + ' button');\n",
              "      quickchartButtonEl.disabled = true;  // To prevent multiple clicks.\n",
              "      quickchartButtonEl.classList.add('colab-df-spinner');\n",
              "      try {\n",
              "        const charts = await google.colab.kernel.invokeFunction(\n",
              "            'suggestCharts', [key], {});\n",
              "      } catch (error) {\n",
              "        console.error('Error during call to suggestCharts:', error);\n",
              "      }\n",
              "      quickchartButtonEl.classList.remove('colab-df-spinner');\n",
              "      quickchartButtonEl.classList.add('colab-df-quickchart-complete');\n",
              "    }\n",
              "    (() => {\n",
              "      let quickchartButtonEl =\n",
              "        document.querySelector('#df-81efb167-1b40-4c80-841a-10232f29f46a button');\n",
              "      quickchartButtonEl.style.display =\n",
              "        google.colab.kernel.accessAllowed ? 'block' : 'none';\n",
              "    })();\n",
              "  </script>\n",
              "</div>\n",
              "    </div>\n",
              "  </div>\n"
            ]
          },
          "metadata": {},
          "execution_count": 211
        }
      ]
    },
    {
      "cell_type": "code",
      "source": [
        "ds_trabajo_x=ds_encodeado.drop(['is_canceled'], axis='columns', inplace=False)\n",
        "\n",
        "ds_trabajo_y = ds_encodeado['is_canceled'].copy()\n",
        "\n",
        "x_train, x_valid, y_train, y_valid = train_test_split(ds_trabajo_x,\n",
        "                                                    ds_trabajo_y,\n",
        "                                                    test_size=0.3,\n",
        "                                                    random_state=20)"
      ],
      "metadata": {
        "id": "YyfUnBfnVjrs"
      },
      "execution_count": 212,
      "outputs": []
    },
    {
      "cell_type": "markdown",
      "source": [
        "# Entrenamiento y predicción"
      ],
      "metadata": {
        "id": "l5IObg6Ppkjw"
      }
    },
    {
      "cell_type": "markdown",
      "source": [
        "Probé con criterion=gini pero hay que ajustar algunos parametros, pero tira valores parecido también.\n",
        "\n",
        "Si funcionó aumentar el min_samples_leaf de 10 a *20*, intenté subirlo pero tampoco sirvio 😞\n",
        "\n",
        "Bajé el max_depth a *10* y mejoró bastante la presición de \"0\", pero no fue baja la presición de \"1\"\n",
        "\n",
        "El ccp_alpha=0.00000001 va bien por ahora(para gini eliminar dos ceros)"
      ],
      "metadata": {
        "id": "KConaZp9lxVC"
      }
    },
    {
      "cell_type": "code",
      "source": [
        "#tree_model = tree.DecisionTreeClassifier(criterion=\"entropy\",\n",
        "#                                         max_depth = 15,\n",
        "#                                         min_samples_leaf=20,\n",
        "#                                         ccp_alpha=0.00000001)\n",
        "#Entrenamos el modelo\n",
        "#model = tree_model.fit(X = x_train, y = y_train)"
      ],
      "metadata": {
        "id": "Yomr0zhbYJZs"
      },
      "execution_count": null,
      "outputs": []
    },
    {
      "cell_type": "code",
      "source": [
        "#y_pred = model.predict(x_valid)\n",
        "#Valores Predichos\n",
        "#y_pred"
      ],
      "metadata": {
        "id": "NnXySrd4hPwl"
      },
      "execution_count": null,
      "outputs": []
    },
    {
      "cell_type": "code",
      "source": [
        "#y_valid.values"
      ],
      "metadata": {
        "id": "3pK2D8L6hUK1"
      },
      "execution_count": null,
      "outputs": []
    },
    {
      "cell_type": "code",
      "source": [
        "#ds_resultados=pd.DataFrame(zip(y_valid,y_pred),columns=['test','pred'])\n",
        "#ds_resultados.head(10)"
      ],
      "metadata": {
        "id": "5PJTwAG4hae2"
      },
      "execution_count": null,
      "outputs": []
    },
    {
      "cell_type": "code",
      "source": [
        "#tabla=confusion_matrix(y_valid, y_pred)\n",
        "\n",
        "#Grafico la matriz de confusión\n",
        "#sns.heatmap(tabla,cmap='GnBu',annot=True,fmt='g')\n",
        "#plt.xlabel('Predicted')\n",
        "#plt.ylabel('True')"
      ],
      "metadata": {
        "id": "45iAjED4heqN"
      },
      "execution_count": null,
      "outputs": []
    },
    {
      "cell_type": "code",
      "source": [
        "#accuracy=accuracy_score(y_valid,y_pred)\n",
        "#recall=recall_score(y_valid,y_pred)\n",
        "#f1=f1_score(y_valid,y_pred,)\n",
        "#precision=precision_score(y_valid,y_pred)\n",
        "\n",
        "#print(\"Accuracy: \"+str(accuracy))\n",
        "#print(\"Recall: \"+str(recall))\n",
        "#print(\"Precision: \"+str(precision))\n",
        "#print(\"f1 score: \"+str(f1))"
      ],
      "metadata": {
        "id": "H5j0G6Iuhit9"
      },
      "execution_count": null,
      "outputs": []
    },
    {
      "cell_type": "code",
      "source": [
        "#print(classification_report(y_valid,y_pred))"
      ],
      "metadata": {
        "id": "1pGxHfuFiBDF"
      },
      "execution_count": null,
      "outputs": []
    },
    {
      "cell_type": "markdown",
      "source": [
        "#Busqueda de hiperparametros"
      ],
      "metadata": {
        "id": "Y7TqMZzeHUbw"
      }
    },
    {
      "cell_type": "code",
      "source": [
        "##KFOLD CV Random Search para buscar el mejor arbol (los mejores atributos, hiperparametros,etc)\n",
        "from sklearn.model_selection import StratifiedKFold, KFold,RandomizedSearchCV\n",
        "from sklearn.tree import DecisionTreeClassifier\n",
        "from sklearn.metrics import make_scorer, f1_score\n",
        "\n",
        "#Cantidad de combinaciones que quiero porbar\n",
        "n=50\n",
        "\n",
        "#Conjunto de parámetros que quiero usar\n",
        "params_grid = {'criterion':['gini', 'entropy'],\n",
        "               'min_samples_leaf':list(range(1,5)),\n",
        "               'min_samples_split': list(range(2,10)),\n",
        "               'ccp_alpha':np.linspace(0,0.01,10),\n",
        "               'max_depth':list(range(12,17))}\n",
        "\n",
        "\n",
        "#Cantidad de splits para el Cross Validation\n",
        "folds=5\n",
        "\n",
        "#Kfold estratificado\n",
        "kfoldcv = StratifiedKFold(n_splits=folds)\n",
        "\n",
        "#Clasificador\n",
        "base_tree = DecisionTreeClassifier()\n",
        "\n",
        "#Metrica que quiero optimizar F1 Score\n",
        "scorer_fn = make_scorer(f1_score)\n",
        "\n",
        "#Random Search Cross Validation\n",
        "randomcv = RandomizedSearchCV(estimator=base_tree,\n",
        "                              param_distributions = params_grid,\n",
        "                              scoring=scorer_fn,\n",
        "                              cv=kfoldcv,\n",
        "                              n_iter=n)\n",
        "\n",
        "#Busco los hiperparamtros que optimizan F1 Score\n",
        "randomcv.fit(x_train,y_train);"
      ],
      "metadata": {
        "id": "V-vmszbEHZjT"
      },
      "execution_count": 221,
      "outputs": []
    },
    {
      "cell_type": "code",
      "source": [
        "#Mejores hiperparametros del arbol\n",
        "print(randomcv.best_params_)\n",
        "#Mejor métrica\n",
        "print(randomcv.best_score_)"
      ],
      "metadata": {
        "colab": {
          "base_uri": "https://localhost:8080/"
        },
        "id": "iHCgRXcdQhze",
        "outputId": "ab24b6eb-2957-40a5-eb85-333c3321ae4a"
      },
      "execution_count": 222,
      "outputs": [
        {
          "output_type": "stream",
          "name": "stdout",
          "text": [
            "{'min_samples_split': 9, 'min_samples_leaf': 3, 'max_depth': 15, 'criterion': 'entropy', 'ccp_alpha': 0.0}\n",
            "0.848697425238579\n"
          ]
        }
      ]
    },
    {
      "cell_type": "markdown",
      "source": [
        "aca abajo copie y pegue tal cual el entrenamiento y prediccion, solo por no querer tocarlo"
      ],
      "metadata": {
        "id": "nQSgpg-j1MHQ"
      }
    },
    {
      "cell_type": "code",
      "source": [
        "tree_model = tree.DecisionTreeClassifier(criterion=randomcv.best_params_['criterion'],\n",
        "                                         max_depth = randomcv.best_params_['max_depth'],\n",
        "                                         ccp_alpha=randomcv.best_params_['ccp_alpha'],\n",
        "                                         min_samples_leaf=randomcv.best_params_['min_samples_leaf'],\n",
        "                                         min_samples_split=randomcv.best_params_['min_samples_split'])\n",
        "#Entrenamos el modelo\n",
        "model = tree_model.fit(X = x_train.sort_index(axis=1), y = y_train)"
      ],
      "metadata": {
        "id": "m2cOWuBuGtCm"
      },
      "execution_count": 223,
      "outputs": []
    },
    {
      "cell_type": "code",
      "source": [
        "# tree_model = tree.DecisionTreeClassifier(criterion=randomcv.best_params_['criterion'],\n",
        "#                                          max_depth = randomcv.best_params_['max_depth'],\n",
        "#                                          ccp_alpha=randomcv.best_params_['ccp_alpha'],\n",
        "#                                          min_samples_leaf=randomcv.best_params_['min_samples_leaf'],\n",
        "#                                          min_samples_split=randomcv.best_params_['min_samples_split'])\n",
        "# #Entrenamos el modelo\n",
        "# model = tree_model.fit(X = x_train, y = y_train)"
      ],
      "metadata": {
        "id": "W3ySZv5zxJzr"
      },
      "execution_count": 99,
      "outputs": []
    },
    {
      "cell_type": "code",
      "source": [
        "y_pred = model.predict(x_valid.sort_index(axis=1))\n",
        "#Valores Predichos\n",
        "y_pred"
      ],
      "metadata": {
        "colab": {
          "base_uri": "https://localhost:8080/"
        },
        "id": "_1XKiepnxeix",
        "outputId": "73713058-c6c8-4690-a676-60e58a412c53"
      },
      "execution_count": 224,
      "outputs": [
        {
          "output_type": "execute_result",
          "data": {
            "text/plain": [
              "array([1, 1, 0, ..., 0, 1, 1])"
            ]
          },
          "metadata": {},
          "execution_count": 224
        }
      ]
    },
    {
      "cell_type": "code",
      "source": [
        "y_valid.values"
      ],
      "metadata": {
        "colab": {
          "base_uri": "https://localhost:8080/"
        },
        "id": "LYH1Gog7xpR2",
        "outputId": "3f1d3f46-ee38-4f27-ee2b-261ed91dabd5"
      },
      "execution_count": 225,
      "outputs": [
        {
          "output_type": "execute_result",
          "data": {
            "text/plain": [
              "array([0, 0, 1, ..., 0, 0, 0])"
            ]
          },
          "metadata": {},
          "execution_count": 225
        }
      ]
    },
    {
      "cell_type": "code",
      "source": [
        "ds_resultados=pd.DataFrame(zip(y_valid,y_pred),columns=['test','pred'])\n",
        "ds_resultados.head(10)"
      ],
      "metadata": {
        "colab": {
          "base_uri": "https://localhost:8080/",
          "height": 363
        },
        "id": "PcPgjH-txsiK",
        "outputId": "2a19762a-fba9-48fc-d779-a8b9c91f0745"
      },
      "execution_count": 165,
      "outputs": [
        {
          "output_type": "execute_result",
          "data": {
            "text/plain": [
              "   test  pred\n",
              "0     0     1\n",
              "1     0     1\n",
              "2     1     1\n",
              "3     1     1\n",
              "4     1     1\n",
              "5     0     1\n",
              "6     1     1\n",
              "7     1     1\n",
              "8     1     1\n",
              "9     0     0"
            ],
            "text/html": [
              "\n",
              "  <div id=\"df-b9a46eb1-dbd3-4954-b91d-dceff77e16d3\" class=\"colab-df-container\">\n",
              "    <div>\n",
              "<style scoped>\n",
              "    .dataframe tbody tr th:only-of-type {\n",
              "        vertical-align: middle;\n",
              "    }\n",
              "\n",
              "    .dataframe tbody tr th {\n",
              "        vertical-align: top;\n",
              "    }\n",
              "\n",
              "    .dataframe thead th {\n",
              "        text-align: right;\n",
              "    }\n",
              "</style>\n",
              "<table border=\"1\" class=\"dataframe\">\n",
              "  <thead>\n",
              "    <tr style=\"text-align: right;\">\n",
              "      <th></th>\n",
              "      <th>test</th>\n",
              "      <th>pred</th>\n",
              "    </tr>\n",
              "  </thead>\n",
              "  <tbody>\n",
              "    <tr>\n",
              "      <th>0</th>\n",
              "      <td>0</td>\n",
              "      <td>1</td>\n",
              "    </tr>\n",
              "    <tr>\n",
              "      <th>1</th>\n",
              "      <td>0</td>\n",
              "      <td>1</td>\n",
              "    </tr>\n",
              "    <tr>\n",
              "      <th>2</th>\n",
              "      <td>1</td>\n",
              "      <td>1</td>\n",
              "    </tr>\n",
              "    <tr>\n",
              "      <th>3</th>\n",
              "      <td>1</td>\n",
              "      <td>1</td>\n",
              "    </tr>\n",
              "    <tr>\n",
              "      <th>4</th>\n",
              "      <td>1</td>\n",
              "      <td>1</td>\n",
              "    </tr>\n",
              "    <tr>\n",
              "      <th>5</th>\n",
              "      <td>0</td>\n",
              "      <td>1</td>\n",
              "    </tr>\n",
              "    <tr>\n",
              "      <th>6</th>\n",
              "      <td>1</td>\n",
              "      <td>1</td>\n",
              "    </tr>\n",
              "    <tr>\n",
              "      <th>7</th>\n",
              "      <td>1</td>\n",
              "      <td>1</td>\n",
              "    </tr>\n",
              "    <tr>\n",
              "      <th>8</th>\n",
              "      <td>1</td>\n",
              "      <td>1</td>\n",
              "    </tr>\n",
              "    <tr>\n",
              "      <th>9</th>\n",
              "      <td>0</td>\n",
              "      <td>0</td>\n",
              "    </tr>\n",
              "  </tbody>\n",
              "</table>\n",
              "</div>\n",
              "    <div class=\"colab-df-buttons\">\n",
              "\n",
              "  <div class=\"colab-df-container\">\n",
              "    <button class=\"colab-df-convert\" onclick=\"convertToInteractive('df-b9a46eb1-dbd3-4954-b91d-dceff77e16d3')\"\n",
              "            title=\"Convert this dataframe to an interactive table.\"\n",
              "            style=\"display:none;\">\n",
              "\n",
              "  <svg xmlns=\"http://www.w3.org/2000/svg\" height=\"24px\" viewBox=\"0 -960 960 960\">\n",
              "    <path d=\"M120-120v-720h720v720H120Zm60-500h600v-160H180v160Zm220 220h160v-160H400v160Zm0 220h160v-160H400v160ZM180-400h160v-160H180v160Zm440 0h160v-160H620v160ZM180-180h160v-160H180v160Zm440 0h160v-160H620v160Z\"/>\n",
              "  </svg>\n",
              "    </button>\n",
              "\n",
              "  <style>\n",
              "    .colab-df-container {\n",
              "      display:flex;\n",
              "      gap: 12px;\n",
              "    }\n",
              "\n",
              "    .colab-df-convert {\n",
              "      background-color: #E8F0FE;\n",
              "      border: none;\n",
              "      border-radius: 50%;\n",
              "      cursor: pointer;\n",
              "      display: none;\n",
              "      fill: #1967D2;\n",
              "      height: 32px;\n",
              "      padding: 0 0 0 0;\n",
              "      width: 32px;\n",
              "    }\n",
              "\n",
              "    .colab-df-convert:hover {\n",
              "      background-color: #E2EBFA;\n",
              "      box-shadow: 0px 1px 2px rgba(60, 64, 67, 0.3), 0px 1px 3px 1px rgba(60, 64, 67, 0.15);\n",
              "      fill: #174EA6;\n",
              "    }\n",
              "\n",
              "    .colab-df-buttons div {\n",
              "      margin-bottom: 4px;\n",
              "    }\n",
              "\n",
              "    [theme=dark] .colab-df-convert {\n",
              "      background-color: #3B4455;\n",
              "      fill: #D2E3FC;\n",
              "    }\n",
              "\n",
              "    [theme=dark] .colab-df-convert:hover {\n",
              "      background-color: #434B5C;\n",
              "      box-shadow: 0px 1px 3px 1px rgba(0, 0, 0, 0.15);\n",
              "      filter: drop-shadow(0px 1px 2px rgba(0, 0, 0, 0.3));\n",
              "      fill: #FFFFFF;\n",
              "    }\n",
              "  </style>\n",
              "\n",
              "    <script>\n",
              "      const buttonEl =\n",
              "        document.querySelector('#df-b9a46eb1-dbd3-4954-b91d-dceff77e16d3 button.colab-df-convert');\n",
              "      buttonEl.style.display =\n",
              "        google.colab.kernel.accessAllowed ? 'block' : 'none';\n",
              "\n",
              "      async function convertToInteractive(key) {\n",
              "        const element = document.querySelector('#df-b9a46eb1-dbd3-4954-b91d-dceff77e16d3');\n",
              "        const dataTable =\n",
              "          await google.colab.kernel.invokeFunction('convertToInteractive',\n",
              "                                                    [key], {});\n",
              "        if (!dataTable) return;\n",
              "\n",
              "        const docLinkHtml = 'Like what you see? Visit the ' +\n",
              "          '<a target=\"_blank\" href=https://colab.research.google.com/notebooks/data_table.ipynb>data table notebook</a>'\n",
              "          + ' to learn more about interactive tables.';\n",
              "        element.innerHTML = '';\n",
              "        dataTable['output_type'] = 'display_data';\n",
              "        await google.colab.output.renderOutput(dataTable, element);\n",
              "        const docLink = document.createElement('div');\n",
              "        docLink.innerHTML = docLinkHtml;\n",
              "        element.appendChild(docLink);\n",
              "      }\n",
              "    </script>\n",
              "  </div>\n",
              "\n",
              "\n",
              "<div id=\"df-875241d4-00a0-41ff-9a81-725de85223f1\">\n",
              "  <button class=\"colab-df-quickchart\" onclick=\"quickchart('df-875241d4-00a0-41ff-9a81-725de85223f1')\"\n",
              "            title=\"Suggest charts.\"\n",
              "            style=\"display:none;\">\n",
              "\n",
              "<svg xmlns=\"http://www.w3.org/2000/svg\" height=\"24px\"viewBox=\"0 0 24 24\"\n",
              "     width=\"24px\">\n",
              "    <g>\n",
              "        <path d=\"M19 3H5c-1.1 0-2 .9-2 2v14c0 1.1.9 2 2 2h14c1.1 0 2-.9 2-2V5c0-1.1-.9-2-2-2zM9 17H7v-7h2v7zm4 0h-2V7h2v10zm4 0h-2v-4h2v4z\"/>\n",
              "    </g>\n",
              "</svg>\n",
              "  </button>\n",
              "\n",
              "<style>\n",
              "  .colab-df-quickchart {\n",
              "      --bg-color: #E8F0FE;\n",
              "      --fill-color: #1967D2;\n",
              "      --hover-bg-color: #E2EBFA;\n",
              "      --hover-fill-color: #174EA6;\n",
              "      --disabled-fill-color: #AAA;\n",
              "      --disabled-bg-color: #DDD;\n",
              "  }\n",
              "\n",
              "  [theme=dark] .colab-df-quickchart {\n",
              "      --bg-color: #3B4455;\n",
              "      --fill-color: #D2E3FC;\n",
              "      --hover-bg-color: #434B5C;\n",
              "      --hover-fill-color: #FFFFFF;\n",
              "      --disabled-bg-color: #3B4455;\n",
              "      --disabled-fill-color: #666;\n",
              "  }\n",
              "\n",
              "  .colab-df-quickchart {\n",
              "    background-color: var(--bg-color);\n",
              "    border: none;\n",
              "    border-radius: 50%;\n",
              "    cursor: pointer;\n",
              "    display: none;\n",
              "    fill: var(--fill-color);\n",
              "    height: 32px;\n",
              "    padding: 0;\n",
              "    width: 32px;\n",
              "  }\n",
              "\n",
              "  .colab-df-quickchart:hover {\n",
              "    background-color: var(--hover-bg-color);\n",
              "    box-shadow: 0 1px 2px rgba(60, 64, 67, 0.3), 0 1px 3px 1px rgba(60, 64, 67, 0.15);\n",
              "    fill: var(--button-hover-fill-color);\n",
              "  }\n",
              "\n",
              "  .colab-df-quickchart-complete:disabled,\n",
              "  .colab-df-quickchart-complete:disabled:hover {\n",
              "    background-color: var(--disabled-bg-color);\n",
              "    fill: var(--disabled-fill-color);\n",
              "    box-shadow: none;\n",
              "  }\n",
              "\n",
              "  .colab-df-spinner {\n",
              "    border: 2px solid var(--fill-color);\n",
              "    border-color: transparent;\n",
              "    border-bottom-color: var(--fill-color);\n",
              "    animation:\n",
              "      spin 1s steps(1) infinite;\n",
              "  }\n",
              "\n",
              "  @keyframes spin {\n",
              "    0% {\n",
              "      border-color: transparent;\n",
              "      border-bottom-color: var(--fill-color);\n",
              "      border-left-color: var(--fill-color);\n",
              "    }\n",
              "    20% {\n",
              "      border-color: transparent;\n",
              "      border-left-color: var(--fill-color);\n",
              "      border-top-color: var(--fill-color);\n",
              "    }\n",
              "    30% {\n",
              "      border-color: transparent;\n",
              "      border-left-color: var(--fill-color);\n",
              "      border-top-color: var(--fill-color);\n",
              "      border-right-color: var(--fill-color);\n",
              "    }\n",
              "    40% {\n",
              "      border-color: transparent;\n",
              "      border-right-color: var(--fill-color);\n",
              "      border-top-color: var(--fill-color);\n",
              "    }\n",
              "    60% {\n",
              "      border-color: transparent;\n",
              "      border-right-color: var(--fill-color);\n",
              "    }\n",
              "    80% {\n",
              "      border-color: transparent;\n",
              "      border-right-color: var(--fill-color);\n",
              "      border-bottom-color: var(--fill-color);\n",
              "    }\n",
              "    90% {\n",
              "      border-color: transparent;\n",
              "      border-bottom-color: var(--fill-color);\n",
              "    }\n",
              "  }\n",
              "</style>\n",
              "\n",
              "  <script>\n",
              "    async function quickchart(key) {\n",
              "      const quickchartButtonEl =\n",
              "        document.querySelector('#' + key + ' button');\n",
              "      quickchartButtonEl.disabled = true;  // To prevent multiple clicks.\n",
              "      quickchartButtonEl.classList.add('colab-df-spinner');\n",
              "      try {\n",
              "        const charts = await google.colab.kernel.invokeFunction(\n",
              "            'suggestCharts', [key], {});\n",
              "      } catch (error) {\n",
              "        console.error('Error during call to suggestCharts:', error);\n",
              "      }\n",
              "      quickchartButtonEl.classList.remove('colab-df-spinner');\n",
              "      quickchartButtonEl.classList.add('colab-df-quickchart-complete');\n",
              "    }\n",
              "    (() => {\n",
              "      let quickchartButtonEl =\n",
              "        document.querySelector('#df-875241d4-00a0-41ff-9a81-725de85223f1 button');\n",
              "      quickchartButtonEl.style.display =\n",
              "        google.colab.kernel.accessAllowed ? 'block' : 'none';\n",
              "    })();\n",
              "  </script>\n",
              "</div>\n",
              "    </div>\n",
              "  </div>\n"
            ]
          },
          "metadata": {},
          "execution_count": 165
        }
      ]
    },
    {
      "cell_type": "code",
      "source": [
        "tabla=confusion_matrix(y_valid, y_pred)\n",
        "\n",
        "#Grafico la matriz de confusión\n",
        "sns.heatmap(tabla,cmap='GnBu',annot=True,fmt='g')\n",
        "plt.xlabel('Predicted')\n",
        "plt.ylabel('True')"
      ],
      "metadata": {
        "colab": {
          "base_uri": "https://localhost:8080/",
          "height": 471
        },
        "id": "e5dsLG5fxyGB",
        "outputId": "4b624170-d810-4001-c6d4-2283ad703f25"
      },
      "execution_count": 226,
      "outputs": [
        {
          "output_type": "execute_result",
          "data": {
            "text/plain": [
              "Text(50.722222222222214, 0.5, 'True')"
            ]
          },
          "metadata": {},
          "execution_count": 226
        },
        {
          "output_type": "display_data",
          "data": {
            "text/plain": [
              "<Figure size 640x480 with 2 Axes>"
            ],
            "image/png": "[encoded data removed]"
          },
          "metadata": {}
        }
      ]
    },
    {
      "cell_type": "code",
      "source": [
        "accuracy=accuracy_score(y_valid,y_pred)\n",
        "recall=recall_score(y_valid,y_pred)\n",
        "f1=f1_score(y_valid,y_pred,)\n",
        "precision=precision_score(y_valid,y_pred)\n",
        "\n",
        "print(\"Accuracy: \"+str(accuracy))\n",
        "print(\"Recall: \"+str(recall))\n",
        "print(\"Precision: \"+str(precision))\n",
        "print(\"f1 score: \"+str(f1))"
      ],
      "metadata": {
        "colab": {
          "base_uri": "https://localhost:8080/"
        },
        "id": "KF-PsEEnx1MV",
        "outputId": "18820b83-54e4-489a-b1b3-9eefa27de99e"
      },
      "execution_count": 227,
      "outputs": [
        {
          "output_type": "stream",
          "name": "stdout",
          "text": [
            "Accuracy: 0.8463031871865394\n",
            "Recall: 0.8711289796805389\n",
            "Precision: 0.8281169300692077\n",
            "f1 score: 0.8490785850455412\n"
          ]
        }
      ]
    },
    {
      "cell_type": "code",
      "source": [
        "print(classification_report(y_valid,y_pred))"
      ],
      "metadata": {
        "colab": {
          "base_uri": "https://localhost:8080/"
        },
        "id": "aI1xMnt9x5rb",
        "outputId": "2fd3fbdb-84b6-473e-decd-04f7d1214043"
      },
      "execution_count": 228,
      "outputs": [
        {
          "output_type": "stream",
          "name": "stdout",
          "text": [
            "              precision    recall  f1-score   support\n",
            "\n",
            "           0       0.87      0.82      0.84      9340\n",
            "           1       0.83      0.87      0.85      9203\n",
            "\n",
            "    accuracy                           0.85     18543\n",
            "   macro avg       0.85      0.85      0.85     18543\n",
            "weighted avg       0.85      0.85      0.85     18543\n",
            "\n"
          ]
        }
      ]
    },
    {
      "cell_type": "markdown",
      "source": [
        "# Test prediction"
      ],
      "metadata": {
        "id": "ID-PTWpwUrDN"
      }
    },
    {
      "cell_type": "markdown",
      "source": [
        "## modifico el df"
      ],
      "metadata": {
        "id": "sh6-Dt7Ap1Iw"
      }
    },
    {
      "cell_type": "code",
      "source": [
        "df_test = pd.read_csv(\"hotels_test.csv\")\n",
        "\n",
        "df_test_filtrado = df_test.copy()"
      ],
      "metadata": {
        "id": "PJlgRwG4UBm9"
      },
      "execution_count": 175,
      "outputs": []
    },
    {
      "cell_type": "code",
      "source": [
        "df_test_ids = df_test['id']\n",
        "df_test_filtrado = df_test_filtrado.drop('id', axis=1)\n",
        "df_test_filtrado = df_test_filtrado.drop('company', axis=1)\n",
        "df_test_filtrado = df_test_filtrado.drop('reservation_status_date', axis=1)"
      ],
      "metadata": {
        "id": "HI6hqzLeUgK1"
      },
      "execution_count": 176,
      "outputs": []
    },
    {
      "cell_type": "code",
      "source": [
        "df_test_filtrado['country'] = df_test_filtrado['country'].replace(np.nan, 'PRT')\n",
        "df_test_filtrado.agent = df_test_filtrado.agent.replace(np.nan, 9)\n",
        "df_filtrado.children = df_filtrado.children.replace(np.nan, 0)"
      ],
      "metadata": {
        "id": "dRrsANtAHbL8"
      },
      "execution_count": 177,
      "outputs": []
    },
    {
      "cell_type": "code",
      "source": [
        "df_test_filtrado.isna().any()"
      ],
      "metadata": {
        "colab": {
          "base_uri": "https://localhost:8080/"
        },
        "id": "cl1QZea2IAym",
        "outputId": "5ec06140-16a4-4f43-b3ba-a6a5991aeebf"
      },
      "execution_count": 178,
      "outputs": [
        {
          "output_type": "execute_result",
          "data": {
            "text/plain": [
              "hotel                             False\n",
              "lead_time                         False\n",
              "arrival_date_year                 False\n",
              "arrival_date_month                False\n",
              "arrival_date_week_number          False\n",
              "arrival_date_day_of_month         False\n",
              "stays_in_weekend_nights           False\n",
              "stays_in_week_nights              False\n",
              "adults                            False\n",
              "children                          False\n",
              "babies                            False\n",
              "meal                              False\n",
              "country                           False\n",
              "market_segment                    False\n",
              "distribution_channel              False\n",
              "is_repeated_guest                 False\n",
              "previous_cancellations            False\n",
              "previous_bookings_not_canceled    False\n",
              "reserved_room_type                False\n",
              "assigned_room_type                False\n",
              "booking_changes                   False\n",
              "deposit_type                      False\n",
              "agent                             False\n",
              "days_in_waiting_list              False\n",
              "customer_type                     False\n",
              "adr                               False\n",
              "required_car_parking_spaces       False\n",
              "total_of_special_requests         False\n",
              "dtype: bool"
            ]
          },
          "metadata": {},
          "execution_count": 178
        }
      ]
    },
    {
      "cell_type": "markdown",
      "source": [
        "saco los paises con menos de 5 apariciones y seteo la moda=\"PRT\", necesito que me confirmen si es la moda del dataset de train o es de este de test?\n",
        "\n",
        "Deberia ser la moda del set de train"
      ],
      "metadata": {
        "id": "vCO7E8EfqET8"
      }
    },
    {
      "cell_type": "code",
      "source": [
        "df_test_paises_unicos = df_test_filtrado['country'].value_counts().reset_index()\n",
        "df_test_paises_unicos.columns = ['country', 'Conteo']\n",
        "\n",
        "umbral = 8\n",
        "\n",
        "resultado = df_test_paises_unicos[df_test_paises_unicos['Conteo'] < umbral]\n",
        "print(f\"La cantidad de paises que tiene menos de {umbral} reservas es {resultado.shape[0]}, siendo un total de {resultado.Conteo.sum()} casos\")"
      ],
      "metadata": {
        "colab": {
          "base_uri": "https://localhost:8080/"
        },
        "id": "o7gXHaSwp_F4",
        "outputId": "9e38ba1f-6b29-49ca-aa0a-63e7eddd83ad"
      },
      "execution_count": 179,
      "outputs": [
        {
          "output_type": "stream",
          "name": "stdout",
          "text": [
            "La cantidad de paises que tiene menos de 8 reservas es 69, siendo un total de 173 casos\n"
          ]
        }
      ]
    },
    {
      "cell_type": "code",
      "source": [
        "lista_paises_con_pocas_reservas = resultado['country'].unique()\n",
        "df_test_filtrado[\"country\"] = df_test_filtrado[\"country\"].replace(to_replace=lista_paises_con_pocas_reservas, value=\"PRT\")"
      ],
      "metadata": {
        "id": "GGg2OTwkqBt4"
      },
      "execution_count": 180,
      "outputs": []
    },
    {
      "cell_type": "code",
      "source": [
        "df_test_filtrado[\"country\"].unique()"
      ],
      "metadata": {
        "colab": {
          "base_uri": "https://localhost:8080/"
        },
        "id": "D3PVWOc8E2U3",
        "outputId": "8c2e1c52-6aa6-4480-c46c-9dbbf1ef13cf"
      },
      "execution_count": 181,
      "outputs": [
        {
          "output_type": "execute_result",
          "data": {
            "text/plain": [
              "array(['PRT', 'FRA', 'DEU', 'CN', 'GBR', 'ITA', 'IRL', 'USA', 'ESP',\n",
              "       'SWE', 'NLD', 'AUT', 'AUS', 'RUS', 'CHE', 'CHN', 'DNK', 'POL',\n",
              "       'BEL', 'BRA', 'TUR', 'NOR', 'EST', 'ISL', 'VEN', 'ISR', 'JPN',\n",
              "       'MAR', 'HRV', 'IRN', 'LTU', 'FIN', 'PER', 'LVA', 'KOR', 'LUX',\n",
              "       'HUN', 'DZA', 'TWN', 'THA', 'ROU', 'IND', 'ARG', 'CHL', 'MEX',\n",
              "       'ARE', 'MOZ', 'SAU', 'ECU', 'GRC', 'AGO', 'CZE', 'TUN', 'BGR',\n",
              "       'COL', 'SRB', 'EGY', 'CYP', 'NZL', 'SVK', 'SGP', 'UKR', 'IDN',\n",
              "       'PHL', 'SVN', 'NGA'], dtype=object)"
            ]
          },
          "metadata": {},
          "execution_count": 181
        }
      ]
    },
    {
      "cell_type": "markdown",
      "source": [
        "Tratamos de eliminar los paises que solo aparecen en el set de test y no en el de train."
      ],
      "metadata": {
        "id": "Ct_iqoe3CiYU"
      }
    },
    {
      "cell_type": "code",
      "source": [
        "lista_paises_unicos_test = df_test_filtrado['country'].unique()\n",
        "lista_paises_unicos = df_filtrado['country'].unique()\n",
        "conjunto1 = set(lista_paises_unicos)\n",
        "conjunto2 = set(lista_paises_unicos_test)\n",
        "\n",
        "\n",
        "# Obtener los elementos que están en conjunto1 pero no en conjunto2\n",
        "elementos_en_lista1_no_en_lista2 = list(conjunto2 - conjunto1)\n",
        "print(elementos_en_lista1_no_en_lista2)\n",
        "\n",
        "df_test_filtrado[\"country\"] = df_test_filtrado[\"country\"].replace(to_replace=elementos_en_lista1_no_en_lista2, value=\"PRT\")"
      ],
      "metadata": {
        "colab": {
          "base_uri": "https://localhost:8080/"
        },
        "id": "699ATCHg5iLo",
        "outputId": "3151278b-b556-4bab-b1e5-494e4771891d"
      },
      "execution_count": 182,
      "outputs": [
        {
          "output_type": "stream",
          "name": "stdout",
          "text": [
            "['ARE', 'SVK', 'SRB', 'DZA', 'PHL', 'NGA', 'CHL', 'NZL', 'ECU', 'IRN', 'LVA', 'VEN', 'TWN', 'CYP', 'TUN', 'SGP', 'SVN', 'LTU', 'UKR', 'IDN', 'COL', 'MOZ', 'MEX', 'PER', 'SAU', 'THA', 'EGY', 'EST', 'ISL', 'BGR']\n"
          ]
        }
      ]
    },
    {
      "cell_type": "code",
      "source": [
        "df_test_filtrado[\"country\"].value_counts()"
      ],
      "metadata": {
        "colab": {
          "base_uri": "https://localhost:8080/"
        },
        "id": "f-VVjzv1BoHV",
        "outputId": "ab32d4b0-9c06-4015-a054-b19ffaab5613"
      },
      "execution_count": 183,
      "outputs": [
        {
          "output_type": "execute_result",
          "data": {
            "text/plain": [
              "PRT    12685\n",
              "GBR     2387\n",
              "FRA     2118\n",
              "ESP     1757\n",
              "DEU     1405\n",
              "ITA      868\n",
              "IRL      681\n",
              "BRA      483\n",
              "BEL      471\n",
              "USA      420\n",
              "NLD      412\n",
              "CHE      345\n",
              "AUT      266\n",
              "CHN      243\n",
              "CN       236\n",
              "SWE      217\n",
              "POL      194\n",
              "ISR      144\n",
              "RUS      135\n",
              "NOR      125\n",
              "ROU      109\n",
              "FIN       96\n",
              "AUS       95\n",
              "AGO       93\n",
              "DNK       92\n",
              "MAR       65\n",
              "LUX       65\n",
              "TUR       60\n",
              "HUN       46\n",
              "ARG       44\n",
              "CZE       43\n",
              "JPN       43\n",
              "GRC       28\n",
              "IND       23\n",
              "KOR       22\n",
              "HRV       19\n",
              "Name: country, dtype: int64"
            ]
          },
          "metadata": {},
          "execution_count": 183
        }
      ]
    },
    {
      "cell_type": "code",
      "source": [
        "df_paises_unicos.shape"
      ],
      "metadata": {
        "colab": {
          "base_uri": "https://localhost:8080/"
        },
        "id": "2qW9czCnCZed",
        "outputId": "fcacaedd-cc33-492b-ad70-22f71dbe62f2"
      },
      "execution_count": 184,
      "outputs": [
        {
          "output_type": "execute_result",
          "data": {
            "text/plain": [
              "(149, 2)"
            ]
          },
          "metadata": {},
          "execution_count": 184
        }
      ]
    },
    {
      "cell_type": "code",
      "source": [
        "elementos_en_lista1_no_en_lista2"
      ],
      "metadata": {
        "colab": {
          "base_uri": "https://localhost:8080/"
        },
        "id": "ts8BwzV9BEju",
        "outputId": "12ffc220-6dce-4938-9a5d-60faf8f99621"
      },
      "execution_count": 185,
      "outputs": [
        {
          "output_type": "execute_result",
          "data": {
            "text/plain": [
              "['ARE',\n",
              " 'SVK',\n",
              " 'SRB',\n",
              " 'DZA',\n",
              " 'PHL',\n",
              " 'NGA',\n",
              " 'CHL',\n",
              " 'NZL',\n",
              " 'ECU',\n",
              " 'IRN',\n",
              " 'LVA',\n",
              " 'VEN',\n",
              " 'TWN',\n",
              " 'CYP',\n",
              " 'TUN',\n",
              " 'SGP',\n",
              " 'SVN',\n",
              " 'LTU',\n",
              " 'UKR',\n",
              " 'IDN',\n",
              " 'COL',\n",
              " 'MOZ',\n",
              " 'MEX',\n",
              " 'PER',\n",
              " 'SAU',\n",
              " 'THA',\n",
              " 'EGY',\n",
              " 'EST',\n",
              " 'ISL',\n",
              " 'BGR']"
            ]
          },
          "metadata": {},
          "execution_count": 185
        }
      ]
    },
    {
      "cell_type": "code",
      "source": [
        "df_test_encodeado = pd.get_dummies(df_test_filtrado, columns=[\"hotel\", \"arrival_date_month\",\"meal\",\"country\",\"market_segment\",\"distribution_channel\",\"reserved_room_type\",\"assigned_room_type\",\"deposit_type\", \"customer_type\"], drop_first=True)\n"
      ],
      "metadata": {
        "id": "anq0DmlGZB4G"
      },
      "execution_count": 186,
      "outputs": []
    },
    {
      "cell_type": "markdown",
      "source": [
        "## Predigo"
      ],
      "metadata": {
        "id": "s7ewof0Tp57v"
      }
    },
    {
      "cell_type": "markdown",
      "source": [
        "Estoy viendo columnas con paises que no aparecian previamente, la solución cortarlos de raíz (?, creo que no es viable, es más probable mandarlos a la moda ya que son valores muy raros, y solo pasan con 4 por lo menos en el de test, podemos considerar lo mismo para el de train.\n",
        "\n",
        "Ejecuto el cambio y pruebo.\n",
        "\n",
        "Probé el ajuste de cambiar el set de train, eliminar todos los paises de menor a 50 reservas, no eran muchos, cerca de mil, lo especifico arriba, y entonces ahora solo hay un pais que no está en las columnas del dataset que se usó para entrenar,\n",
        "\n",
        "Al parecer no te deja predecir si es que no tienes las mismas columnas :cry in silence:\n",
        "\n",
        "Podemos agregar las columnas faltantes con todos cerosss!!! esa es buena jaja, debí pensarlo antes, pero ya me vence el sueño\n",
        "\n",
        "pd: avisenme si estan tocando el modelo sin mi :c"
      ],
      "metadata": {
        "id": "F9pXe0edh5Zi"
      }
    },
    {
      "cell_type": "code",
      "source": [
        "lista = df_test_encodeado.columns\n",
        "columnas_faltantes = []\n",
        "for colum in ds_encodeado.columns:\n",
        "  if(colum not in lista and colum != \"is_canceled\"):\n",
        "    print(colum)\n",
        "    columnas_faltantes.append(colum)\n",
        "\n",
        "for colum_faltante in columnas_faltantes:\n",
        "  df_test_encodeado[colum_faltante] = 0"
      ],
      "metadata": {
        "colab": {
          "base_uri": "https://localhost:8080/"
        },
        "id": "I5xGEDnlenvT",
        "outputId": "c5ea4256-025a-4594-bf50-341139a1c9ab"
      },
      "execution_count": 187,
      "outputs": [
        {
          "output_type": "stream",
          "name": "stdout",
          "text": [
            "country_ZAF\n",
            "market_segment_Undefined\n",
            "distribution_channel_Undefined\n",
            "assigned_room_type_L\n"
          ]
        }
      ]
    },
    {
      "cell_type": "code",
      "source": [
        "ds_encodeado.shape"
      ],
      "metadata": {
        "colab": {
          "base_uri": "https://localhost:8080/"
        },
        "id": "Kn5TBbj1DzHm",
        "outputId": "d8b1828e-4724-444f-cda0-e6fd6644608f"
      },
      "execution_count": 142,
      "outputs": [
        {
          "output_type": "execute_result",
          "data": {
            "text/plain": [
              "(61810, 107)"
            ]
          },
          "metadata": {},
          "execution_count": 142
        }
      ]
    },
    {
      "cell_type": "code",
      "source": [
        "df_test_encodeado.shape"
      ],
      "metadata": {
        "colab": {
          "base_uri": "https://localhost:8080/"
        },
        "id": "z1ycyE9cDrwF",
        "outputId": "30f38d4c-256b-4634-ccbd-a3ee03bc23a4"
      },
      "execution_count": 141,
      "outputs": [
        {
          "output_type": "execute_result",
          "data": {
            "text/plain": [
              "(26535, 132)"
            ]
          },
          "metadata": {},
          "execution_count": 141
        }
      ]
    },
    {
      "cell_type": "code",
      "source": [
        "lista = ds_encodeado.columns\n",
        "for colum in df_test_encodeado.columns:\n",
        "  if(colum not in lista):\n",
        "    print(colum)"
      ],
      "metadata": {
        "id": "2lQMhv9T3nt_"
      },
      "execution_count": 188,
      "outputs": []
    },
    {
      "cell_type": "markdown",
      "source": [
        "Hay filas que con paises que no estuvieron en el set de entrenamiento."
      ],
      "metadata": {
        "id": "E3ZYeS_E5Euf"
      }
    },
    {
      "cell_type": "code",
      "source": [
        "print('todas las columnas que no aparecen en neustro otro dataset:')\n",
        "lista = df_test_encodeado.columns\n",
        "for colum in ds_encodeado.columns:\n",
        "  if(colum not in lista):\n",
        "    print(colum)"
      ],
      "metadata": {
        "colab": {
          "base_uri": "https://localhost:8080/"
        },
        "id": "QaxH7dBp5ZoH",
        "outputId": "98d56ba0-2c82-4f24-eabd-9674e20e3b14"
      },
      "execution_count": 189,
      "outputs": [
        {
          "output_type": "stream",
          "name": "stdout",
          "text": [
            "todas las columnas que no aparecen en neustro otro dataset:\n",
            "is_canceled\n"
          ]
        }
      ]
    },
    {
      "cell_type": "code",
      "source": [
        "test_pred_2 = model.predict(df_test_encodeado.sort_index(axis=1))\n",
        "#Valores Predichos\n",
        "test_pred_2"
      ],
      "metadata": {
        "colab": {
          "base_uri": "https://localhost:8080/"
        },
        "id": "WHMFoc1ldvB7",
        "outputId": "e6b75333-0aec-4dd3-d076-f6d0db012963"
      },
      "execution_count": 230,
      "outputs": [
        {
          "output_type": "execute_result",
          "data": {
            "text/plain": [
              "array([1, 1, 0, ..., 1, 1, 0])"
            ]
          },
          "metadata": {},
          "execution_count": 230
        }
      ]
    },
    {
      "cell_type": "code",
      "source": [
        "\n",
        "# anterior = {'anterior': test_pred}\n"
      ],
      "metadata": {
        "id": "rYob846KNwQE"
      },
      "execution_count": 229,
      "outputs": []
    },
    {
      "cell_type": "code",
      "source": [
        "# chage = {'nuevo': test_pred_2, 'viejo': list(anterior['anterior'])}"
      ],
      "metadata": {
        "id": "1c60mjsrOW88"
      },
      "execution_count": 231,
      "outputs": []
    },
    {
      "cell_type": "code",
      "source": [
        "# df_compare = pd.DataFrame(chage)\n",
        "# df_compare"
      ],
      "metadata": {
        "id": "m6crSy1sPAIb"
      },
      "execution_count": null,
      "outputs": []
    },
    {
      "cell_type": "code",
      "source": [
        "# Crear un DataFrame con las columnas \"id\" e \"is_canceled\"\n",
        "data = {'id': df_test_ids, 'is_canceled': test_pred_2}\n",
        "df_final_finalisimo = pd.DataFrame(data)"
      ],
      "metadata": {
        "id": "paIaNfhkIhEj"
      },
      "execution_count": 234,
      "outputs": []
    },
    {
      "cell_type": "code",
      "source": [
        "df_final_finalisimo.isna().any()"
      ],
      "metadata": {
        "colab": {
          "base_uri": "https://localhost:8080/"
        },
        "id": "NiJZ9y8cJEl1",
        "outputId": "a19abf2b-099a-4883-e5cf-549b73d8b9a0"
      },
      "execution_count": 235,
      "outputs": [
        {
          "output_type": "execute_result",
          "data": {
            "text/plain": [
              "id             False\n",
              "is_canceled    False\n",
              "dtype: bool"
            ]
          },
          "metadata": {},
          "execution_count": 235
        }
      ]
    },
    {
      "cell_type": "code",
      "source": [
        "# df_final_finalisimo.to_csv('submission.csv', index=False)\n"
      ],
      "metadata": {
        "id": "01vw-57_JKt7"
      },
      "execution_count": 236,
      "outputs": []
    }
  ]
}